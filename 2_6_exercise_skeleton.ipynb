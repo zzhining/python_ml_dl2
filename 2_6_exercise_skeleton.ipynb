{
  "nbformat": 4,
  "nbformat_minor": 0,
  "metadata": {
    "colab": {
      "provenance": [],
      "toc_visible": true,
      "authorship_tag": "ABX9TyMjjaNO+jmoHuUMjFxHGbCc",
      "include_colab_link": true
    },
    "kernelspec": {
      "name": "python3",
      "display_name": "Python 3"
    },
    "language_info": {
      "name": "python"
    }
  },
  "cells": [
    {
      "cell_type": "markdown",
      "metadata": {
        "id": "view-in-github",
        "colab_type": "text"
      },
      "source": [
        "<a href=\"https://colab.research.google.com/github/zzhining/python_ml_dl2/blob/main/2_6_exercise_skeleton.ipynb\" target=\"_parent\"><img src=\"https://colab.research.google.com/assets/colab-badge.svg\" alt=\"Open In Colab\"/></a>"
      ]
    },
    {
      "cell_type": "markdown",
      "source": [
        "# 문제1\n",
        "다음 붓꽃 데이터 셋을 활용하여 주성분 수(`n_component`)가 4를 갖도록 PCA변환을 수행하고, 그 결과 생성된 변수의 설명도(`explained_variance_ratio_`)를 출력하시오."
      ],
      "metadata": {
        "id": "r1BcF2M9EWhW"
      }
    },
    {
      "cell_type": "code",
      "execution_count": 6,
      "metadata": {
        "id": "3rZfxFzTETBj"
      },
      "outputs": [],
      "source": [
        "import pandas as pd\n",
        "from sklearn.datasets import load_iris\n",
        "\n",
        "# 데이터 불러오기\n",
        "iris = load_iris()\n",
        "df = pd.DataFrame(data=iris.data, columns=iris.feature_names)\n",
        "df['species'] = iris.target"
      ]
    },
    {
      "cell_type": "markdown",
      "source": [
        "<힌트>\n",
        "```\n",
        "PCA()\n",
        "```"
      ],
      "metadata": {
        "id": "kiMvjTi-EoyM"
      }
    },
    {
      "cell_type": "code",
      "source": [
        "# 코드 작성\n",
        "\n"
      ],
      "metadata": {
        "id": "yV_HZSYPEnLp"
      },
      "execution_count": 7,
      "outputs": []
    },
    {
      "cell_type": "markdown",
      "source": [
        "# 문제2\n",
        "문제 1의 붓꽃 데이터 셋(`df`)을 활용하여 주성분 수(`n_component`)가 2를 갖도록 PCA변환을 수행하고, 그 결과 생성된 변수를 각각 데이터프레임 df의 `pca_1`, `pca_2` 열에 추가하시오"
      ],
      "metadata": {
        "id": "NJlspDWgEwXh"
      }
    },
    {
      "cell_type": "markdown",
      "source": [
        "<힌트>\n",
        "```\n",
        "PCA()\n",
        "```"
      ],
      "metadata": {
        "id": "xMctzVuiE2MJ"
      }
    },
    {
      "cell_type": "code",
      "source": [
        "# 코드 작성\n",
        "\n"
      ],
      "metadata": {
        "id": "c3UBt0n0EzFc"
      },
      "execution_count": 8,
      "outputs": []
    },
    {
      "cell_type": "markdown",
      "source": [
        "# 문제3\n",
        "문제 2의 데이터프레임(`df`)의 `pca_1`, `pca_2` 열을 각각 x축, y축으로 설정하고, `species`에 따라 다른 값을 표시하도록 산점도(scatterplot)을 그려 시각화하시오."
      ],
      "metadata": {
        "id": "csRc0nWfE7nz"
      }
    },
    {
      "cell_type": "markdown",
      "source": [
        "<힌트>\n",
        "```\n",
        "sns.scatterplot()\n",
        "```"
      ],
      "metadata": {
        "id": "WearvGDvE_uL"
      }
    },
    {
      "cell_type": "code",
      "source": [
        "# 코드 작성\n",
        "\n"
      ],
      "metadata": {
        "id": "rWDpJNOOE-ZO"
      },
      "execution_count": 9,
      "outputs": []
    },
    {
      "cell_type": "code",
      "source": [],
      "metadata": {
        "id": "L5PX0O5XNmvS"
      },
      "execution_count": 9,
      "outputs": []
    }
  ]
}