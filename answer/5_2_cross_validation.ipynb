{
  "nbformat": 4,
  "nbformat_minor": 0,
  "metadata": {
    "colab": {
      "provenance": [],
      "authorship_tag": "ABX9TyMKZtZ7MJJ/1EONEZz3BaAa",
      "include_colab_link": true
    },
    "kernelspec": {
      "name": "python3",
      "display_name": "Python 3"
    },
    "language_info": {
      "name": "python"
    }
  },
  "cells": [
    {
      "cell_type": "markdown",
      "metadata": {
        "id": "view-in-github",
        "colab_type": "text"
      },
      "source": [
        "<a href=\"https://colab.research.google.com/github/zzhining/python_ml_dl2/blob/main/answer/5_2_cross_validation.ipynb\" target=\"_parent\"><img src=\"https://colab.research.google.com/assets/colab-badge.svg\" alt=\"Open In Colab\"/></a>"
      ]
    },
    {
      "cell_type": "markdown",
      "source": [
        "# 문제1\n",
        "붓꽃 데이터를 KFold를 사용하여 데이터를 붓꽃 데이터를 3등분하고, 각 분할에서 데이터가 어떻게 분할되었는지 확인해보시오."
      ],
      "metadata": {
        "id": "XVzM6wsyaKUF"
      }
    },
    {
      "cell_type": "code",
      "source": [
        "import numpy as np\n",
        "import pandas as pd\n",
        "from sklearn.datasets import load_iris\n",
        "\n",
        "# 데이터 불러오기\n",
        "X, y = load_iris(return_X_y=True)"
      ],
      "metadata": {
        "id": "WW0LPByNkez5"
      },
      "execution_count": 3,
      "outputs": []
    },
    {
      "cell_type": "markdown",
      "source": [
        "<힌트>\n",
        "```\n",
        "KFold()의 split()\n",
        "```"
      ],
      "metadata": {
        "id": "LtODScN5aNp5"
      }
    },
    {
      "cell_type": "code",
      "execution_count": 4,
      "metadata": {
        "id": "35ySvpPUkVC1",
        "colab": {
          "base_uri": "https://localhost:8080/"
        },
        "outputId": "e245ea4f-a6f7-4b33-f0b6-dec0bc6016d7"
      },
      "outputs": [
        {
          "output_type": "stream",
          "name": "stdout",
          "text": [
            "----------Fold 1----------\n",
            "검증 데이터의 인덱스:0~49\n",
            "학습용 데이터 범주: [1 2] 검증용 데이터 범주: [0]\n",
            "----------Fold 2----------\n",
            "검증 데이터의 인덱스:50~99\n",
            "학습용 데이터 범주: [0 2] 검증용 데이터 범주: [1]\n",
            "----------Fold 3----------\n",
            "검증 데이터의 인덱스:100~149\n",
            "학습용 데이터 범주: [0 1] 검증용 데이터 범주: [2]\n"
          ]
        }
      ],
      "source": [
        "# 코드 작성\n",
        "\n",
        "# KFold\n",
        "from sklearn.model_selection import KFold\n",
        "\n",
        "kf = KFold(n_splits=3)\n",
        "for fold, (train, valid) in enumerate(kf.split(X), 1):  # fold는 1부터 시작\n",
        "    print(f\"----------Fold {fold}----------\")\n",
        "    print('검증 데이터의 인덱스:{}~{}'.format(valid[0], valid[-1]))\n",
        "\n",
        "    X_train, X_test = X[train], X[valid]\n",
        "    y_train, y_test = y[train], y[valid]\n",
        "\n",
        "    print('학습용 데이터 범주:', np.unique(y_train),\n",
        "          '검증용 데이터 범주:', np.unique(y_test))"
      ]
    },
    {
      "cell_type": "markdown",
      "source": [
        "# 문제2\n",
        "붓꽃 데이터를 StratifiedKFold를 사용하여 데이터를 붓꽃 데이터를 3등분하고, 각 분할에서 데이터가 어떻게 분할되었는지 확인해보시오.\n",
        "\n",
        "<힌트>\n",
        "```\n",
        "StratifiedKFold()의 split()\n",
        "```"
      ],
      "metadata": {
        "id": "in7fThJmaVAD"
      }
    },
    {
      "cell_type": "code",
      "source": [
        "# 코드 작성\n",
        "\n",
        "# StratifiedKFold\n",
        "from sklearn.model_selection import StratifiedKFold\n",
        "\n",
        "kf = StratifiedKFold(n_splits=3)\n",
        "for fold, (train, valid) in enumerate(kf.split(X, y), 1):  # fold는 1부터 시작\n",
        "    print(f\"----------Fold {fold}----------\")\n",
        "\n",
        "    X_train, X_test = X[train], X[valid]\n",
        "    y_train, y_test = y[train], y[valid]\n",
        "\n",
        "    print('학습용 데이터 범주:', np.unique(y_train),\n",
        "          '검증용 데이터 범주:', np.unique(y_test))"
      ],
      "metadata": {
        "id": "fbWsnqHaki5d",
        "colab": {
          "base_uri": "https://localhost:8080/"
        },
        "outputId": "4f82f929-cad3-4586-d2a0-a6611612d1d5"
      },
      "execution_count": 5,
      "outputs": [
        {
          "output_type": "stream",
          "name": "stdout",
          "text": [
            "----------Fold 1----------\n",
            "학습용 데이터 범주: [0 1 2] 검증용 데이터 범주: [0 1 2]\n",
            "----------Fold 2----------\n",
            "학습용 데이터 범주: [0 1 2] 검증용 데이터 범주: [0 1 2]\n",
            "----------Fold 3----------\n",
            "학습용 데이터 범주: [0 1 2] 검증용 데이터 범주: [0 1 2]\n"
          ]
        }
      ]
    },
    {
      "cell_type": "markdown",
      "source": [
        "# 문제3\n",
        "문제 1에서 불러온 붓꽃 데이터를 사용하여 RandomForestClassifier()를 생성하여 교차검증을 하려고 한다. 교차검증은 데이터 셋을 3분할(3-fold)하여 수행하고, 각 교차검증의 수행 결과를 출력하시오."
      ],
      "metadata": {
        "id": "3nkjrTwoaeST"
      }
    },
    {
      "cell_type": "code",
      "source": [
        "from sklearn.ensemble import RandomForestClassifier\n",
        "\n",
        "model = RandomForestClassifier()"
      ],
      "metadata": {
        "id": "zuuxbtZNpueq"
      },
      "execution_count": 6,
      "outputs": []
    },
    {
      "cell_type": "markdown",
      "source": [
        "<힌트>\n",
        "```\n",
        "cross_validate()\n",
        "```\n"
      ],
      "metadata": {
        "id": "kIWtEKLzajCD"
      }
    },
    {
      "cell_type": "code",
      "source": [
        "# 코드 작성\n",
        "\n",
        "from sklearn.model_selection import cross_validate\n",
        "\n",
        "# 교차 검증 수행\n",
        "cv_results = cross_validate(model, X, y, cv=3)\n",
        "cv_results"
      ],
      "metadata": {
        "id": "FA54BLeamYtw",
        "colab": {
          "base_uri": "https://localhost:8080/"
        },
        "outputId": "1d02850a-1007-4975-c3b7-47c6f1721475"
      },
      "execution_count": 7,
      "outputs": [
        {
          "output_type": "execute_result",
          "data": {
            "text/plain": [
              "{'fit_time': array([0.28150249, 0.36048341, 0.27459812]),\n",
              " 'score_time': array([0.03315759, 0.01598191, 0.01336122]),\n",
              " 'test_score': array([0.98, 0.94, 0.96])}"
            ]
          },
          "metadata": {},
          "execution_count": 7
        }
      ]
    },
    {
      "cell_type": "code",
      "source": [],
      "metadata": {
        "id": "4jifIq6mo7Pa"
      },
      "execution_count": 7,
      "outputs": []
    }
  ]
}