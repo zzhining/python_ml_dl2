{
  "cells": [
    {
      "cell_type": "markdown",
      "metadata": {
        "id": "view-in-github",
        "colab_type": "text"
      },
      "source": [
        "<a href=\"https://colab.research.google.com/github/zzhining/python_ml_dl2/blob/main/answer/9_2_imdb_classifier.ipynb\" target=\"_parent\"><img src=\"https://colab.research.google.com/assets/colab-badge.svg\" alt=\"Open In Colab\"/></a>"
      ]
    },
    {
      "cell_type": "markdown",
      "source": [
        "데이터 준비\n"
      ],
      "metadata": {
        "id": "oFJ355nJJTLY"
      }
    },
    {
      "cell_type": "code",
      "source": [
        "import random\n",
        "import numpy as np\n",
        "import pandas as pd\n",
        "import tensorflow as tf\n",
        "from tensorflow.keras.datasets.imdb import load_data\n",
        "\n",
        "# 파이썬 랜덤 시드 설정\n",
        "random.seed(42)\n",
        "\n",
        "# NumPy 랜덤 시드 설정\n",
        "np.random.seed(42)\n",
        "\n",
        "# TensorFlow 시드 설정\n",
        "tf.random.set_seed(42)\n",
        "\n",
        "num_words = 20000    # 2만 개의 단어만 학습에 활용\n",
        "(x_train, y_train), (x_test, y_test) = load_data(num_words = num_words)\n",
        "\n",
        "x_train.shape, x_test.shape, y_train.shape, y_test.shape"
      ],
      "metadata": {
        "id": "6M5VCiR8ZrwS",
        "colab": {
          "base_uri": "https://localhost:8080/"
        },
        "outputId": "22a88463-fc52-4b67-ed5b-1a747d75624e"
      },
      "execution_count": 1,
      "outputs": [
        {
          "output_type": "execute_result",
          "data": {
            "text/plain": [
              "((25000,), (25000,), (25000,), (25000,))"
            ]
          },
          "metadata": {},
          "execution_count": 1
        }
      ]
    },
    {
      "cell_type": "markdown",
      "source": [
        "# 문제1\n",
        "\n",
        "불러온 IMDB 데이터 셋의 구성을 이해하기 위해 아래 항목을 확인하시오.\n",
        "-\t`x_train`의 첫번째 아이템의 값과 길이\n",
        "-\t`y_train` 범주의 유형"
      ],
      "metadata": {
        "id": "6I9l1sV-bj9v"
      }
    },
    {
      "cell_type": "code",
      "source": [
        "# 코드 작성\n",
        "\n",
        "# x_train의 첫번째 아이템의 값\n",
        "x_train[0]"
      ],
      "metadata": {
        "collapsed": true,
        "id": "EVJ7GUxna1R1",
        "colab": {
          "base_uri": "https://localhost:8080/"
        },
        "outputId": "3e759d96-ba89-49b2-a379-40f3d184c287"
      },
      "execution_count": 2,
      "outputs": [
        {
          "output_type": "execute_result",
          "data": {
            "text/plain": [
              "[1,\n",
              " 14,\n",
              " 22,\n",
              " 16,\n",
              " 43,\n",
              " 530,\n",
              " 973,\n",
              " 1622,\n",
              " 1385,\n",
              " 65,\n",
              " 458,\n",
              " 4468,\n",
              " 66,\n",
              " 3941,\n",
              " 4,\n",
              " 173,\n",
              " 36,\n",
              " 256,\n",
              " 5,\n",
              " 25,\n",
              " 100,\n",
              " 43,\n",
              " 838,\n",
              " 112,\n",
              " 50,\n",
              " 670,\n",
              " 2,\n",
              " 9,\n",
              " 35,\n",
              " 480,\n",
              " 284,\n",
              " 5,\n",
              " 150,\n",
              " 4,\n",
              " 172,\n",
              " 112,\n",
              " 167,\n",
              " 2,\n",
              " 336,\n",
              " 385,\n",
              " 39,\n",
              " 4,\n",
              " 172,\n",
              " 4536,\n",
              " 1111,\n",
              " 17,\n",
              " 546,\n",
              " 38,\n",
              " 13,\n",
              " 447,\n",
              " 4,\n",
              " 192,\n",
              " 50,\n",
              " 16,\n",
              " 6,\n",
              " 147,\n",
              " 2025,\n",
              " 19,\n",
              " 14,\n",
              " 22,\n",
              " 4,\n",
              " 1920,\n",
              " 4613,\n",
              " 469,\n",
              " 4,\n",
              " 22,\n",
              " 71,\n",
              " 87,\n",
              " 12,\n",
              " 16,\n",
              " 43,\n",
              " 530,\n",
              " 38,\n",
              " 76,\n",
              " 15,\n",
              " 13,\n",
              " 1247,\n",
              " 4,\n",
              " 22,\n",
              " 17,\n",
              " 515,\n",
              " 17,\n",
              " 12,\n",
              " 16,\n",
              " 626,\n",
              " 18,\n",
              " 19193,\n",
              " 5,\n",
              " 62,\n",
              " 386,\n",
              " 12,\n",
              " 8,\n",
              " 316,\n",
              " 8,\n",
              " 106,\n",
              " 5,\n",
              " 4,\n",
              " 2223,\n",
              " 5244,\n",
              " 16,\n",
              " 480,\n",
              " 66,\n",
              " 3785,\n",
              " 33,\n",
              " 4,\n",
              " 130,\n",
              " 12,\n",
              " 16,\n",
              " 38,\n",
              " 619,\n",
              " 5,\n",
              " 25,\n",
              " 124,\n",
              " 51,\n",
              " 36,\n",
              " 135,\n",
              " 48,\n",
              " 25,\n",
              " 1415,\n",
              " 33,\n",
              " 6,\n",
              " 22,\n",
              " 12,\n",
              " 215,\n",
              " 28,\n",
              " 77,\n",
              " 52,\n",
              " 5,\n",
              " 14,\n",
              " 407,\n",
              " 16,\n",
              " 82,\n",
              " 10311,\n",
              " 8,\n",
              " 4,\n",
              " 107,\n",
              " 117,\n",
              " 5952,\n",
              " 15,\n",
              " 256,\n",
              " 4,\n",
              " 2,\n",
              " 7,\n",
              " 3766,\n",
              " 5,\n",
              " 723,\n",
              " 36,\n",
              " 71,\n",
              " 43,\n",
              " 530,\n",
              " 476,\n",
              " 26,\n",
              " 400,\n",
              " 317,\n",
              " 46,\n",
              " 7,\n",
              " 4,\n",
              " 12118,\n",
              " 1029,\n",
              " 13,\n",
              " 104,\n",
              " 88,\n",
              " 4,\n",
              " 381,\n",
              " 15,\n",
              " 297,\n",
              " 98,\n",
              " 32,\n",
              " 2071,\n",
              " 56,\n",
              " 26,\n",
              " 141,\n",
              " 6,\n",
              " 194,\n",
              " 7486,\n",
              " 18,\n",
              " 4,\n",
              " 226,\n",
              " 22,\n",
              " 21,\n",
              " 134,\n",
              " 476,\n",
              " 26,\n",
              " 480,\n",
              " 5,\n",
              " 144,\n",
              " 30,\n",
              " 5535,\n",
              " 18,\n",
              " 51,\n",
              " 36,\n",
              " 28,\n",
              " 224,\n",
              " 92,\n",
              " 25,\n",
              " 104,\n",
              " 4,\n",
              " 226,\n",
              " 65,\n",
              " 16,\n",
              " 38,\n",
              " 1334,\n",
              " 88,\n",
              " 12,\n",
              " 16,\n",
              " 283,\n",
              " 5,\n",
              " 16,\n",
              " 4472,\n",
              " 113,\n",
              " 103,\n",
              " 32,\n",
              " 15,\n",
              " 16,\n",
              " 5345,\n",
              " 19,\n",
              " 178,\n",
              " 32]"
            ]
          },
          "metadata": {},
          "execution_count": 2
        }
      ]
    },
    {
      "cell_type": "code",
      "source": [
        "# x_train의 첫번째 아이템의 길이\n",
        "len(x_train[0])"
      ],
      "metadata": {
        "id": "soTGlqebcAEY",
        "colab": {
          "base_uri": "https://localhost:8080/"
        },
        "outputId": "21278336-fb01-48e6-d562-e8aadbee68ba"
      },
      "execution_count": 3,
      "outputs": [
        {
          "output_type": "execute_result",
          "data": {
            "text/plain": [
              "218"
            ]
          },
          "metadata": {},
          "execution_count": 3
        }
      ]
    },
    {
      "cell_type": "code",
      "source": [
        "import numpy as np\n",
        "# y_train 범주의 유형\n",
        "np.unique(y_train)"
      ],
      "metadata": {
        "id": "NdfhMKAUbvTL",
        "colab": {
          "base_uri": "https://localhost:8080/"
        },
        "outputId": "5ac7b034-29eb-4715-aa20-399036ee192e"
      },
      "execution_count": 4,
      "outputs": [
        {
          "output_type": "execute_result",
          "data": {
            "text/plain": [
              "array([0, 1])"
            ]
          },
          "metadata": {},
          "execution_count": 4
        }
      ]
    },
    {
      "cell_type": "markdown",
      "source": [
        "# 문제2\n",
        "`x_train`의 길이의 분포를 확인하시오."
      ],
      "metadata": {
        "id": "IPG1Cutf-0ZZ"
      }
    },
    {
      "cell_type": "code",
      "source": [
        "import pandas as pd\n",
        "import seaborn as sns\n",
        "\n",
        "# x_train의 분포를 확인하기 위해 x_train의 값과 길이를 담는 데이터 프레임을 생성\n",
        "df = pd.DataFrame(x_train, columns=['review'])\n",
        "df['length'] = df['review'].apply(lambda x: len(df['review'][x]))\n",
        "df['label'] = y_train\n",
        "\n",
        "# 리뷰의 길이가 담긴 ‘length’컬럼의 분포를 히스토그램으로 확인\n",
        "sns.histplot(df['length'], kde = True)"
      ],
      "metadata": {
        "id": "FI_nsg1matkG",
        "colab": {
          "base_uri": "https://localhost:8080/",
          "height": 467
        },
        "outputId": "0b21d7cd-587b-4f2d-f3ba-fb2890836155"
      },
      "execution_count": 5,
      "outputs": [
        {
          "output_type": "execute_result",
          "data": {
            "text/plain": [
              "<Axes: xlabel='length', ylabel='Count'>"
            ]
          },
          "metadata": {},
          "execution_count": 5
        },
        {
          "output_type": "display_data",
          "data": {
            "text/plain": [
              "<Figure size 640x480 with 1 Axes>"
            ],
            "image/png": "[encoded data removed]"
          },
          "metadata": {}
        }
      ]
    },
    {
      "cell_type": "code",
      "source": [
        "df['length'].describe()"
      ],
      "metadata": {
        "colab": {
          "base_uri": "https://localhost:8080/",
          "height": 334
        },
        "id": "R8BPi2om_IAS",
        "outputId": "d5f9786f-b337-47fb-d1c4-bbf50ca85cf6"
      },
      "execution_count": 6,
      "outputs": [
        {
          "output_type": "execute_result",
          "data": {
            "text/plain": [
              "count    25000.000000\n",
              "mean       238.713640\n",
              "std        176.497204\n",
              "min         11.000000\n",
              "25%        130.000000\n",
              "50%        178.000000\n",
              "75%        291.000000\n",
              "max       2494.000000\n",
              "Name: length, dtype: float64"
            ],
            "text/html": [
              "<div>\n",
              "<style scoped>\n",
              "    .dataframe tbody tr th:only-of-type {\n",
              "        vertical-align: middle;\n",
              "    }\n",
              "\n",
              "    .dataframe tbody tr th {\n",
              "        vertical-align: top;\n",
              "    }\n",
              "\n",
              "    .dataframe thead th {\n",
              "        text-align: right;\n",
              "    }\n",
              "</style>\n",
              "<table border=\"1\" class=\"dataframe\">\n",
              "  <thead>\n",
              "    <tr style=\"text-align: right;\">\n",
              "      <th></th>\n",
              "      <th>length</th>\n",
              "    </tr>\n",
              "  </thead>\n",
              "  <tbody>\n",
              "    <tr>\n",
              "      <th>count</th>\n",
              "      <td>25000.000000</td>\n",
              "    </tr>\n",
              "    <tr>\n",
              "      <th>mean</th>\n",
              "      <td>238.713640</td>\n",
              "    </tr>\n",
              "    <tr>\n",
              "      <th>std</th>\n",
              "      <td>176.497204</td>\n",
              "    </tr>\n",
              "    <tr>\n",
              "      <th>min</th>\n",
              "      <td>11.000000</td>\n",
              "    </tr>\n",
              "    <tr>\n",
              "      <th>25%</th>\n",
              "      <td>130.000000</td>\n",
              "    </tr>\n",
              "    <tr>\n",
              "      <th>50%</th>\n",
              "      <td>178.000000</td>\n",
              "    </tr>\n",
              "    <tr>\n",
              "      <th>75%</th>\n",
              "      <td>291.000000</td>\n",
              "    </tr>\n",
              "    <tr>\n",
              "      <th>max</th>\n",
              "      <td>2494.000000</td>\n",
              "    </tr>\n",
              "  </tbody>\n",
              "</table>\n",
              "</div><br><label><b>dtype:</b> float64</label>"
            ]
          },
          "metadata": {},
          "execution_count": 6
        }
      ]
    },
    {
      "cell_type": "markdown",
      "source": [
        "#문제3\n",
        "신경망의 입력층은 고정된 크기의 벡터를 입력으로 받기 때문에 `x_train`과 `x_test`의 변수의 길이를 맞추어주는 전처리 작업이 필요하다. 동일한 입력 시퀀스가 신경망의 입력으로 사용될 수 있도록 임계치를 설정하여, 임계치보다 리뷰의 길이가 길 경우에는 데이터를 자르고 임계치보다 짧을 경우에는 제로 패딩(zero padding)을 수행하여 길이를 맞추어 준다. `pad_sequence()`를 사용하여 입력변수의 길이를 300으로 맞추시오."
      ],
      "metadata": {
        "id": "9TIMTHrDdDCU"
      }
    },
    {
      "cell_type": "markdown",
      "source": [
        "<힌트>\n",
        "```\n",
        "from tensorflow.keras.preprocessing.sequence import pad_sequences\n",
        "```"
      ],
      "metadata": {
        "id": "UczUI7A2AHrh"
      }
    },
    {
      "cell_type": "code",
      "source": [
        "from tensorflow.keras.preprocessing.sequence import pad_sequences\n",
        "\n",
        " # 리뷰 문장 중 300 단어만 활용\n",
        "maxlen = 300\n",
        "x_train = pad_sequences(x_train, maxlen = maxlen)\n",
        "x_test = pad_sequences(x_test, maxlen = maxlen)\n",
        "\n",
        "x_train.shape, x_test.shape"
      ],
      "metadata": {
        "id": "vRRhbEBGfoff",
        "colab": {
          "base_uri": "https://localhost:8080/"
        },
        "outputId": "80476eca-c224-4c0a-f8ac-65d217b311d5"
      },
      "execution_count": 7,
      "outputs": [
        {
          "output_type": "execute_result",
          "data": {
            "text/plain": [
              "((25000, 300), (25000, 300))"
            ]
          },
          "metadata": {},
          "execution_count": 7
        }
      ]
    },
    {
      "cell_type": "markdown",
      "source": [
        "# 문제4\n",
        "문제3에서 전처리가 완료된 데이터를 사용하여 인공신경망을 구성하시오.\n",
        "-\t모델의 구성\n",
        "\n"
      ],
      "metadata": {
        "id": "SxWKKe-7czU7"
      }
    },
    {
      "cell_type": "markdown",
      "source": [
        "![image.png](data:image/png;base64,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)"
      ],
      "metadata": {
        "id": "hZ2cN66yCxTD"
      }
    },
    {
      "cell_type": "markdown",
      "source": [
        "\n",
        "-\tEmbedding: 입력 데이터를 128 차원으로 임베딩할 것\n",
        "-\tLSTM1: 양방향 LSTM, 256개의 노드를 생성, return_sequences = True\n",
        "-\tLSTM2: 양방향 LSTM, 128개의 노드를 생성\n",
        "\n",
        "<힌트>\n",
        "```\n",
        "from tensorflow.keras.models import Sequential\n",
        "from tensorflow.keras.layers import Embedding, Bidirectional, LSTM, Dense\n",
        "```"
      ],
      "metadata": {
        "id": "1tSviYVGCwu3"
      }
    },
    {
      "cell_type": "code",
      "source": [
        "from tensorflow.keras.models import Sequential\n",
        "from tensorflow.keras.layers import Embedding, Bidirectional, LSTM, Dense\n",
        "\n",
        "model = Sequential()\n",
        "# 입력 데이터를 128 차원 벡터로 임베딩\n",
        "model.add(Embedding(num_words, 128))\n",
        "# 양방향 LSTM\n",
        "model.add(Bidirectional(LSTM(256, return_sequences=True)))\n",
        "model.add(Bidirectional(LSTM(128)))\n",
        "# 분류기\n",
        "model.add(Dense(1, activation = 'sigmoid'))\n",
        "\n",
        "model.compile(loss='binary_crossentropy',\n",
        "              optimizer='adam',\n",
        "              metrics=['accuracy'])"
      ],
      "metadata": {
        "id": "scr0LOeeK4zT"
      },
      "execution_count": 8,
      "outputs": []
    },
    {
      "cell_type": "markdown",
      "source": [
        "# 문제5\n",
        "문제4에서 생성한 모델의 학습을 수행하시오.\n",
        "-\t학습 시, val_loss 값을 모니터링하여 5회 이상 성능이 개선되지 않을 경우 학습의 이른 종료를 수행할 것\n",
        "-\t학습 데이터의 20%는 검증용 데이터로 할당\n",
        "-\t배치 사이즈: 256, 에포크: 50"
      ],
      "metadata": {
        "id": "Xc3fBeOUAfbZ"
      }
    },
    {
      "cell_type": "code",
      "source": [
        "import os\n",
        "from tensorflow.keras.callbacks import ModelCheckpoint, EarlyStopping\n",
        "\n",
        "# 학습 결과를 저장하기 위한 환경 설정정\n",
        "MODEL_DIR = './model/'\n",
        "if not os.path.exists(MODEL_DIR):\n",
        "    os.mkdir(MODEL_DIR)\n",
        "modelpath=\"./model/{epoch:02d}-{val_loss:.2f}.keras\"\n",
        "\n",
        "# 학습 중 모니터링 할 조건 설정\n",
        "checkpointer = ModelCheckpoint(filepath=modelpath,\n",
        "                               monitor='val_loss',\n",
        "                               verbose=1,\n",
        "                               save_best_only=True)\n",
        "\n",
        "# 학습의 이른 종료를 위한 조건 설정\n",
        "early_stopping_callback = EarlyStopping(monitor='val_loss', patience=5)\n",
        "\n",
        "history = model.fit(x_train, y_train, batch_size=256, epochs=50,\n",
        "                    validation_split=0.2,\n",
        "                    callbacks=[early_stopping_callback, checkpointer])"
      ],
      "metadata": {
        "id": "QKKuvetSocvZ",
        "colab": {
          "base_uri": "https://localhost:8080/"
        },
        "outputId": "9e090e62-0858-4d1c-9064-a90e16f3d765"
      },
      "execution_count": 9,
      "outputs": [
        {
          "output_type": "stream",
          "name": "stdout",
          "text": [
            "Epoch 1/50\n",
            "\u001b[1m79/79\u001b[0m \u001b[32m━━━━━━━━━━━━━━━━━━━━\u001b[0m\u001b[37m\u001b[0m \u001b[1m0s\u001b[0m 268ms/step - accuracy: 0.6664 - loss: 0.5831\n",
            "Epoch 1: val_loss improved from inf to 0.36104, saving model to ./model/01-0.36.keras\n",
            "\u001b[1m79/79\u001b[0m \u001b[32m━━━━━━━━━━━━━━━━━━━━\u001b[0m\u001b[37m\u001b[0m \u001b[1m31s\u001b[0m 305ms/step - accuracy: 0.6675 - loss: 0.5820 - val_accuracy: 0.8476 - val_loss: 0.3610\n",
            "Epoch 2/50\n",
            "\u001b[1m79/79\u001b[0m \u001b[32m━━━━━━━━━━━━━━━━━━━━\u001b[0m\u001b[37m\u001b[0m \u001b[1m0s\u001b[0m 278ms/step - accuracy: 0.8815 - loss: 0.2934\n",
            "Epoch 2: val_loss improved from 0.36104 to 0.34490, saving model to ./model/02-0.34.keras\n",
            "\u001b[1m79/79\u001b[0m \u001b[32m━━━━━━━━━━━━━━━━━━━━\u001b[0m\u001b[37m\u001b[0m \u001b[1m40s\u001b[0m 313ms/step - accuracy: 0.8817 - loss: 0.2931 - val_accuracy: 0.8488 - val_loss: 0.3449\n",
            "Epoch 3/50\n",
            "\u001b[1m79/79\u001b[0m \u001b[32m━━━━━━━━━━━━━━━━━━━━\u001b[0m\u001b[37m\u001b[0m \u001b[1m0s\u001b[0m 283ms/step - accuracy: 0.9116 - loss: 0.2305\n",
            "Epoch 3: val_loss did not improve from 0.34490\n",
            "\u001b[1m79/79\u001b[0m \u001b[32m━━━━━━━━━━━━━━━━━━━━\u001b[0m\u001b[37m\u001b[0m \u001b[1m25s\u001b[0m 316ms/step - accuracy: 0.9114 - loss: 0.2309 - val_accuracy: 0.8028 - val_loss: 0.4350\n",
            "Epoch 4/50\n",
            "\u001b[1m79/79\u001b[0m \u001b[32m━━━━━━━━━━━━━━━━━━━━\u001b[0m\u001b[37m\u001b[0m \u001b[1m0s\u001b[0m 280ms/step - accuracy: 0.9147 - loss: 0.2340\n",
            "Epoch 4: val_loss did not improve from 0.34490\n",
            "\u001b[1m79/79\u001b[0m \u001b[32m━━━━━━━━━━━━━━━━━━━━\u001b[0m\u001b[37m\u001b[0m \u001b[1m41s\u001b[0m 313ms/step - accuracy: 0.9148 - loss: 0.2337 - val_accuracy: 0.8662 - val_loss: 0.3514\n",
            "Epoch 5/50\n",
            "\u001b[1m79/79\u001b[0m \u001b[32m━━━━━━━━━━━━━━━━━━━━\u001b[0m\u001b[37m\u001b[0m \u001b[1m0s\u001b[0m 283ms/step - accuracy: 0.9366 - loss: 0.1690\n",
            "Epoch 5: val_loss did not improve from 0.34490\n",
            "\u001b[1m79/79\u001b[0m \u001b[32m━━━━━━━━━━━━━━━━━━━━\u001b[0m\u001b[37m\u001b[0m \u001b[1m41s\u001b[0m 310ms/step - accuracy: 0.9367 - loss: 0.1688 - val_accuracy: 0.8526 - val_loss: 0.4676\n",
            "Epoch 6/50\n",
            "\u001b[1m79/79\u001b[0m \u001b[32m━━━━━━━━━━━━━━━━━━━━\u001b[0m\u001b[37m\u001b[0m \u001b[1m0s\u001b[0m 281ms/step - accuracy: 0.9501 - loss: 0.1401\n",
            "Epoch 6: val_loss did not improve from 0.34490\n",
            "\u001b[1m79/79\u001b[0m \u001b[32m━━━━━━━━━━━━━━━━━━━━\u001b[0m\u001b[37m\u001b[0m \u001b[1m41s\u001b[0m 314ms/step - accuracy: 0.9501 - loss: 0.1400 - val_accuracy: 0.8146 - val_loss: 0.5673\n",
            "Epoch 7/50\n",
            "\u001b[1m79/79\u001b[0m \u001b[32m━━━━━━━━━━━━━━━━━━━━\u001b[0m\u001b[37m\u001b[0m \u001b[1m0s\u001b[0m 285ms/step - accuracy: 0.9580 - loss: 0.1189\n",
            "Epoch 7: val_loss did not improve from 0.34490\n",
            "\u001b[1m79/79\u001b[0m \u001b[32m━━━━━━━━━━━━━━━━━━━━\u001b[0m\u001b[37m\u001b[0m \u001b[1m25s\u001b[0m 312ms/step - accuracy: 0.9580 - loss: 0.1188 - val_accuracy: 0.8454 - val_loss: 0.5383\n"
          ]
        }
      ]
    },
    {
      "cell_type": "code",
      "source": [
        "history_df = pd.DataFrame(history.history)\n",
        "history_df.loc[0:, ['accuracy', 'val_accuracy']].plot()"
      ],
      "metadata": {
        "id": "gF-5DdvefflF",
        "colab": {
          "base_uri": "https://localhost:8080/",
          "height": 448
        },
        "outputId": "aed18d68-0c63-4858-f359-60eec98cca95"
      },
      "execution_count": 10,
      "outputs": [
        {
          "output_type": "execute_result",
          "data": {
            "text/plain": [
              "<Axes: >"
            ]
          },
          "metadata": {},
          "execution_count": 10
        },
        {
          "output_type": "display_data",
          "data": {
            "text/plain": [
              "<Figure size 640x480 with 1 Axes>"
            ],
            "image/png": "[encoded data removed]"
          },
          "metadata": {}
        }
      ]
    },
    {
      "cell_type": "markdown",
      "source": [
        "# 문제6\n",
        "테스트 셋을 사용하여 문제5에서 학습한 모델의 정확도를 확인하시오."
      ],
      "metadata": {
        "id": "tHgBEh5fBDR-"
      }
    },
    {
      "cell_type": "code",
      "source": [
        "model.evaluate(x_test, y_test)"
      ],
      "metadata": {
        "id": "cc28y9xukI59",
        "colab": {
          "base_uri": "https://localhost:8080/"
        },
        "outputId": "2320dd88-40e0-42e6-9309-f1907a87432b"
      },
      "execution_count": 11,
      "outputs": [
        {
          "output_type": "stream",
          "name": "stdout",
          "text": [
            "\u001b[1m782/782\u001b[0m \u001b[32m━━━━━━━━━━━━━━━━━━━━\u001b[0m\u001b[37m\u001b[0m \u001b[1m20s\u001b[0m 26ms/step - accuracy: 0.8391 - loss: 0.5421\n"
          ]
        },
        {
          "output_type": "execute_result",
          "data": {
            "text/plain": [
              "[0.5429378747940063, 0.8398799896240234]"
            ]
          },
          "metadata": {},
          "execution_count": 11
        }
      ]
    },
    {
      "cell_type": "markdown",
      "source": [
        "<참고>"
      ],
      "metadata": {
        "id": "JAH980-2BH8a"
      }
    },
    {
      "cell_type": "code",
      "source": [
        "# 모델 구조 plot\n",
        "from tensorflow.keras.utils import plot_model\n",
        "plot_model(model, to_file='graph.png')"
      ],
      "metadata": {
        "id": "JBecpucEKgIM",
        "colab": {
          "base_uri": "https://localhost:8080/",
          "height": 839
        },
        "outputId": "16e8a8c6-0297-4f6e-cbe6-5b710886dedd"
      },
      "execution_count": 12,
      "outputs": [
        {
          "output_type": "execute_result",
          "data": {
            "image/png": "[encoded data removed]",
            "text/plain": [
              "<IPython.core.display.Image object>"
            ]
          },
          "metadata": {},
          "execution_count": 12
        }
      ]
    },
    {
      "cell_type": "code",
      "source": [],
      "metadata": {
        "id": "m4px-HL3Cig0"
      },
      "execution_count": null,
      "outputs": []
    }
  ],
  "metadata": {
    "accelerator": "GPU",
    "colab": {
      "provenance": [],
      "include_colab_link": true
    },
    "kernelspec": {
      "display_name": "Python 3",
      "language": "python",
      "name": "python3"
    },
    "language_info": {
      "codemirror_mode": {
        "name": "ipython",
        "version": 3
      },
      "file_extension": ".py",
      "mimetype": "text/x-python",
      "name": "python",
      "nbconvert_exporter": "python",
      "pygments_lexer": "ipython3",
      "version": "3.8.5"
    },
    "toc": {
      "base_numbering": 1,
      "nav_menu": {},
      "number_sections": false,
      "sideBar": true,
      "skip_h1_title": false,
      "title_cell": "Table of Contents",
      "title_sidebar": "Contents",
      "toc_cell": false,
      "toc_position": {},
      "toc_section_display": true,
      "toc_window_display": false
    }
  },
  "nbformat": 4,
  "nbformat_minor": 0
}