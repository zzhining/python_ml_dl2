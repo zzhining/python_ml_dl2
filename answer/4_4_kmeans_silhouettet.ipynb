{
  "nbformat": 4,
  "nbformat_minor": 0,
  "metadata": {
    "colab": {
      "provenance": [],
      "authorship_tag": "ABX9TyP+SF8GwYB0rOOKvC6+7v3/",
      "include_colab_link": true
    },
    "kernelspec": {
      "name": "python3",
      "display_name": "Python 3"
    },
    "language_info": {
      "name": "python"
    }
  },
  "cells": [
    {
      "cell_type": "markdown",
      "metadata": {
        "id": "view-in-github",
        "colab_type": "text"
      },
      "source": [
        "<a href=\"https://colab.research.google.com/github/zzhining/python_ml_dl2/blob/main/answer/4_4_kmeans_silhouettet.ipynb\" target=\"_parent\"><img src=\"https://colab.research.google.com/assets/colab-badge.svg\" alt=\"Open In Colab\"/></a>"
      ]
    },
    {
      "cell_type": "markdown",
      "source": [
        "# 문제1\n",
        "다음은 임의의 데이터 셋에 대해서 KMeans 군집 분석(K=2)을 수행한 후, 실루엣 점수를 계산한 결과이다. 주어진 데이터 셋으로 KMeans 군집 분석할 때 K값을 2~5의 값으로 설정하고자 할 때, 최적의 K값은 무엇인지 구하시오."
      ],
      "metadata": {
        "id": "MMPVKXs5Ypp5"
      }
    },
    {
      "cell_type": "code",
      "source": [
        "import numpy as np\n",
        "from sklearn.datasets import make_blobs\n",
        "from sklearn.cluster import KMeans\n",
        "from sklearn.metrics import silhouette_score\n",
        "\n",
        "# 간단한 데이터셋 생성 (두 개의 특성, 3개의 군집)\n",
        "X, y = make_blobs(n_samples=300, centers=3, random_state=42)\n",
        "\n",
        "kmeans = KMeans(n_clusters=2, random_state=42)\n",
        "kmeans.fit(X)\n",
        "\n",
        "# 군집 예측 결과\n",
        "y_pred = kmeans.predict(X)\n",
        "\n",
        "# 실루엣 점수 계산\n",
        "score = silhouette_score(X, y_pred)\n",
        "print(f\"K=2, Silhouette Score: {score:.3f}\")"
      ],
      "metadata": {
        "id": "7QlbsSRshWYO",
        "colab": {
          "base_uri": "https://localhost:8080/"
        },
        "outputId": "b8ae0882-2faa-4c42-9a0a-b764e36eaf57"
      },
      "execution_count": 1,
      "outputs": [
        {
          "output_type": "stream",
          "name": "stdout",
          "text": [
            "K=2, Silhouette Score: 0.705\n"
          ]
        }
      ]
    },
    {
      "cell_type": "code",
      "execution_count": 2,
      "metadata": {
        "id": "KuF8Keccffof",
        "colab": {
          "base_uri": "https://localhost:8080/"
        },
        "outputId": "6120bbaf-7104-4a0a-ca9d-a1fb9cc88d07"
      },
      "outputs": [
        {
          "output_type": "stream",
          "name": "stdout",
          "text": [
            "K=3, Silhouette Score: 0.848\n",
            "K=4, Silhouette Score: 0.676\n",
            "K=5, Silhouette Score: 0.496\n",
            "Best K: 3\n"
          ]
        }
      ],
      "source": [
        "# 코드 작성\n",
        "\n",
        "# 실루엣 점수 기록을 위한 리스트\n",
        "silhouette_scores = []\n",
        "\n",
        "# K 값을 3부터 5까지 변경하여 KMeans 모델 훈련\n",
        "for k in range(3, 6):\n",
        "    kmeans = KMeans(n_clusters=k, random_state=42)\n",
        "    kmeans.fit(X)\n",
        "\n",
        "    # 군집 예측 결과\n",
        "    y_pred = kmeans.predict(X)\n",
        "\n",
        "    # 실루엣 점수 계산\n",
        "    sil_score = silhouette_score(X, y_pred)\n",
        "    silhouette_scores.append(sil_score)\n",
        "\n",
        "    # 결과 출력\n",
        "    print(f\"K={k}, Silhouette Score: {sil_score:.3f}\")\n",
        "\n",
        "# 가장 좋은 K 값 찾기 (최고의 실루엣 점수)\n",
        "best_k = np.argmax(silhouette_scores) + 3  # 3부터 시작했으므로 인덱스에 3을 더함\n",
        "print(f\"Best K: {best_k}\")"
      ]
    },
    {
      "cell_type": "code",
      "source": [],
      "metadata": {
        "id": "1UaZ9bMwfhDz"
      },
      "execution_count": null,
      "outputs": []
    }
  ]
}