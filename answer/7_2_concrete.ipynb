{
  "nbformat": 4,
  "nbformat_minor": 0,
  "metadata": {
    "colab": {
      "provenance": [],
      "toc_visible": true,
      "authorship_tag": "ABX9TyN2yiZZodSvTfvnRaUsC5T/",
      "include_colab_link": true
    },
    "kernelspec": {
      "name": "python3",
      "display_name": "Python 3"
    },
    "language_info": {
      "name": "python"
    },
    "accelerator": "GPU",
    "gpuClass": "standard"
  },
  "cells": [
    {
      "cell_type": "markdown",
      "metadata": {
        "id": "view-in-github",
        "colab_type": "text"
      },
      "source": [
        "<a href=\"https://colab.research.google.com/github/zzhining/python_ml_dl2/blob/main/answer/7_2_concrete.ipynb\" target=\"_parent\"><img src=\"https://colab.research.google.com/assets/colab-badge.svg\" alt=\"Open In Colab\"/></a>"
      ]
    },
    {
      "cell_type": "markdown",
      "source": [
        "# 문제1\n",
        "주어진 데이터셋(`concrete.csv`)을 사용하여 콘크리트 강도를 예측하는 인공신경망을 작성하고 학습하시오.\n",
        "-\t독립변수: `Cement`, `BlastFurnaceSlag`, `FlyAsh`, `Water`, `Superplasticizer`, `CoarseAggregate`, `FineAggregate`, `Age`\n",
        "-\t타겟변수: `CompressiveStrength`\n",
        "-\t2개의 은닉층을 갖는 신경망을 생성: 첫번째 은닉층의 노드의 수 16개, 두번째 은닉층의 노드의 수 32개\n",
        "-\t학습 과정에서 학습용 데이터의 20%는 검증용으로 설정\n",
        "-\t`epochs`=50, `batch_size`=64\n",
        "-\t모델 학습 결과는 `histor`’ 변수에 저장\n"
      ],
      "metadata": {
        "id": "NYvkRCPMTlT_"
      }
    },
    {
      "cell_type": "code",
      "execution_count": null,
      "metadata": {
        "id": "SL9ld0ypULUb"
      },
      "outputs": [],
      "source": [
        "import random\n",
        "import numpy as np\n",
        "import pandas as pd\n",
        "import tensorflow as tf\n",
        "from sklearn.model_selection import train_test_split\n",
        "\n",
        "# 파이썬 랜덤 시드 설정\n",
        "random.seed(42)\n",
        "\n",
        "# NumPy 랜덤 시드 설정\n",
        "np.random.seed(42)\n",
        "\n",
        "# TensorFlow 시드 설정\n",
        "tf.random.set_seed(42)\n",
        "\n",
        "# 데이터 불러오기\n",
        "df = pd.read_csv('https://raw.githubusercontent.com/zzhining/python_ml_dl/main/dataset/concrete.csv')\n",
        "\n",
        "y = df['CompressiveStrength']\n",
        "X = df.drop(['CompressiveStrength'], axis=1)\n",
        "\n",
        "# 데이터분할\n",
        "X_train, X_test, y_train, y_test = train_test_split(X, y, random_state=42)"
      ]
    },
    {
      "cell_type": "code",
      "source": [
        "# 코드 작성\n",
        "\n",
        "from tensorflow.keras.models import Sequential\n",
        "from tensorflow.keras.layers import Dense\n",
        "\n",
        "# 모델의 설정\n",
        "model = Sequential()\n",
        "model.add(Dense(16, input_dim= X_train.shape[1], activation='relu'))\n",
        "model.add(Dense(32, activation='relu'))\n",
        "model.add(Dense(1, activation='relu'))\n",
        "\n",
        "# 모델 컴파일\n",
        "model.compile(loss='mse',\n",
        "            optimizer='adam',\n",
        "            metrics=['mse'])\n",
        "\n",
        "# 모델 실행\n",
        "history = model.fit(X_train, y_train,\n",
        "                    validation_split=0.2,\n",
        "                    epochs=50, batch_size=64)"
      ],
      "metadata": {
        "id": "2jZSnvobU4-G",
        "colab": {
          "base_uri": "https://localhost:8080/"
        },
        "outputId": "e983f268-7a5d-45e6-b04f-721fbb5cba40"
      },
      "execution_count": null,
      "outputs": [
        {
          "output_type": "stream",
          "name": "stdout",
          "text": [
            "Epoch 1/50\n"
          ]
        },
        {
          "output_type": "stream",
          "name": "stderr",
          "text": [
            "/usr/local/lib/python3.11/dist-packages/keras/src/layers/core/dense.py:87: UserWarning: Do not pass an `input_shape`/`input_dim` argument to a layer. When using Sequential models, prefer using an `Input(shape)` object as the first layer in the model instead.\n",
            "  super().__init__(activity_regularizer=activity_regularizer, **kwargs)\n"
          ]
        },
        {
          "output_type": "stream",
          "name": "stdout",
          "text": [
            "\u001b[1m10/10\u001b[0m \u001b[32m━━━━━━━━━━━━━━━━━━━━\u001b[0m\u001b[37m\u001b[0m \u001b[1m2s\u001b[0m 85ms/step - loss: 896.5060 - mse: 896.5060 - val_loss: 714.7846 - val_mse: 714.7846\n",
            "Epoch 2/50\n",
            "\u001b[1m10/10\u001b[0m \u001b[32m━━━━━━━━━━━━━━━━━━━━\u001b[0m\u001b[37m\u001b[0m \u001b[1m0s\u001b[0m 8ms/step - loss: 725.7877 - mse: 725.7877 - val_loss: 508.9955 - val_mse: 508.9955\n",
            "Epoch 3/50\n",
            "\u001b[1m10/10\u001b[0m \u001b[32m━━━━━━━━━━━━━━━━━━━━\u001b[0m\u001b[37m\u001b[0m \u001b[1m0s\u001b[0m 8ms/step - loss: 534.6733 - mse: 534.6733 - val_loss: 374.7786 - val_mse: 374.7786\n",
            "Epoch 4/50\n",
            "\u001b[1m10/10\u001b[0m \u001b[32m━━━━━━━━━━━━━━━━━━━━\u001b[0m\u001b[37m\u001b[0m \u001b[1m0s\u001b[0m 9ms/step - loss: 422.4598 - mse: 422.4598 - val_loss: 304.1714 - val_mse: 304.1714\n",
            "Epoch 5/50\n",
            "\u001b[1m10/10\u001b[0m \u001b[32m━━━━━━━━━━━━━━━━━━━━\u001b[0m\u001b[37m\u001b[0m \u001b[1m0s\u001b[0m 8ms/step - loss: 364.5658 - mse: 364.5658 - val_loss: 270.7996 - val_mse: 270.7996\n",
            "Epoch 6/50\n",
            "\u001b[1m10/10\u001b[0m \u001b[32m━━━━━━━━━━━━━━━━━━━━\u001b[0m\u001b[37m\u001b[0m \u001b[1m0s\u001b[0m 13ms/step - loss: 328.9770 - mse: 328.9770 - val_loss: 253.6254 - val_mse: 253.6254\n",
            "Epoch 7/50\n",
            "\u001b[1m10/10\u001b[0m \u001b[32m━━━━━━━━━━━━━━━━━━━━\u001b[0m\u001b[37m\u001b[0m \u001b[1m0s\u001b[0m 15ms/step - loss: 299.3151 - mse: 299.3151 - val_loss: 226.1665 - val_mse: 226.1665\n",
            "Epoch 8/50\n",
            "\u001b[1m10/10\u001b[0m \u001b[32m━━━━━━━━━━━━━━━━━━━━\u001b[0m\u001b[37m\u001b[0m \u001b[1m0s\u001b[0m 15ms/step - loss: 267.8522 - mse: 267.8522 - val_loss: 195.8819 - val_mse: 195.8819\n",
            "Epoch 9/50\n",
            "\u001b[1m10/10\u001b[0m \u001b[32m━━━━━━━━━━━━━━━━━━━━\u001b[0m\u001b[37m\u001b[0m \u001b[1m0s\u001b[0m 15ms/step - loss: 237.4329 - mse: 237.4329 - val_loss: 174.0333 - val_mse: 174.0333\n",
            "Epoch 10/50\n",
            "\u001b[1m10/10\u001b[0m \u001b[32m━━━━━━━━━━━━━━━━━━━━\u001b[0m\u001b[37m\u001b[0m \u001b[1m0s\u001b[0m 16ms/step - loss: 214.2699 - mse: 214.2699 - val_loss: 160.0085 - val_mse: 160.0085\n",
            "Epoch 11/50\n",
            "\u001b[1m10/10\u001b[0m \u001b[32m━━━━━━━━━━━━━━━━━━━━\u001b[0m\u001b[37m\u001b[0m \u001b[1m0s\u001b[0m 16ms/step - loss: 198.2027 - mse: 198.2027 - val_loss: 150.8293 - val_mse: 150.8293\n",
            "Epoch 12/50\n",
            "\u001b[1m10/10\u001b[0m \u001b[32m━━━━━━━━━━━━━━━━━━━━\u001b[0m\u001b[37m\u001b[0m \u001b[1m0s\u001b[0m 15ms/step - loss: 186.4961 - mse: 186.4961 - val_loss: 144.3339 - val_mse: 144.3339\n",
            "Epoch 13/50\n",
            "\u001b[1m10/10\u001b[0m \u001b[32m━━━━━━━━━━━━━━━━━━━━\u001b[0m\u001b[37m\u001b[0m \u001b[1m0s\u001b[0m 12ms/step - loss: 176.9089 - mse: 176.9089 - val_loss: 139.2767 - val_mse: 139.2767\n",
            "Epoch 14/50\n",
            "\u001b[1m10/10\u001b[0m \u001b[32m━━━━━━━━━━━━━━━━━━━━\u001b[0m\u001b[37m\u001b[0m \u001b[1m0s\u001b[0m 8ms/step - loss: 168.5059 - mse: 168.5059 - val_loss: 134.9906 - val_mse: 134.9906\n",
            "Epoch 15/50\n",
            "\u001b[1m10/10\u001b[0m \u001b[32m━━━━━━━━━━━━━━━━━━━━\u001b[0m\u001b[37m\u001b[0m \u001b[1m0s\u001b[0m 9ms/step - loss: 160.8701 - mse: 160.8701 - val_loss: 131.1248 - val_mse: 131.1248\n",
            "Epoch 16/50\n",
            "\u001b[1m10/10\u001b[0m \u001b[32m━━━━━━━━━━━━━━━━━━━━\u001b[0m\u001b[37m\u001b[0m \u001b[1m0s\u001b[0m 8ms/step - loss: 154.0665 - mse: 154.0665 - val_loss: 127.8257 - val_mse: 127.8257\n",
            "Epoch 17/50\n",
            "\u001b[1m10/10\u001b[0m \u001b[32m━━━━━━━━━━━━━━━━━━━━\u001b[0m\u001b[37m\u001b[0m \u001b[1m0s\u001b[0m 14ms/step - loss: 147.9693 - mse: 147.9693 - val_loss: 124.8259 - val_mse: 124.8259\n",
            "Epoch 18/50\n",
            "\u001b[1m10/10\u001b[0m \u001b[32m━━━━━━━━━━━━━━━━━━━━\u001b[0m\u001b[37m\u001b[0m \u001b[1m0s\u001b[0m 8ms/step - loss: 142.3856 - mse: 142.3856 - val_loss: 121.9468 - val_mse: 121.9468\n",
            "Epoch 19/50\n",
            "\u001b[1m10/10\u001b[0m \u001b[32m━━━━━━━━━━━━━━━━━━━━\u001b[0m\u001b[37m\u001b[0m \u001b[1m0s\u001b[0m 12ms/step - loss: 137.4100 - mse: 137.4100 - val_loss: 119.2664 - val_mse: 119.2664\n",
            "Epoch 20/50\n",
            "\u001b[1m10/10\u001b[0m \u001b[32m━━━━━━━━━━━━━━━━━━━━\u001b[0m\u001b[37m\u001b[0m \u001b[1m0s\u001b[0m 8ms/step - loss: 133.0692 - mse: 133.0692 - val_loss: 117.0333 - val_mse: 117.0333\n",
            "Epoch 21/50\n",
            "\u001b[1m10/10\u001b[0m \u001b[32m━━━━━━━━━━━━━━━━━━━━\u001b[0m\u001b[37m\u001b[0m \u001b[1m0s\u001b[0m 9ms/step - loss: 129.6165 - mse: 129.6165 - val_loss: 114.8480 - val_mse: 114.8480\n",
            "Epoch 22/50\n",
            "\u001b[1m10/10\u001b[0m \u001b[32m━━━━━━━━━━━━━━━━━━━━\u001b[0m\u001b[37m\u001b[0m \u001b[1m0s\u001b[0m 8ms/step - loss: 126.7328 - mse: 126.7328 - val_loss: 112.6537 - val_mse: 112.6537\n",
            "Epoch 23/50\n",
            "\u001b[1m10/10\u001b[0m \u001b[32m━━━━━━━━━━━━━━━━━━━━\u001b[0m\u001b[37m\u001b[0m \u001b[1m0s\u001b[0m 9ms/step - loss: 124.1951 - mse: 124.1951 - val_loss: 110.8699 - val_mse: 110.8699\n",
            "Epoch 24/50\n",
            "\u001b[1m10/10\u001b[0m \u001b[32m━━━━━━━━━━━━━━━━━━━━\u001b[0m\u001b[37m\u001b[0m \u001b[1m0s\u001b[0m 8ms/step - loss: 122.0768 - mse: 122.0768 - val_loss: 109.4003 - val_mse: 109.4003\n",
            "Epoch 25/50\n",
            "\u001b[1m10/10\u001b[0m \u001b[32m━━━━━━━━━━━━━━━━━━━━\u001b[0m\u001b[37m\u001b[0m \u001b[1m0s\u001b[0m 8ms/step - loss: 120.2392 - mse: 120.2392 - val_loss: 107.9776 - val_mse: 107.9776\n",
            "Epoch 26/50\n",
            "\u001b[1m10/10\u001b[0m \u001b[32m━━━━━━━━━━━━━━━━━━━━\u001b[0m\u001b[37m\u001b[0m \u001b[1m0s\u001b[0m 8ms/step - loss: 118.5138 - mse: 118.5138 - val_loss: 106.7825 - val_mse: 106.7825\n",
            "Epoch 27/50\n",
            "\u001b[1m10/10\u001b[0m \u001b[32m━━━━━━━━━━━━━━━━━━━━\u001b[0m\u001b[37m\u001b[0m \u001b[1m0s\u001b[0m 8ms/step - loss: 116.9603 - mse: 116.9603 - val_loss: 105.8258 - val_mse: 105.8258\n",
            "Epoch 28/50\n",
            "\u001b[1m10/10\u001b[0m \u001b[32m━━━━━━━━━━━━━━━━━━━━\u001b[0m\u001b[37m\u001b[0m \u001b[1m0s\u001b[0m 8ms/step - loss: 115.4717 - mse: 115.4717 - val_loss: 104.9001 - val_mse: 104.9001\n",
            "Epoch 29/50\n",
            "\u001b[1m10/10\u001b[0m \u001b[32m━━━━━━━━━━━━━━━━━━━━\u001b[0m\u001b[37m\u001b[0m \u001b[1m0s\u001b[0m 13ms/step - loss: 114.0321 - mse: 114.0321 - val_loss: 104.1133 - val_mse: 104.1133\n",
            "Epoch 30/50\n",
            "\u001b[1m10/10\u001b[0m \u001b[32m━━━━━━━━━━━━━━━━━━━━\u001b[0m\u001b[37m\u001b[0m \u001b[1m0s\u001b[0m 8ms/step - loss: 112.6599 - mse: 112.6599 - val_loss: 102.9274 - val_mse: 102.9274\n",
            "Epoch 31/50\n",
            "\u001b[1m10/10\u001b[0m \u001b[32m━━━━━━━━━━━━━━━━━━━━\u001b[0m\u001b[37m\u001b[0m \u001b[1m0s\u001b[0m 9ms/step - loss: 111.1016 - mse: 111.1016 - val_loss: 102.2514 - val_mse: 102.2514\n",
            "Epoch 32/50\n",
            "\u001b[1m10/10\u001b[0m \u001b[32m━━━━━━━━━━━━━━━━━━━━\u001b[0m\u001b[37m\u001b[0m \u001b[1m0s\u001b[0m 8ms/step - loss: 109.9647 - mse: 109.9647 - val_loss: 101.5619 - val_mse: 101.5619\n",
            "Epoch 33/50\n",
            "\u001b[1m10/10\u001b[0m \u001b[32m━━━━━━━━━━━━━━━━━━━━\u001b[0m\u001b[37m\u001b[0m \u001b[1m0s\u001b[0m 8ms/step - loss: 108.8053 - mse: 108.8053 - val_loss: 100.6002 - val_mse: 100.6002\n",
            "Epoch 34/50\n",
            "\u001b[1m10/10\u001b[0m \u001b[32m━━━━━━━━━━━━━━━━━━━━\u001b[0m\u001b[37m\u001b[0m \u001b[1m0s\u001b[0m 8ms/step - loss: 107.4659 - mse: 107.4659 - val_loss: 99.9296 - val_mse: 99.9296\n",
            "Epoch 35/50\n",
            "\u001b[1m10/10\u001b[0m \u001b[32m━━━━━━━━━━━━━━━━━━━━\u001b[0m\u001b[37m\u001b[0m \u001b[1m0s\u001b[0m 8ms/step - loss: 106.3701 - mse: 106.3701 - val_loss: 98.7558 - val_mse: 98.7558\n",
            "Epoch 36/50\n",
            "\u001b[1m10/10\u001b[0m \u001b[32m━━━━━━━━━━━━━━━━━━━━\u001b[0m\u001b[37m\u001b[0m \u001b[1m0s\u001b[0m 8ms/step - loss: 105.0372 - mse: 105.0372 - val_loss: 98.0533 - val_mse: 98.0533\n",
            "Epoch 37/50\n",
            "\u001b[1m10/10\u001b[0m \u001b[32m━━━━━━━━━━━━━━━━━━━━\u001b[0m\u001b[37m\u001b[0m \u001b[1m0s\u001b[0m 9ms/step - loss: 104.0807 - mse: 104.0807 - val_loss: 97.4056 - val_mse: 97.4056\n",
            "Epoch 38/50\n",
            "\u001b[1m10/10\u001b[0m \u001b[32m━━━━━━━━━━━━━━━━━━━━\u001b[0m\u001b[37m\u001b[0m \u001b[1m0s\u001b[0m 8ms/step - loss: 103.0460 - mse: 103.0460 - val_loss: 96.5589 - val_mse: 96.5589\n",
            "Epoch 39/50\n",
            "\u001b[1m10/10\u001b[0m \u001b[32m━━━━━━━━━━━━━━━━━━━━\u001b[0m\u001b[37m\u001b[0m \u001b[1m0s\u001b[0m 8ms/step - loss: 101.9863 - mse: 101.9863 - val_loss: 95.8161 - val_mse: 95.8161\n",
            "Epoch 40/50\n",
            "\u001b[1m10/10\u001b[0m \u001b[32m━━━━━━━━━━━━━━━━━━━━\u001b[0m\u001b[37m\u001b[0m \u001b[1m0s\u001b[0m 8ms/step - loss: 100.9632 - mse: 100.9632 - val_loss: 94.7326 - val_mse: 94.7326\n",
            "Epoch 41/50\n",
            "\u001b[1m10/10\u001b[0m \u001b[32m━━━━━━━━━━━━━━━━━━━━\u001b[0m\u001b[37m\u001b[0m \u001b[1m0s\u001b[0m 9ms/step - loss: 99.6814 - mse: 99.6814 - val_loss: 93.8235 - val_mse: 93.8235\n",
            "Epoch 42/50\n",
            "\u001b[1m10/10\u001b[0m \u001b[32m━━━━━━━━━━━━━━━━━━━━\u001b[0m\u001b[37m\u001b[0m \u001b[1m0s\u001b[0m 8ms/step - loss: 98.5756 - mse: 98.5756 - val_loss: 92.7269 - val_mse: 92.7269\n",
            "Epoch 43/50\n",
            "\u001b[1m10/10\u001b[0m \u001b[32m━━━━━━━━━━━━━━━━━━━━\u001b[0m\u001b[37m\u001b[0m \u001b[1m0s\u001b[0m 8ms/step - loss: 97.3559 - mse: 97.3559 - val_loss: 91.5505 - val_mse: 91.5505\n",
            "Epoch 44/50\n",
            "\u001b[1m10/10\u001b[0m \u001b[32m━━━━━━━━━━━━━━━━━━━━\u001b[0m\u001b[37m\u001b[0m \u001b[1m0s\u001b[0m 8ms/step - loss: 96.1655 - mse: 96.1655 - val_loss: 90.4602 - val_mse: 90.4602\n",
            "Epoch 45/50\n",
            "\u001b[1m10/10\u001b[0m \u001b[32m━━━━━━━━━━━━━━━━━━━━\u001b[0m\u001b[37m\u001b[0m \u001b[1m0s\u001b[0m 8ms/step - loss: 95.1164 - mse: 95.1164 - val_loss: 89.5582 - val_mse: 89.5582\n",
            "Epoch 46/50\n",
            "\u001b[1m10/10\u001b[0m \u001b[32m━━━━━━━━━━━━━━━━━━━━\u001b[0m\u001b[37m\u001b[0m \u001b[1m0s\u001b[0m 13ms/step - loss: 94.1557 - mse: 94.1557 - val_loss: 88.4554 - val_mse: 88.4554\n",
            "Epoch 47/50\n",
            "\u001b[1m10/10\u001b[0m \u001b[32m━━━━━━━━━━━━━━━━━━━━\u001b[0m\u001b[37m\u001b[0m \u001b[1m0s\u001b[0m 8ms/step - loss: 93.0190 - mse: 93.0190 - val_loss: 87.4014 - val_mse: 87.4014\n",
            "Epoch 48/50\n",
            "\u001b[1m10/10\u001b[0m \u001b[32m━━━━━━━━━━━━━━━━━━━━\u001b[0m\u001b[37m\u001b[0m \u001b[1m0s\u001b[0m 8ms/step - loss: 92.0191 - mse: 92.0191 - val_loss: 86.3583 - val_mse: 86.3583\n",
            "Epoch 49/50\n",
            "\u001b[1m10/10\u001b[0m \u001b[32m━━━━━━━━━━━━━━━━━━━━\u001b[0m\u001b[37m\u001b[0m \u001b[1m0s\u001b[0m 8ms/step - loss: 91.0213 - mse: 91.0213 - val_loss: 85.3455 - val_mse: 85.3455\n",
            "Epoch 50/50\n",
            "\u001b[1m10/10\u001b[0m \u001b[32m━━━━━━━━━━━━━━━━━━━━\u001b[0m\u001b[37m\u001b[0m \u001b[1m0s\u001b[0m 8ms/step - loss: 90.0482 - mse: 90.0482 - val_loss: 84.3541 - val_mse: 84.3541\n"
          ]
        }
      ]
    },
    {
      "cell_type": "markdown",
      "source": [
        "#문제2\n",
        "History는 학습 진행 과정에서 매 에폭마다 손실값과 평가 메트릭 값을 가지고 있는 사전형 자료이다. 문제1에서 인공신경망의 `history` 변수를 사용하여 학습 진행 사항을 그래프로 시각화하시오."
      ],
      "metadata": {
        "id": "5VkEwWj8T1Su"
      }
    },
    {
      "cell_type": "code",
      "source": [
        "# 코드 작성\n",
        "\n",
        "history_df = pd.DataFrame(history.history)\n",
        "history_df.loc[0:, ['loss', 'val_loss']].plot()"
      ],
      "metadata": {
        "colab": {
          "base_uri": "https://localhost:8080/",
          "height": 448
        },
        "id": "WhAwYrSXnQV1",
        "outputId": "478e0f9d-4462-4b94-c5f4-85bfee61a919"
      },
      "execution_count": null,
      "outputs": [
        {
          "output_type": "execute_result",
          "data": {
            "text/plain": [
              "<Axes: >"
            ]
          },
          "metadata": {},
          "execution_count": 14
        },
        {
          "output_type": "display_data",
          "data": {
            "text/plain": [
              "<Figure size 640x480 with 1 Axes>"
            ],
            "image/png": "[encoded data removed]"
          },
          "metadata": {}
        }
      ]
    },
    {
      "cell_type": "markdown",
      "source": [
        "# 문제3\n",
        "문제1에서 학습한 모델을 테스트 셋(`X_test`, `y_test`)을 사용하여 평가 지표를 출력하고, 테스트 셋의 첫번째 값(`X_test[0]`)의 예측값을 구하시오."
      ],
      "metadata": {
        "id": "Ajx91J8nnXBF"
      }
    },
    {
      "cell_type": "code",
      "source": [
        "# 코드 작성\n",
        "\n",
        "# 모델 평가\n",
        "model.evaluate(X_test, y_test)"
      ],
      "metadata": {
        "colab": {
          "base_uri": "https://localhost:8080/"
        },
        "id": "K1PQ64K_nQTL",
        "outputId": "72ca8b0d-b91d-4d01-f2a8-ea47bfca8b94"
      },
      "execution_count": null,
      "outputs": [
        {
          "output_type": "stream",
          "name": "stdout",
          "text": [
            "\u001b[1m9/9\u001b[0m \u001b[32m━━━━━━━━━━━━━━━━━━━━\u001b[0m\u001b[37m\u001b[0m \u001b[1m0s\u001b[0m 16ms/step - loss: 77.3353 - mse: 77.3353\n"
          ]
        },
        {
          "output_type": "execute_result",
          "data": {
            "text/plain": [
              "[80.44316101074219, 80.44316101074219]"
            ]
          },
          "metadata": {},
          "execution_count": 15
        }
      ]
    },
    {
      "cell_type": "code",
      "source": [
        "# 값 예측\n",
        "model.predict(X_test)[0]"
      ],
      "metadata": {
        "colab": {
          "base_uri": "https://localhost:8080/"
        },
        "id": "lF1qIDnFncio",
        "outputId": "40165098-29a0-4a69-ab9f-62391377275d"
      },
      "execution_count": null,
      "outputs": [
        {
          "output_type": "stream",
          "name": "stdout",
          "text": [
            "\u001b[1m9/9\u001b[0m \u001b[32m━━━━━━━━━━━━━━━━━━━━\u001b[0m\u001b[37m\u001b[0m \u001b[1m0s\u001b[0m 15ms/step\n"
          ]
        },
        {
          "output_type": "execute_result",
          "data": {
            "text/plain": [
              "array([44.085835], dtype=float32)"
            ]
          },
          "metadata": {},
          "execution_count": 16
        }
      ]
    },
    {
      "cell_type": "code",
      "source": [],
      "metadata": {
        "id": "9clIf1h_zX9A"
      },
      "execution_count": null,
      "outputs": []
    }
  ]
}