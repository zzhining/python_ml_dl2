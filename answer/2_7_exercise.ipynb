{
  "nbformat": 4,
  "nbformat_minor": 0,
  "metadata": {
    "colab": {
      "provenance": [],
      "toc_visible": true,
      "authorship_tag": "ABX9TyMcEUADSFexsICSCUJurE4/",
      "include_colab_link": true
    },
    "kernelspec": {
      "name": "python3",
      "display_name": "Python 3"
    },
    "language_info": {
      "name": "python"
    }
  },
  "cells": [
    {
      "cell_type": "markdown",
      "metadata": {
        "id": "view-in-github",
        "colab_type": "text"
      },
      "source": [
        "<a href=\"https://colab.research.google.com/github/zzhining/python_ml_dl2/blob/main/answer/2_7_exercise.ipynb\" target=\"_parent\"><img src=\"https://colab.research.google.com/assets/colab-badge.svg\" alt=\"Open In Colab\"/></a>"
      ]
    },
    {
      "cell_type": "markdown",
      "source": [
        "# 문제1\n",
        "주어진 데이터 X와 레이블 y를 학습용 데이터와 테스트 데이터로 분할하시오.\n",
        "-\t전체 데이터 중 25%를 테스트 데이터로 사용할 것\n",
        "-\t데이터 분할을 위한 랜덤 씨드는 42로 설정"
      ],
      "metadata": {
        "id": "r1BcF2M9EWhW"
      }
    },
    {
      "cell_type": "code",
      "execution_count": 1,
      "metadata": {
        "id": "3rZfxFzTETBj"
      },
      "outputs": [],
      "source": [
        "# 데이터\n",
        "X = [[1, 2], [3, 4], [5, 6], [7, 8]]\n",
        "y = [0, 1, 0, 1]"
      ]
    },
    {
      "cell_type": "markdown",
      "source": [
        "<힌트>\n",
        "```\n",
        "train_test_split()\n",
        "```"
      ],
      "metadata": {
        "id": "kiMvjTi-EoyM"
      }
    },
    {
      "cell_type": "code",
      "source": [
        "# 코드 작성\n",
        "\n",
        "from sklearn.model_selection import train_test_split\n",
        "\n",
        "# 데이터를 학습 데이터와 테스트 데이터로 나누기\n",
        "X_train, X_test, y_train, y_test = train_test_split(X, y, test_size=0.25, random_state=42)\n",
        "\n",
        "print(\"학습 데이터:\", X_train)\n",
        "print(\"테스트 데이터:\", X_test)"
      ],
      "metadata": {
        "colab": {
          "base_uri": "https://localhost:8080/"
        },
        "id": "yV_HZSYPEnLp",
        "outputId": "c9e3a463-2708-4d50-936c-7034e2bb9b70"
      },
      "execution_count": 3,
      "outputs": [
        {
          "output_type": "stream",
          "name": "stdout",
          "text": [
            "학습 데이터: [[7, 8], [1, 2], [5, 6]]\n",
            "테스트 데이터: [[3, 4]]\n"
          ]
        }
      ]
    },
    {
      "cell_type": "code",
      "source": [],
      "metadata": {
        "id": "L5PX0O5XNmvS"
      },
      "execution_count": 2,
      "outputs": []
    }
  ]
}