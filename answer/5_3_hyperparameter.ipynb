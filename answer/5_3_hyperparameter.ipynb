{
  "nbformat": 4,
  "nbformat_minor": 0,
  "metadata": {
    "colab": {
      "provenance": [],
      "authorship_tag": "ABX9TyN+78iD8ulCOIFKDyceBR3q",
      "include_colab_link": true
    },
    "kernelspec": {
      "name": "python3",
      "display_name": "Python 3"
    },
    "language_info": {
      "name": "python"
    }
  },
  "cells": [
    {
      "cell_type": "markdown",
      "metadata": {
        "id": "view-in-github",
        "colab_type": "text"
      },
      "source": [
        "<a href=\"https://colab.research.google.com/github/zzhining/python_ml_dl2/blob/main/answer/5_3_hyperparameter.ipynb\" target=\"_parent\"><img src=\"https://colab.research.google.com/assets/colab-badge.svg\" alt=\"Open In Colab\"/></a>"
      ]
    },
    {
      "cell_type": "markdown",
      "source": [
        "# 문제1\n",
        "붓꽃 데이터를 사용하여 DecisionTreeClassifer를 생성하려고 한다. 아래 조건을 참고하여 DecisionTreeClassifer의 하이퍼파라미터 튜닝을 진행하시오.\n",
        "\n",
        "- `GridSearchCV` 사용\n",
        "- 설정할 파라미터: { 'max_depth': [3, 5, 10], 'min_samples_split': [2, 5, 10], 'min_samples_leaf': [1, 2, 5] }\n",
        "- `scoring`: 정확도, cv: 5\n"
      ],
      "metadata": {
        "id": "p5880Y1sbV3R"
      }
    },
    {
      "cell_type": "code",
      "execution_count": 1,
      "metadata": {
        "id": "CtFeLuPCvvdx"
      },
      "outputs": [],
      "source": [
        "from sklearn.datasets import load_iris\n",
        "from sklearn.tree import DecisionTreeClassifier\n",
        "from sklearn.model_selection import train_test_split\n",
        "\n",
        "# 붓꽃 데이터셋 로드\n",
        "X, y = load_iris(return_X_y=True)\n",
        "\n",
        "# 훈련 데이터와 테스트 데이터로 분리\n",
        "X_train, X_test, y_train, y_test = train_test_split(X, y, test_size=0.3, random_state=42)\n",
        "\n",
        "# 의사결정나무 모델 정의\n",
        "dt = DecisionTreeClassifier(random_state=42)"
      ]
    },
    {
      "cell_type": "markdown",
      "source": [
        "<힌트>\n",
        "```\n",
        "GridSearchCV()\n",
        "```"
      ],
      "metadata": {
        "id": "UN76_NnabcYe"
      }
    },
    {
      "cell_type": "code",
      "source": [
        "# 코드 작성\n",
        "\n",
        "from sklearn.model_selection import GridSearchCV\n",
        "\n",
        "# 하이퍼파라미터 그리드 정의\n",
        "param_grid = {\n",
        "    'max_depth': [3, 5, 10],  # 최대 깊이\n",
        "    'min_samples_split': [2, 5, 10],  # 분할을 위한 최소 샘플 수\n",
        "    'min_samples_leaf': [1, 2, 5]  # 리프 노드의 최소 샘플 수\n",
        "}\n",
        "\n",
        "# GridSearchCV 객체 정의\n",
        "grid_search = GridSearchCV(estimator=dt, param_grid=param_grid, cv=5, scoring='accuracy')\n",
        "\n",
        "# 모델 학습\n",
        "grid_search.fit(X_train, y_train)\n",
        "\n",
        "# 최적 하이퍼파라미터 및 성능 출력\n",
        "print(f\"최적 조건: {grid_search.best_params_}\")\n",
        "print(f\"최적 성능: {round(grid_search.best_score_, 3)}\")\n",
        "\n",
        "# 테스트 데이터에 대한 성능 평가\n",
        "test_accuracy = grid_search.score(X_test, y_test)\n",
        "print(f\"테스트셋의 정확도: {test_accuracy}\")"
      ],
      "metadata": {
        "id": "fiqwOmuhv0XX",
        "colab": {
          "base_uri": "https://localhost:8080/"
        },
        "outputId": "8db76c99-c606-4f4c-e789-fd4a12f89109"
      },
      "execution_count": 2,
      "outputs": [
        {
          "output_type": "stream",
          "name": "stdout",
          "text": [
            "최적 조건: {'max_depth': 5, 'min_samples_leaf': 1, 'min_samples_split': 10}\n",
            "최적 성능: 0.943\n",
            "테스트셋의 정확도: 1.0\n"
          ]
        }
      ]
    },
    {
      "cell_type": "markdown",
      "source": [
        "# 문제2\n",
        "붓꽃 데이터를 사용하여 DecisionTreeClassifer를 생성하려고 한다. 아래 조건을 참고하여 DecisionTreeClassifer의 하이퍼파라미터 튜닝을 진행하시오.\n",
        "- `RandomizedSearchCV` 사용\n",
        "- 설정할 파라미터: {'max_depth': [3, 5, 10], 'min_samples_split': 2부터 20 사이의 임의 값 10개, 'min_samples_leaf': 1부터 20 사이의 임의 값 10개}\n",
        "- `scoring`: 정확도, `cv`: 5, `n_iter`: 100, `random_state`=42\n"
      ],
      "metadata": {
        "id": "8Vu2ZtqpbiR0"
      }
    },
    {
      "cell_type": "code",
      "source": [
        "# 코드 작성\n",
        "\n",
        "from sklearn.model_selection import RandomizedSearchCV\n",
        "import numpy as np\n",
        "\n",
        "# 하이퍼파라미터 분포 정의\n",
        "param_dist = {\n",
        "    'max_depth': [3, 5, 10],  # 최대 깊이\n",
        "    'min_samples_split': np.random.randint(1, 20, size=10),  # 2부터 20 사이의 임의 값 10개\n",
        "    'min_samples_leaf': np.random.randint(1, 20, size=10),  # 1부터 20 사이의 임의 값 10개\n",
        "}\n",
        "\n",
        "# RandomizedSearchCV 객체 정의\n",
        "random_search = RandomizedSearchCV(estimator=dt, param_distributions=param_dist, n_iter=100, cv=5, scoring='accuracy', random_state=42)\n",
        "\n",
        "# 모델 학습\n",
        "random_search.fit(X_train, y_train)\n",
        "\n",
        "# 최적 하이퍼파라미터 및 성능 출력\n",
        "print(f\"최적 조건: {random_search.best_params_}\")\n",
        "print(f\"최적 성능: {round(random_search.best_score_, 3)}\")\n",
        "\n",
        "# 테스트 데이터에 대한 성능 평가\n",
        "test_accuracy = random_search.score(X_test, y_test)\n",
        "print(f\"테스트셋의 정확도: {test_accuracy}\")"
      ],
      "metadata": {
        "id": "Vac0dQwVv5ai",
        "colab": {
          "base_uri": "https://localhost:8080/"
        },
        "outputId": "65b2a58b-c14c-4f0e-866a-4d5b4026fa1e"
      },
      "execution_count": 4,
      "outputs": [
        {
          "output_type": "stream",
          "name": "stdout",
          "text": [
            "최적 조건: {'min_samples_split': 12, 'min_samples_leaf': 4, 'max_depth': 5}\n",
            "최적 성능: 0.943\n",
            "테스트셋의 정확도: 1.0\n"
          ]
        }
      ]
    }
  ]
}