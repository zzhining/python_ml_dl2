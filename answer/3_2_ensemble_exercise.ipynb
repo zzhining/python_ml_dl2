{
  "cells": [
    {
      "cell_type": "markdown",
      "metadata": {
        "id": "view-in-github",
        "colab_type": "text"
      },
      "source": [
        "<a href=\"https://colab.research.google.com/github/zzhining/python_ml_dl2/blob/main/answer/3_2_ensemble_exercise.ipynb\" target=\"_parent\"><img src=\"https://colab.research.google.com/assets/colab-badge.svg\" alt=\"Open In Colab\"/></a>"
      ]
    },
    {
      "cell_type": "markdown",
      "metadata": {
        "id": "03ZCwN-Cm-_7"
      },
      "source": [
        "# 문제1\n",
        "주어진 코드를 사용하여 3개의 품종(`Versicolor`, `Setosa`, `Virginica`)을 분류하는 `RandomForest` 모델을 생성하고, 테스트 셋을 사용하여 평가지표를 확인하시오.\n",
        "- `RandomForest`는 `n_estimators`=100, `random_state`=42로 설정"
      ]
    },
    {
      "cell_type": "code",
      "execution_count": 1,
      "metadata": {
        "id": "QcB0pbuom-__"
      },
      "outputs": [],
      "source": [
        "# 패키지 로딩\n",
        "import numpy as np\n",
        "import pandas as pd\n",
        "from sklearn.datasets import load_iris\n",
        "from sklearn.model_selection import train_test_split\n",
        "\n",
        "# 데이터 로딩\n",
        "iris = load_iris()\n",
        "\n",
        "# 로딩한 데이터를 데이터 프레임으로 생성\n",
        "iris_df = pd.DataFrame(data=iris.data, columns=iris.feature_names)\n",
        "iris_df['label'] = iris.target\n",
        "\n",
        "# 데이터분할\n",
        "X = iris_df.iloc[:, :4]\n",
        "y = iris_df['label']\n",
        "\n",
        "# 학습용 데이터와 테스트용 데이터로 나눔\n",
        "X_train, X_test, y_train, y_test = train_test_split(X, y, random_state=42, stratify=y)"
      ]
    },
    {
      "cell_type": "code",
      "execution_count": 2,
      "metadata": {
        "colab": {
          "base_uri": "https://localhost:8080/"
        },
        "id": "SmsAvGBTm_AB",
        "outputId": "db57de99-e1c3-41e9-fe0c-fce1916776eb"
      },
      "outputs": [
        {
          "output_type": "execute_result",
          "data": {
            "text/plain": [
              "0.9210526315789473"
            ]
          },
          "metadata": {},
          "execution_count": 2
        }
      ],
      "source": [
        "# 코드 작성\n",
        "\n",
        "from sklearn.ensemble import RandomForestClassifier\n",
        "\n",
        "forest_model = RandomForestClassifier(n_estimators=100, random_state=42)\n",
        "forest_model.fit(X_train, y_train)\n",
        "forest_model.score(X_test, y_test)"
      ]
    },
    {
      "cell_type": "markdown",
      "source": [
        "# 문제 2\n",
        "문제1의 데이터셋을 사용하여 `GradientBoosting`, `XGB`, `LGBM` 모델을 생성하고, 각 모델 중 평가지표가 가장 좋은 모델이 무엇인지 확인하시오.\n",
        "\n"
      ],
      "metadata": {
        "id": "S-d-dMWENHtM"
      }
    },
    {
      "cell_type": "code",
      "execution_count": 7,
      "metadata": {
        "colab": {
          "base_uri": "https://localhost:8080/"
        },
        "id": "TYBR1jZCoGkg",
        "outputId": "eeff07b8-85e6-46d5-db38-c42e8463e563"
      },
      "outputs": [
        {
          "output_type": "stream",
          "name": "stdout",
          "text": [
            "GradientBoostingClassifier 정확도: 0.97\n",
            "XGBClassifier 정확도: 0.92\n",
            "LGBMClassifier 정확도: 0.84\n"
          ]
        }
      ],
      "source": [
        "# 코드 작성\n",
        "\n",
        "from sklearn.ensemble import GradientBoostingClassifier\n",
        "from xgboost import XGBClassifier\n",
        "from lightgbm import LGBMClassifier\n",
        "\n",
        "gbm_model = GradientBoostingClassifier(random_state=42, n_estimators=300)\n",
        "xgb_model = XGBClassifier(random_state=42, n_estimators=300)\n",
        "lgb_model = LGBMClassifier(random_state=42, n_estimators=300, verbose = -1)\n",
        "\n",
        "model_list = [gbm_model, xgb_model, lgb_model]\n",
        "\n",
        "for model in model_list:\n",
        "    model.fit(X_train , y_train)\n",
        "    score = model.score(X_test, y_test)\n",
        "    model_name = model.__class__.__name__\n",
        "    print('{0} 정확도: {1:.2f}'.format(model_name, score))"
      ]
    }
  ],
  "metadata": {
    "colab": {
      "provenance": [],
      "toc_visible": true,
      "include_colab_link": true
    },
    "kernelspec": {
      "display_name": "Python 3",
      "language": "python",
      "name": "python3"
    },
    "language_info": {
      "codemirror_mode": {
        "name": "ipython",
        "version": 3
      },
      "file_extension": ".py",
      "mimetype": "text/x-python",
      "name": "python",
      "nbconvert_exporter": "python",
      "pygments_lexer": "ipython3",
      "version": "3.8.5"
    },
    "toc": {
      "base_numbering": 1,
      "nav_menu": {},
      "number_sections": false,
      "sideBar": true,
      "skip_h1_title": false,
      "title_cell": "Table of Contents",
      "title_sidebar": "Contents",
      "toc_cell": false,
      "toc_position": {
        "height": "calc(100% - 180px)",
        "left": "10px",
        "top": "150px",
        "width": "228px"
      },
      "toc_section_display": true,
      "toc_window_display": true
    }
  },
  "nbformat": 4,
  "nbformat_minor": 0
}