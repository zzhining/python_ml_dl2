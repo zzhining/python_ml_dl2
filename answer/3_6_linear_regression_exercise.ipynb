{
  "cells": [
    {
      "cell_type": "markdown",
      "metadata": {
        "id": "view-in-github",
        "colab_type": "text"
      },
      "source": [
        "<a href=\"https://colab.research.google.com/github/zzhining/python_ml_dl2/blob/main/answer/3_6_linear_regression_exercise.ipynb\" target=\"_parent\"><img src=\"https://colab.research.google.com/assets/colab-badge.svg\" alt=\"Open In Colab\"/></a>"
      ]
    },
    {
      "cell_type": "markdown",
      "metadata": {
        "id": "ODBKkr4b8-Qz"
      },
      "source": [
        "# 문제1\n",
        "\n",
        "주어진 코드를 사용하여 꽃받침의 길이와 너비, 꽃잎의 길이를 독립변수로 하여 꽃잎의 너비를 예측하는 선형회귀모델을 생성하고, 테스트 셋을 사용하여 평가지표를 확인하시오.\n",
        "-\t선형회귀모델의 가중치와 절편을 확인할 것\n",
        "-\t선형회귀모델의 평가지표는 결정계수를 사용할 것"
      ]
    },
    {
      "cell_type": "code",
      "execution_count": 1,
      "metadata": {
        "id": "mxAgKiZe8-Q6"
      },
      "outputs": [],
      "source": [
        "# 패키지 로딩\n",
        "import numpy as np\n",
        "import pandas as pd\n",
        "from sklearn.datasets import load_iris\n",
        "from sklearn.model_selection import train_test_split\n",
        "\n",
        "# 데이터 로딩\n",
        "iris = load_iris()\n",
        "\n",
        "# 로딩한 데이터를 데이터 프레임으로 생성\n",
        "iris_df = pd.DataFrame(data=iris.data, columns=iris.feature_names)\n",
        "\n",
        "# 데이터분할\n",
        "y = iris_df['petal width (cm)']\n",
        "X = iris_df.drop(['petal width (cm)'], axis=1)\n",
        "\n",
        "X_train, X_test, y_train, y_test = train_test_split(X, y, random_state=42)"
      ]
    },
    {
      "cell_type": "code",
      "execution_count": 2,
      "metadata": {
        "id": "iW6HexLE8-Q9",
        "colab": {
          "base_uri": "https://localhost:8080/"
        },
        "outputId": "0358bd8e-24ea-46a7-b83b-5506f2f8c065"
      },
      "outputs": [
        {
          "output_type": "stream",
          "name": "stdout",
          "text": [
            "weight: [-0.24488106  0.24482729  0.53764071]\n",
            "bias: -0.1491639103657183\n",
            "선형 회귀 모델 R2: 0.94\n"
          ]
        }
      ],
      "source": [
        "# 코드 작성\n",
        "\n",
        "\n",
        "# 학습 모델1 - 선형 회귀 모델\n",
        "from sklearn.linear_model import LinearRegression\n",
        "lr_model = LinearRegression()\n",
        "\n",
        "# 학습\n",
        "lr_model.fit(X_train, y_train)\n",
        "print('weight:', lr_model.coef_)\n",
        "print('bias:',lr_model.intercept_)\n",
        "\n",
        "# 평가\n",
        "score = lr_model.score(X_test, y_test)\n",
        "print('선형 회귀 모델 R2: {0:.2f}'.format(score))\n"
      ]
    },
    {
      "cell_type": "markdown",
      "source": [
        "# 문제2\n",
        "\n",
        "문제1의 데이터셋을 사용하여 의사결정나무를 사용한 회귀 모델을 생성하고 평가 지표를 확인하시오.\n",
        "\n",
        "\n",
        "- 평가지표는 결정계수를 사용, `random_state=42`로 설정할 것"
      ],
      "metadata": {
        "id": "a6J5rfImtbYf"
      }
    },
    {
      "cell_type": "code",
      "source": [
        "from sklearn.tree import DecisionTreeRegressor\n",
        "\n",
        "# 학습 - DecisionTreeRegressor\n",
        "tree_model = DecisionTreeRegressor(random_state=42)\n",
        "tree_model.fit(X_train, y_train)\n",
        "\n",
        "# 평가\n",
        "score = tree_model.score(X_test, y_test)\n",
        "print('의사결정나무 R2: {0:.2f}'.format(score))"
      ],
      "metadata": {
        "id": "6Yt-rdY5bMcm",
        "colab": {
          "base_uri": "https://localhost:8080/"
        },
        "outputId": "340c9830-b931-4857-a37b-b475eca904dc"
      },
      "execution_count": 3,
      "outputs": [
        {
          "output_type": "stream",
          "name": "stdout",
          "text": [
            "의사결정나무 R2: 0.87\n"
          ]
        }
      ]
    },
    {
      "cell_type": "markdown",
      "source": [
        "# 문제3\n",
        "\n",
        "문제1의 데이터셋을 사용하여 RandomForest, LGBM, XGB을 생성하여 학습을 진행하고, 가장 성능이 좋은 모델을 확인하시오.\n",
        "\n",
        "\n",
        "- 평가지표는 결정계수를 사용, `random_state=42`, `n_estimator=100` 으로 설정할 것"
      ],
      "metadata": {
        "id": "PpxNLBNJt1us"
      }
    },
    {
      "cell_type": "code",
      "source": [
        "from sklearn.ensemble import RandomForestRegressor\n",
        "from lightgbm import LGBMRegressor\n",
        "from xgboost import XGBRegressor\n",
        "\n",
        "forest_model = RandomForestRegressor(random_state=42, n_estimators=100)\n",
        "lgb_model = LGBMRegressor(random_state=42, n_estimators=100, verbose=-1)\n",
        "xgb_model = XGBRegressor(random_state=42, n_estimators=100)\n",
        "\n",
        "model_list = [forest_model, lgb_model, xgb_model]\n",
        "for model in model_list:\n",
        "    model.fit(X_train, y_train)\n",
        "    score = model.score(X_test, y_test)\n",
        "    print(f'{model.__class__.__name__} R2: {score:.2f}')"
      ],
      "metadata": {
        "colab": {
          "base_uri": "https://localhost:8080/"
        },
        "id": "QCV-KHd9tzkX",
        "outputId": "f491f901-89ea-4c7e-a210-7add4093a2a2"
      },
      "execution_count": 5,
      "outputs": [
        {
          "output_type": "stream",
          "name": "stdout",
          "text": [
            "RandomForestRegressor R2: 0.94\n",
            "LGBMRegressor R2: 0.95\n",
            "XGBRegressor R2: 0.92\n"
          ]
        }
      ]
    },
    {
      "cell_type": "code",
      "source": [],
      "metadata": {
        "id": "Ui8Zg_ANuRos"
      },
      "execution_count": null,
      "outputs": []
    }
  ],
  "metadata": {
    "kernelspec": {
      "display_name": "Python 3",
      "language": "python",
      "name": "python3"
    },
    "language_info": {
      "codemirror_mode": {
        "name": "ipython",
        "version": 3
      },
      "file_extension": ".py",
      "mimetype": "text/x-python",
      "name": "python",
      "nbconvert_exporter": "python",
      "pygments_lexer": "ipython3",
      "version": "3.8.5"
    },
    "toc": {
      "base_numbering": 1,
      "nav_menu": {},
      "number_sections": false,
      "sideBar": true,
      "skip_h1_title": false,
      "title_cell": "Table of Contents",
      "title_sidebar": "Contents",
      "toc_cell": false,
      "toc_position": {
        "height": "calc(100% - 180px)",
        "left": "10px",
        "top": "150px",
        "width": "209px"
      },
      "toc_section_display": true,
      "toc_window_display": true
    },
    "colab": {
      "provenance": [],
      "include_colab_link": true
    }
  },
  "nbformat": 4,
  "nbformat_minor": 0
}