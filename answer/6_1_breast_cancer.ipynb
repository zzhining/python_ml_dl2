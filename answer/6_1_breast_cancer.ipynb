{
  "cells": [
    {
      "cell_type": "markdown",
      "metadata": {
        "id": "view-in-github",
        "colab_type": "text"
      },
      "source": [
        "<a href=\"https://colab.research.google.com/github/zzhining/python_ml_dl2/blob/main/answer/6_1_breast_cancer.ipynb\" target=\"_parent\"><img src=\"https://colab.research.google.com/assets/colab-badge.svg\" alt=\"Open In Colab\"/></a>"
      ]
    },
    {
      "cell_type": "markdown",
      "metadata": {
        "id": "gY6Re9u9eyUM"
      },
      "source": [
        "사이킷런의 내장 데이터 셋 중 하나인 [유방암 데이터 셋(breast_cancer)](https://scikit-learn.org/stable/modules/generated/sklearn.datasets.load_breast_cancer.html#sklearn.datasets.load_breast_cancer\n",
        ")을 사용하여 양성 여부(양성: 0/ 음성:1)를 예측하는 모델을 생성한다. 또한 양성 여부를 판단하는 데 있어서 가장 중요한 특징이 무엇인지도 확인해보자.\n",
        "* 코드 작성 시, 랜덤 씨드를 작성해야 하는 경우, 모두 42로 설정한다.\n",
        "* 특별한 조건이 없다면, 매개변수는 디폴트 값을 사용한다.\n"
      ]
    },
    {
      "cell_type": "markdown",
      "source": [
        "# 문제1\n",
        "데이터 셋을 불러오고, 아래 항목을 확인하시오.\n",
        "-\t데이터의 행과 열의 구조(shape)\n",
        "-\t`label`의 유형과 각 유형별 데이터의 개수\n",
        "-\t결측치, 중복값 존재 여부\n"
      ],
      "metadata": {
        "id": "szqfqoXszC_6"
      }
    },
    {
      "cell_type": "code",
      "source": [
        "import pandas as pd\n",
        "import seaborn as sns\n",
        "from sklearn.datasets import load_breast_cancer\n",
        "\n",
        "breast_cancer = load_breast_cancer()\n",
        "\n",
        "df = pd.DataFrame(data=breast_cancer.data, columns=breast_cancer.feature_names)\n",
        "df['label'] = breast_cancer.target"
      ],
      "metadata": {
        "id": "h499OHqizLvH"
      },
      "execution_count": 1,
      "outputs": []
    },
    {
      "cell_type": "code",
      "source": [
        "#데이터의 행과 열의 구조\n",
        "df.shape"
      ],
      "metadata": {
        "colab": {
          "base_uri": "https://localhost:8080/"
        },
        "id": "NqnoiiHrzbl4",
        "outputId": "b5cedb9a-0a9e-4b79-dc1b-a7774750cde9"
      },
      "execution_count": 2,
      "outputs": [
        {
          "output_type": "execute_result",
          "data": {
            "text/plain": [
              "(569, 31)"
            ]
          },
          "metadata": {},
          "execution_count": 2
        }
      ]
    },
    {
      "cell_type": "code",
      "execution_count": 3,
      "metadata": {
        "colab": {
          "base_uri": "https://localhost:8080/",
          "height": 178
        },
        "id": "vuB1ZCvTeyUR",
        "outputId": "47d3fc11-d0c0-4c81-cb07-3bb2f6383395"
      },
      "outputs": [
        {
          "output_type": "execute_result",
          "data": {
            "text/plain": [
              "label\n",
              "1    357\n",
              "0    212\n",
              "Name: count, dtype: int64"
            ],
            "text/html": [
              "<div>\n",
              "<style scoped>\n",
              "    .dataframe tbody tr th:only-of-type {\n",
              "        vertical-align: middle;\n",
              "    }\n",
              "\n",
              "    .dataframe tbody tr th {\n",
              "        vertical-align: top;\n",
              "    }\n",
              "\n",
              "    .dataframe thead th {\n",
              "        text-align: right;\n",
              "    }\n",
              "</style>\n",
              "<table border=\"1\" class=\"dataframe\">\n",
              "  <thead>\n",
              "    <tr style=\"text-align: right;\">\n",
              "      <th></th>\n",
              "      <th>count</th>\n",
              "    </tr>\n",
              "    <tr>\n",
              "      <th>label</th>\n",
              "      <th></th>\n",
              "    </tr>\n",
              "  </thead>\n",
              "  <tbody>\n",
              "    <tr>\n",
              "      <th>1</th>\n",
              "      <td>357</td>\n",
              "    </tr>\n",
              "    <tr>\n",
              "      <th>0</th>\n",
              "      <td>212</td>\n",
              "    </tr>\n",
              "  </tbody>\n",
              "</table>\n",
              "</div><br><label><b>dtype:</b> int64</label>"
            ]
          },
          "metadata": {},
          "execution_count": 3
        }
      ],
      "source": [
        "#‘label의 유형과 각 유형별 데이터의 개수\n",
        "df['label'].value_counts()"
      ]
    },
    {
      "cell_type": "code",
      "source": [
        "# 결측치 확인\n",
        "null_count = df.isnull().sum().sum()\n",
        "# 중복값 확인\n",
        "duplicated_count = df.duplicated().sum()\n",
        "\n",
        "print('결측치 개수:{}, 중복값 개수:{}'.format(null_count,duplicated_count))"
      ],
      "metadata": {
        "colab": {
          "base_uri": "https://localhost:8080/"
        },
        "id": "eoXgdrB4z6RQ",
        "outputId": "85551da8-6441-45ef-ae3f-749ea814121d"
      },
      "execution_count": 4,
      "outputs": [
        {
          "output_type": "stream",
          "name": "stdout",
          "text": [
            "결측치 개수:0, 중복값 개수:0\n"
          ]
        }
      ]
    },
    {
      "cell_type": "markdown",
      "source": [
        "# 문제2\n",
        "‘label’ 열을 제외한 나머지 컬럼을 독립변수(X)로 지정하고 ‘label’ 열은 종속변수(y)로 지정한다. 독립변수에 해당하는 열은 평균 0, 표준편차 1이 되도록 데이터를 변환하시오.\n"
      ],
      "metadata": {
        "id": "yAYzc0Tq0FDZ"
      }
    },
    {
      "cell_type": "code",
      "source": [
        "from sklearn.preprocessing import StandardScaler\n",
        "\n",
        "# 독립변수와 종속변수의 분할\n",
        "X = df.drop(['label'], axis = 1)\n",
        "y = df['label']\n",
        "\n",
        "# 스케일 변환\n",
        "scaler = StandardScaler()\n",
        "scaled_X = scaler.fit_transform(X)"
      ],
      "metadata": {
        "id": "fehTAy4G0Jwa"
      },
      "execution_count": 5,
      "outputs": []
    },
    {
      "cell_type": "markdown",
      "source": [
        "# 문제3\n",
        "학습용 데이터와 테스트용 데이터를 분할하시오.\n"
      ],
      "metadata": {
        "id": "R3h-1DbGXA3V"
      }
    },
    {
      "cell_type": "code",
      "source": [
        "from sklearn.model_selection import train_test_split\n",
        "\n",
        "# 학습용 데이터와 테스트용 데이터의 분할\n",
        "X_train, X_test, y_train, y_test = train_test_split(scaled_X, y, stratify = y, random_state=42)\n",
        "\n",
        "X_train.shape, X_test.shape"
      ],
      "metadata": {
        "colab": {
          "base_uri": "https://localhost:8080/"
        },
        "id": "bJMX6uHV1EI_",
        "outputId": "0e818ac2-d333-4e29-d624-a2e87afacf26"
      },
      "execution_count": 6,
      "outputs": [
        {
          "output_type": "execute_result",
          "data": {
            "text/plain": [
              "((426, 30), (143, 30))"
            ]
          },
          "metadata": {},
          "execution_count": 6
        }
      ]
    },
    {
      "cell_type": "markdown",
      "source": [
        "# 문제4\n",
        "다음의 모델을 생성하여 학습을 수행하고, 테스트 셋을 사용하여 각 모델 별 정확도를 소수점 넷째자리까지 출력하시오.\n",
        "-\t생성 모델: DecisionTree, KNN, SVM, Random Forest, Logistic Rgressor\n",
        "-\tRandom Forest의 n_estimator= 300으로 설정\n"
      ],
      "metadata": {
        "id": "5xHbuVDO1cvz"
      }
    },
    {
      "cell_type": "code",
      "source": [
        "from sklearn.tree import DecisionTreeClassifier\n",
        "from sklearn.neighbors import KNeighborsClassifier\n",
        "from sklearn.svm import SVC\n",
        "from sklearn.ensemble import RandomForestClassifier\n",
        "from sklearn.linear_model import LogisticRegression\n",
        "\n",
        "# 모델 인스턴스 생성\n",
        "tree_model = DecisionTreeClassifier(random_state=42)\n",
        "neighbor_model = KNeighborsClassifier(n_neighbors=5)\n",
        "svm_model = SVC(random_state=42)\n",
        "forest_model = RandomForestClassifier(n_estimators=300, random_state=42)\n",
        "logistic_model = LogisticRegression(random_state=42)\n",
        "\n",
        "model_list = [tree_model, neighbor_model, svm_model,\n",
        "              forest_model, logistic_model]\n",
        "\n",
        "# 모델의 학습 및 정확도 출력력\n",
        "for model in model_list:\n",
        "    model.fit(X_train , y_train)\n",
        "    score = model.score(X_test, y_test)\n",
        "    model_name = model.__class__.__name__\n",
        "    print('{0} 정확도: {1:.4f}'.format(model_name, score))"
      ],
      "metadata": {
        "colab": {
          "base_uri": "https://localhost:8080/"
        },
        "id": "KybEU5Il2BYY",
        "outputId": "c3c1d8a7-0d9d-48fb-eeb9-90971cbf39a2"
      },
      "execution_count": 7,
      "outputs": [
        {
          "output_type": "stream",
          "name": "stdout",
          "text": [
            "DecisionTreeClassifier 정확도: 0.9231\n",
            "KNeighborsClassifier 정확도: 0.9720\n",
            "SVC 정확도: 0.9790\n",
            "RandomForestClassifier 정확도: 0.9580\n",
            "LogisticRegression 정확도: 0.9860\n"
          ]
        }
      ]
    },
    {
      "cell_type": "markdown",
      "source": [
        "# 문제5\n",
        "문제 4에서 생성한 LogisticRegression 모델을 사용하여 혼동 행렬을 생성하고, 오분류 데이터의 개수를 확인하시오.\n"
      ],
      "metadata": {
        "id": "AKxwqoes2Q6w"
      }
    },
    {
      "cell_type": "code",
      "source": [
        "from sklearn.metrics import confusion_matrix\n",
        "from sklearn.metrics import ConfusionMatrixDisplay\n",
        "\n",
        "# 예측\n",
        "y_pred = logistic_model.predict(X_test)\n",
        "\n",
        "# 혼동행렬 생성\n",
        "cm = confusion_matrix(y_test, y_pred)\n",
        "\n",
        "# 혼동행렬 시각화\n",
        "cm_display = ConfusionMatrixDisplay(cm).plot()"
      ],
      "metadata": {
        "colab": {
          "base_uri": "https://localhost:8080/",
          "height": 449
        },
        "id": "MiswBKPt2VgM",
        "outputId": "1904d51a-16ce-4d47-d00d-b77608cc3488"
      },
      "execution_count": 8,
      "outputs": [
        {
          "output_type": "display_data",
          "data": {
            "text/plain": [
              "<Figure size 640x480 with 2 Axes>"
            ],
            "image/png": "[encoded data removed]"
          },
          "metadata": {}
        }
      ]
    },
    {
      "cell_type": "markdown",
      "source": [
        "# 문제6\n",
        "문제 4에서 생성한 LogisticRegression 모델을 사용하여 분류 모델의 평가지표(정확도, 정밀도, 재현율, f1-score)를 소수점 넷째자리까지 출력하시오. 유방암 예측 모델의 경우, 위의 4가지 지표 중 가장 중요도가 높은 평가 지표가 무엇인지 설명하시오.\n"
      ],
      "metadata": {
        "id": "_CGkoiR_2h0Q"
      }
    },
    {
      "cell_type": "code",
      "source": [
        "from sklearn.metrics import accuracy_score, precision_score, recall_score, f1_score\n",
        "\n",
        "accuracy = accuracy_score(y_test , y_pred)\n",
        "precision = precision_score(y_test , y_pred)\n",
        "recall = recall_score(y_test , y_pred)\n",
        "f1 = f1_score(y_test,y_pred)\n",
        "\n",
        "print('정확도: {:.4f}, 정밀도: {:.4f}, 재현율: {:.4f}, F1-score: {:.4f}'.\n",
        "      format(accuracy, precision, recall, f1))"
      ],
      "metadata": {
        "colab": {
          "base_uri": "https://localhost:8080/"
        },
        "id": "2pFubCG82i9H",
        "outputId": "4168a17c-b910-45bf-95c6-bfd3bef31ed4"
      },
      "execution_count": 9,
      "outputs": [
        {
          "output_type": "stream",
          "name": "stdout",
          "text": [
            "정확도: 0.9860, 정밀도: 0.9889, 재현율: 0.9889, F1-score: 0.9889\n"
          ]
        }
      ]
    },
    {
      "cell_type": "markdown",
      "source": [
        "# 문제7\n",
        "문제 4에서 생성한 Random Forest 모델의 GridSearchCV를 사용하여 하이퍼파라미터 튜닝을 수행하고자 한다. 주어진 조건을 사용하여 재현율이 가장 높은 최적 조건을 구하고, 그 때의 테스트 셋의 재현율을 확인하시오.\n"
      ],
      "metadata": {
        "id": "y54Va8Uc2vzn"
      }
    },
    {
      "cell_type": "code",
      "source": [
        "from sklearn.model_selection import GridSearchCV\n",
        "\n",
        "params = {\n",
        "    'n_estimators':[10, 100, 300],\n",
        "    'max_depth' : [2, 4, 6],\n",
        "}\n",
        "grid_cv = GridSearchCV(forest_model , param_grid=params , cv=3)\n",
        "grid_cv.fit(X_train , y_train)\n",
        "\n",
        "print('최적 조건:', grid_cv.best_params_)\n",
        "\n",
        "model = grid_cv.best_estimator_\n",
        "y_pred = model.predict(X_test)\n",
        "print('\\n 테스트 셋 재현율:{:.4f}'.format(precision_score(y_test, y_pred)))"
      ],
      "metadata": {
        "colab": {
          "base_uri": "https://localhost:8080/"
        },
        "id": "pwtcbbyC2zgG",
        "outputId": "056c553d-bc5a-4d22-d719-e192235aea93"
      },
      "execution_count": 12,
      "outputs": [
        {
          "output_type": "stream",
          "name": "stdout",
          "text": [
            "최적 조건: {'max_depth': 6, 'n_estimators': 100}\n",
            "\n",
            " 테스트 셋 재현율:0.9560\n"
          ]
        }
      ]
    },
    {
      "cell_type": "markdown",
      "source": [
        "#문제8\n",
        "문제 7에서 확인한 최적의 Random Forest 모델을 사용하여 주어진 데이터 셋을 학습시키고, 예측 결과에 가장 중요한 변수 5개를 확인하시오.\n"
      ],
      "metadata": {
        "id": "gPOwvFwa3GWm"
      }
    },
    {
      "cell_type": "code",
      "source": [
        "rf_feature_importances = pd.Series(data=model.feature_importances_, index=X.columns)\n",
        "rf_feature_importances.sort_values(ascending=False)[:5]"
      ],
      "metadata": {
        "colab": {
          "base_uri": "https://localhost:8080/",
          "height": 241
        },
        "id": "pfPgw_y3Ynes",
        "outputId": "26c7a976-b473-41c7-f6c7-84bd0c49aab7"
      },
      "execution_count": 18,
      "outputs": [
        {
          "output_type": "execute_result",
          "data": {
            "text/plain": [
              "worst area              0.152309\n",
              "worst concave points    0.127365\n",
              "mean concave points     0.103126\n",
              "worst radius            0.085575\n",
              "worst perimeter         0.083333\n",
              "dtype: float64"
            ],
            "text/html": [
              "<div>\n",
              "<style scoped>\n",
              "    .dataframe tbody tr th:only-of-type {\n",
              "        vertical-align: middle;\n",
              "    }\n",
              "\n",
              "    .dataframe tbody tr th {\n",
              "        vertical-align: top;\n",
              "    }\n",
              "\n",
              "    .dataframe thead th {\n",
              "        text-align: right;\n",
              "    }\n",
              "</style>\n",
              "<table border=\"1\" class=\"dataframe\">\n",
              "  <thead>\n",
              "    <tr style=\"text-align: right;\">\n",
              "      <th></th>\n",
              "      <th>0</th>\n",
              "    </tr>\n",
              "  </thead>\n",
              "  <tbody>\n",
              "    <tr>\n",
              "      <th>worst area</th>\n",
              "      <td>0.152309</td>\n",
              "    </tr>\n",
              "    <tr>\n",
              "      <th>worst concave points</th>\n",
              "      <td>0.127365</td>\n",
              "    </tr>\n",
              "    <tr>\n",
              "      <th>mean concave points</th>\n",
              "      <td>0.103126</td>\n",
              "    </tr>\n",
              "    <tr>\n",
              "      <th>worst radius</th>\n",
              "      <td>0.085575</td>\n",
              "    </tr>\n",
              "    <tr>\n",
              "      <th>worst perimeter</th>\n",
              "      <td>0.083333</td>\n",
              "    </tr>\n",
              "  </tbody>\n",
              "</table>\n",
              "</div><br><label><b>dtype:</b> float64</label>"
            ]
          },
          "metadata": {},
          "execution_count": 18
        }
      ]
    },
    {
      "cell_type": "code",
      "source": [],
      "metadata": {
        "id": "C2tFibmPYY0j"
      },
      "execution_count": null,
      "outputs": []
    }
  ],
  "metadata": {
    "kernelspec": {
      "display_name": "Python 3",
      "language": "python",
      "name": "python3"
    },
    "language_info": {
      "codemirror_mode": {
        "name": "ipython",
        "version": 3
      },
      "file_extension": ".py",
      "mimetype": "text/x-python",
      "name": "python",
      "nbconvert_exporter": "python",
      "pygments_lexer": "ipython3",
      "version": "3.8.5"
    },
    "toc": {
      "base_numbering": 1,
      "nav_menu": {},
      "number_sections": false,
      "sideBar": true,
      "skip_h1_title": false,
      "title_cell": "Table of Contents",
      "title_sidebar": "Contents",
      "toc_cell": false,
      "toc_position": {
        "height": "calc(100% - 180px)",
        "left": "10px",
        "top": "150px",
        "width": "299px"
      },
      "toc_section_display": true,
      "toc_window_display": true
    },
    "colab": {
      "provenance": [],
      "toc_visible": true,
      "include_colab_link": true
    }
  },
  "nbformat": 4,
  "nbformat_minor": 0
}