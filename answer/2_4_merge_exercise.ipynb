{
  "nbformat": 4,
  "nbformat_minor": 0,
  "metadata": {
    "colab": {
      "private_outputs": true,
      "provenance": [],
      "authorship_tag": "ABX9TyNo0pKyRvxAkR3LRcwj/ONc",
      "include_colab_link": true
    },
    "kernelspec": {
      "name": "python3",
      "display_name": "Python 3"
    },
    "language_info": {
      "name": "python"
    }
  },
  "cells": [
    {
      "cell_type": "markdown",
      "metadata": {
        "id": "view-in-github",
        "colab_type": "text"
      },
      "source": [
        "<a href=\"https://colab.research.google.com/github/zzhining/python_ml_dl2/blob/main/answer/2_4_merge_exercise.ipynb\" target=\"_parent\"><img src=\"https://colab.research.google.com/assets/colab-badge.svg\" alt=\"Open In Colab\"/></a>"
      ]
    },
    {
      "cell_type": "markdown",
      "source": [
        "# 문제1\n",
        "주어진 데이터프레임 df1과 df2를 행(row)기준으로 결합하는 코드를 작성하시오."
      ],
      "metadata": {
        "id": "r1BcF2M9EWhW"
      }
    },
    {
      "cell_type": "code",
      "execution_count": null,
      "metadata": {
        "id": "3rZfxFzTETBj"
      },
      "outputs": [],
      "source": [
        "import pandas as pd\n",
        "\n",
        "df1 = pd.DataFrame({\n",
        "    'ID': [1, 2, 3],\n",
        "    'Name': ['Alice', 'Bob', 'Charlie']\n",
        "})\n",
        "\n",
        "df2 = pd.DataFrame({\n",
        "    'ID': [4, 5, 6],\n",
        "    'Name': ['David', 'Eva', 'Frank']\n",
        "})"
      ]
    },
    {
      "cell_type": "markdown",
      "source": [
        "<힌트>\n",
        "```\n",
        "concat()\n",
        "```"
      ],
      "metadata": {
        "id": "kiMvjTi-EoyM"
      }
    },
    {
      "cell_type": "code",
      "source": [
        "# 코드 작성\n",
        "\n",
        "# 데이터프레임을 행 기준으로 연결 (위아래로 붙이기)\n",
        "result_concat = pd.concat([df1, df2], axis=0, ignore_index=True)\n",
        "print(result_concat)"
      ],
      "metadata": {
        "id": "yV_HZSYPEnLp"
      },
      "execution_count": null,
      "outputs": []
    },
    {
      "cell_type": "markdown",
      "source": [
        "# 문제2\n",
        "주어진 데이터프레임 df1과 df3를 열(column)기준으로 결합하는 코드를 작성하시오."
      ],
      "metadata": {
        "id": "NJlspDWgEwXh"
      }
    },
    {
      "cell_type": "code",
      "source": [
        "import pandas as pd\n",
        "\n",
        "df1 = pd.DataFrame({\n",
        "    'ID': [1, 2, 3],\n",
        "    'Name': ['Alice', 'Bob', 'Charlie']\n",
        "})\n",
        "\n",
        "df3 = pd.DataFrame({\n",
        "    'Age': [25, 30, 35]\n",
        "})"
      ],
      "metadata": {
        "id": "zwJ8Ci4jEuf4"
      },
      "execution_count": null,
      "outputs": []
    },
    {
      "cell_type": "markdown",
      "source": [
        "<힌트>\n",
        "```\n",
        "concat()\n",
        "```"
      ],
      "metadata": {
        "id": "xMctzVuiE2MJ"
      }
    },
    {
      "cell_type": "code",
      "source": [
        "# 코드 작성\n",
        "\n",
        "# 데이터프레임을 열 기준으로 연결 (좌우로 붙이기)\n",
        "result_concat_col = pd.concat([df1, df3], axis=1)\n",
        "print(result_concat_col)"
      ],
      "metadata": {
        "id": "c3UBt0n0EzFc"
      },
      "execution_count": null,
      "outputs": []
    },
    {
      "cell_type": "markdown",
      "source": [
        "# 문제3\n",
        "다음 샘플 데이터 프레임을 ‘ID’를 키로 설정하여 Inner join을 수행하시오"
      ],
      "metadata": {
        "id": "csRc0nWfE7nz"
      }
    },
    {
      "cell_type": "code",
      "source": [
        "import pandas as pd\n",
        "\n",
        "df1 = pd.DataFrame({\n",
        "    'ID': [1, 2, 3],\n",
        "    'Name': ['Alice', 'Bob', 'Charlie']\n",
        "})\n",
        "df4 = pd.DataFrame({\n",
        "    'ID': [1, 2, 3, 4],\n",
        "    'Score': [85, 90, 95, 80]\n",
        "})"
      ],
      "metadata": {
        "id": "kZ51ZQsvE5GE"
      },
      "execution_count": null,
      "outputs": []
    },
    {
      "cell_type": "markdown",
      "source": [
        "<힌트>\n",
        "```\n",
        "merge()\n",
        "```"
      ],
      "metadata": {
        "id": "WearvGDvE_uL"
      }
    },
    {
      "cell_type": "code",
      "source": [
        "# 두 데이터프레임을 'ID'를 기준으로 병합 (기본: inner join)\n",
        "result_merge = pd.merge(df1, df4, on='ID', how='inner')\n",
        "print(result_merge)"
      ],
      "metadata": {
        "id": "rWDpJNOOE-ZO"
      },
      "execution_count": null,
      "outputs": []
    },
    {
      "cell_type": "markdown",
      "source": [
        "# 문제4\n",
        "다음 샘플 데이터 프레임을 왼쪽 데이터 셋(df1)의 ‘ID’를 키로 설정하여 병합하시오."
      ],
      "metadata": {
        "id": "0fiiF8rIFLa2"
      }
    },
    {
      "cell_type": "code",
      "source": [
        "import pandas as pd\n",
        "\n",
        "df1 = pd.DataFrame({\n",
        "    'ID': [1, 2, 3],\n",
        "    'Name': ['Alice', 'Bob', 'Charlie']\n",
        "})\n",
        "df4 = pd.DataFrame({\n",
        "    'ID': [1, 2, 3, 4],\n",
        "    'Score': [85, 90, 95, 80]\n",
        "})"
      ],
      "metadata": {
        "id": "k-a6v1VSFGtH"
      },
      "execution_count": null,
      "outputs": []
    },
    {
      "cell_type": "markdown",
      "source": [
        "<힌트>\n",
        "```\n",
        "merge()\n",
        "```"
      ],
      "metadata": {
        "id": "eVRAGrdtFPIj"
      }
    },
    {
      "cell_type": "code",
      "source": [
        "# 코드 작성\n",
        "\n",
        "result_left = pd.merge(df1, df4, on='ID', how='left')\n",
        "print(result_left)"
      ],
      "metadata": {
        "id": "ZxsE4ZF2FPpu"
      },
      "execution_count": null,
      "outputs": []
    },
    {
      "cell_type": "markdown",
      "source": [
        "#문제5\n",
        "다음 샘플 데이터 프레임을 오른쪽 데이터 셋(df4)의 ‘ID’를 키로 설정하여 병합하시오."
      ],
      "metadata": {
        "id": "0FZMA1sgFX1v"
      }
    },
    {
      "cell_type": "code",
      "source": [
        "import pandas as pd\n",
        "\n",
        "\n",
        "df1 = pd.DataFrame({\n",
        "    'ID': [1, 2, 3],\n",
        "    'Name': ['Alice', 'Bob', 'Charlie']\n",
        "})\n",
        "df4 = pd.DataFrame({\n",
        "    'ID': [1, 2, 3, 4],\n",
        "    'Score': [85, 90, 95, 80]\n",
        "})"
      ],
      "metadata": {
        "id": "BuQq5I2VFWAs"
      },
      "execution_count": null,
      "outputs": []
    },
    {
      "cell_type": "markdown",
      "source": [
        "<힌트>\n",
        "```\n",
        "merge()\n",
        "```"
      ],
      "metadata": {
        "id": "k27m9w0UGQEq"
      }
    },
    {
      "cell_type": "code",
      "source": [
        "# 코드 작성\n",
        "\n",
        "result_left = pd.merge(df1, df4, on='ID', how='right')\n",
        "print(result_left)"
      ],
      "metadata": {
        "id": "6Kg3u0b_FbCZ"
      },
      "execution_count": null,
      "outputs": []
    },
    {
      "cell_type": "markdown",
      "source": [
        "# 문제6\n",
        "다음 샘플 데이터 프레임의 ‘ID’를 키로 설정하여 모든 데이터가 포함되도록 병합하시오."
      ],
      "metadata": {
        "id": "GQPUHx6tGE3A"
      }
    },
    {
      "cell_type": "code",
      "source": [
        "import pandas as pd\n",
        "\n",
        "df1 = pd.DataFrame({\n",
        "    'ID': [1, 2, 3],\n",
        "    'Name': ['Alice', 'Bob', 'Charlie']\n",
        "})\n",
        "df4 = pd.DataFrame({\n",
        "    'ID': [1, 2, 3, 4],\n",
        "    'Score': [85, 90, 95, 80]\n",
        "})"
      ],
      "metadata": {
        "id": "M1kwziSdFd2Y"
      },
      "execution_count": null,
      "outputs": []
    },
    {
      "cell_type": "markdown",
      "source": [
        "<힌트>\n",
        "```\n",
        "merge()\n",
        "```"
      ],
      "metadata": {
        "id": "m9uhs6elGRZe"
      }
    },
    {
      "cell_type": "code",
      "source": [
        "# 코드 작성\n",
        "\n",
        "result_left = pd.merge(df1, df4, on='ID', how='outer')\n",
        "print(result_left)"
      ],
      "metadata": {
        "id": "UpaE3mgUGJ8S"
      },
      "execution_count": null,
      "outputs": []
    },
    {
      "cell_type": "code",
      "source": [],
      "metadata": {
        "id": "efphvi_vGNN7"
      },
      "execution_count": null,
      "outputs": []
    }
  ]
}