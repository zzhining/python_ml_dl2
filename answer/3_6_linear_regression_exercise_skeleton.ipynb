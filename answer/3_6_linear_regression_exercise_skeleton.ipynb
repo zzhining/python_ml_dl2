{
  "cells": [
    {
      "cell_type": "markdown",
      "metadata": {
        "id": "view-in-github",
        "colab_type": "text"
      },
      "source": [
        "<a href=\"https://colab.research.google.com/github/zzhining/python_ml_dl2/blob/main/answer/3_6_linear_regression_exercise_skeleton.ipynb\" target=\"_parent\"><img src=\"https://colab.research.google.com/assets/colab-badge.svg\" alt=\"Open In Colab\"/></a>"
      ]
    },
    {
      "cell_type": "markdown",
      "metadata": {
        "id": "ODBKkr4b8-Qz"
      },
      "source": [
        "# 문제1\n",
        "\n",
        "주어진 코드를 사용하여 꽃받침의 길이와 너비, 꽃잎의 길이를 독립변수로 하여 꽃잎의 너비를 예측하는 선형회귀모델을 생성하고, 테스트 셋을 사용하여 평가지표를 확인하시오.\n",
        "-\t선형회귀모델의 가중치와 절편을 확인할 것\n",
        "-\t선형회귀모델의 평가지표는 결정계수를 사용할 것"
      ]
    },
    {
      "cell_type": "code",
      "execution_count": 1,
      "metadata": {
        "id": "mxAgKiZe8-Q6"
      },
      "outputs": [],
      "source": [
        "# 패키지 로딩\n",
        "import numpy as np\n",
        "import pandas as pd\n",
        "from sklearn.datasets import load_iris\n",
        "from sklearn.model_selection import train_test_split\n",
        "\n",
        "# 데이터 로딩\n",
        "iris = load_iris()\n",
        "\n",
        "# 로딩한 데이터를 데이터 프레임으로 생성\n",
        "iris_df = pd.DataFrame(data=iris.data, columns=iris.feature_names)\n",
        "\n",
        "# 데이터분할\n",
        "y = iris_df['petal width (cm)']\n",
        "X = iris_df.drop(['petal width (cm)'], axis=1)\n",
        "\n",
        "X_train, X_test, y_train, y_test = train_test_split(X, y, random_state=42)"
      ]
    },
    {
      "cell_type": "code",
      "execution_count": 2,
      "metadata": {
        "id": "iW6HexLE8-Q9",
        "colab": {
          "base_uri": "https://localhost:8080/"
        },
        "outputId": "528ecd90-e2fd-4ef0-d0e7-a4d49076d40c"
      },
      "outputs": [
        {
          "output_type": "stream",
          "name": "stdout",
          "text": [
            "weight: [-0.24488106  0.24482729  0.53764071]\n",
            "bias: -0.1491639103657183\n",
            "선형 회귀 모델 R2: 0.94\n"
          ]
        }
      ],
      "source": [
        "# 코드 작성\n",
        "\n",
        "\n",
        "# 학습 모델1 - 선형 회귀 모델\n",
        "from sklearn.linear_model import LinearRegression\n",
        "lr_model = LinearRegression()\n",
        "\n",
        "# 학습\n",
        "lr_model.fit(X_train, y_train)\n",
        "print('weight:', lr_model.coef_)\n",
        "print('bias:',lr_model.intercept_)\n",
        "\n",
        "# 평가\n",
        "score = lr_model.score(X_test, y_test)\n",
        "print('선형 회귀 모델 R2: {0:.2f}'.format(score))\n"
      ]
    },
    {
      "cell_type": "code",
      "source": [],
      "metadata": {
        "id": "6Yt-rdY5bMcm"
      },
      "execution_count": 2,
      "outputs": []
    }
  ],
  "metadata": {
    "kernelspec": {
      "display_name": "Python 3",
      "language": "python",
      "name": "python3"
    },
    "language_info": {
      "codemirror_mode": {
        "name": "ipython",
        "version": 3
      },
      "file_extension": ".py",
      "mimetype": "text/x-python",
      "name": "python",
      "nbconvert_exporter": "python",
      "pygments_lexer": "ipython3",
      "version": "3.8.5"
    },
    "toc": {
      "base_numbering": 1,
      "nav_menu": {},
      "number_sections": false,
      "sideBar": true,
      "skip_h1_title": false,
      "title_cell": "Table of Contents",
      "title_sidebar": "Contents",
      "toc_cell": false,
      "toc_position": {
        "height": "calc(100% - 180px)",
        "left": "10px",
        "top": "150px",
        "width": "209px"
      },
      "toc_section_display": true,
      "toc_window_display": true
    },
    "colab": {
      "provenance": [],
      "toc_visible": true,
      "include_colab_link": true
    }
  },
  "nbformat": 4,
  "nbformat_minor": 0
}