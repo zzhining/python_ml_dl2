{
  "nbformat": 4,
  "nbformat_minor": 0,
  "metadata": {
    "colab": {
      "private_outputs": true,
      "provenance": [],
      "authorship_tag": "ABX9TyO2ohG5LVyowO3enHNi/Cvz",
      "include_colab_link": true
    },
    "kernelspec": {
      "name": "python3",
      "display_name": "Python 3"
    },
    "language_info": {
      "name": "python"
    }
  },
  "cells": [
    {
      "cell_type": "markdown",
      "metadata": {
        "id": "view-in-github",
        "colab_type": "text"
      },
      "source": [
        "<a href=\"https://colab.research.google.com/github/zzhining/python_ml_dl2/blob/main/answer/4_2_agglomerative_clustering.ipynb\" target=\"_parent\"><img src=\"https://colab.research.google.com/assets/colab-badge.svg\" alt=\"Open In Colab\"/></a>"
      ]
    },
    {
      "cell_type": "markdown",
      "source": [
        "# 문제1\n",
        "다음은 붓꽃 데이터 셋에 대해 표준화를 수행한 결과(X_scaled)이다. X_scaled에 대해 병합 계층적 군집화(AgglomerativeClustering) 방식으로 클러스터링을 수행하고, 예측값을 확인하시오.\n",
        "-\t클러스터링 수: 3개\n",
        "-\t군집 간 거리 계산 방법: 와드 연결법\n"
      ],
      "metadata": {
        "id": "mMLJ-jekLG1m"
      }
    },
    {
      "cell_type": "code",
      "source": [
        "import numpy as np\n",
        "import pandas as pd\n",
        "from sklearn.datasets import load_iris\n",
        "from sklearn.preprocessing import StandardScaler\n",
        "\n",
        "# 붓꽃 데이터셋 로드\n",
        "data = load_iris()\n",
        "X = data.data\n",
        "y = data.target\n",
        "\n",
        "# 데이터 표준화 (스케일 조정)\n",
        "scaler = StandardScaler()\n",
        "X_scaled = scaler.fit_transform(X)"
      ],
      "metadata": {
        "id": "Q54vL8zqKRIB"
      },
      "execution_count": null,
      "outputs": []
    },
    {
      "cell_type": "markdown",
      "source": [
        "<힌트>\n",
        "```\n",
        "AgglomerativeClustering()\n",
        "\n",
        "```"
      ],
      "metadata": {
        "id": "Kg5rzOjLLN6k"
      }
    },
    {
      "cell_type": "code",
      "source": [
        "#코드 작성\n",
        "\n",
        "from sklearn.cluster import AgglomerativeClustering\n",
        "\n",
        "# AgglomerativeClustering - 병합 계층적 군집화\n",
        "model = AgglomerativeClustering(n_clusters=3, linkage='ward')\n",
        "y_pred = model.fit_predict(X_scaled)"
      ],
      "metadata": {
        "id": "TmUKqvnpKX2r"
      },
      "execution_count": null,
      "outputs": []
    },
    {
      "cell_type": "markdown",
      "source": [
        "# 문제2\n",
        "\n",
        "문제 1에서 예측한 군집 결과와 원본 데이터에 대해서 시각화 하시오.\n",
        "-\t시각화 방법: 산점도(scatter plot)\n",
        "-\tx축: X_scaled 4개의 특성 중 [0] 값, y축: X_scaled 4개의 특성 중 [1] 값\n",
        "-\t각 군집에 따라 다른 색상으로 표시\n",
        "\n",
        "<힌트>\n",
        "```\n",
        "sns.scatterplot()\n",
        "```"
      ],
      "metadata": {
        "id": "cDnpatpdLVyh"
      }
    },
    {
      "cell_type": "code",
      "source": [
        "#코드 작성\n",
        "\n",
        "import matplotlib.pyplot as plt\n",
        "import seaborn as sns\n",
        "\n",
        "# 군집화 결과 시각화 (산점도)\n",
        "fig, ax = plt.subplots(ncols=2, figsize=(16, 4))\n",
        "\n",
        "# 첫 번째 서브플롯: 군집화된 결과\n",
        "sns.scatterplot(x=X_scaled[:, 0], y=X_scaled[:, 1], hue=y_pred, palette='Set1', ax=ax[0])\n",
        "ax[0].set_title(\"Agglomerative Clustering Results\")\n",
        "\n",
        "# 두 번째 서브플롯: 실제 붓꽃 데이터의 클래스\n",
        "sns.scatterplot(x=X_scaled[:, 0], y=X_scaled[:, 1], hue=y, palette='Set1', ax=ax[1])\n",
        "ax[1].set_title(\"Actual Iris Classes\")\n",
        "\n",
        "plt.show()"
      ],
      "metadata": {
        "id": "Abx65c_zKdrd"
      },
      "execution_count": null,
      "outputs": []
    },
    {
      "cell_type": "markdown",
      "source": [
        "# 문제3\n",
        "문제 1의 주어진 X_scaled 데이터에 대해 덴드로그램을 그리시오.\n",
        "-\t군집 간 거리 계산방법: 와드 연결법\n",
        "-\tlabel: 붓꽃 데이터의 품종\n",
        "\n",
        "<힌트>\n",
        "```\n",
        "linkage()\n",
        "dendrogram()\n",
        "```\n"
      ],
      "metadata": {
        "id": "DYcohIrsLh4J"
      }
    },
    {
      "cell_type": "code",
      "execution_count": null,
      "metadata": {
        "id": "JCHf7eoXJ5ux"
      },
      "outputs": [],
      "source": [
        "#코드 작성\n",
        "\n",
        "from scipy.cluster.hierarchy import dendrogram, linkage\n",
        "\n",
        "# 덴드로그램 생성 (계층적 군집화의 트리 구조 확인)\n",
        "linked = linkage(X_scaled, method='ward')\n",
        "\n",
        "plt.figure(figsize=(10, 8))\n",
        "dendrogram(linked, labels=data.target_names[y])\n",
        "plt.title(\"Dendrogram for Agglomerative Clustering\")\n",
        "plt.show()"
      ]
    },
    {
      "cell_type": "code",
      "source": [],
      "metadata": {
        "id": "0L8Hg9eCKCoi"
      },
      "execution_count": null,
      "outputs": []
    }
  ]
}