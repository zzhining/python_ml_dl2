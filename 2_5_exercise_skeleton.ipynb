{
  "nbformat": 4,
  "nbformat_minor": 0,
  "metadata": {
    "colab": {
      "provenance": [],
      "toc_visible": true,
      "authorship_tag": "ABX9TyO8L11bSKxdVTiK6yx8AQnc",
      "include_colab_link": true
    },
    "kernelspec": {
      "name": "python3",
      "display_name": "Python 3"
    },
    "language_info": {
      "name": "python"
    }
  },
  "cells": [
    {
      "cell_type": "markdown",
      "metadata": {
        "id": "view-in-github",
        "colab_type": "text"
      },
      "source": [
        "<a href=\"https://colab.research.google.com/github/zzhining/python_ml_dl2/blob/main/2_5_exercise_skeleton.ipynb\" target=\"_parent\"><img src=\"https://colab.research.google.com/assets/colab-badge.svg\" alt=\"Open In Colab\"/></a>"
      ]
    },
    {
      "cell_type": "markdown",
      "source": [
        "# 문제1\n",
        "주어진 데이터프레임 df를 사용하여 과목별 평균 점수를 구하시오."
      ],
      "metadata": {
        "id": "r1BcF2M9EWhW"
      }
    },
    {
      "cell_type": "code",
      "execution_count": 1,
      "metadata": {
        "id": "3rZfxFzTETBj"
      },
      "outputs": [],
      "source": [
        "import pandas as pd\n",
        "\n",
        "data = {\n",
        "    '이름': ['혜슬', '혜슬', '철수', '영희', '철수', '영희'],\n",
        "    '과목': ['수학', '과학', '수학', '과학', '과학', '수학'],\n",
        "    '점수': [85, 90, 78, 88, 95, 80]\n",
        "}\n",
        "\n",
        "df = pd.DataFrame(data)"
      ]
    },
    {
      "cell_type": "markdown",
      "source": [
        "<힌트>\n",
        "```\n",
        "groupby()\n",
        "```"
      ],
      "metadata": {
        "id": "kiMvjTi-EoyM"
      }
    },
    {
      "cell_type": "code",
      "source": [
        "# 코드 작성\n",
        "\n"
      ],
      "metadata": {
        "id": "yV_HZSYPEnLp"
      },
      "execution_count": 2,
      "outputs": []
    },
    {
      "cell_type": "markdown",
      "source": [
        "# 문제2\n",
        "주어진 데이터프레임 df를 사용하여 학생별, 과목별 평균 점수를 구하시오."
      ],
      "metadata": {
        "id": "NJlspDWgEwXh"
      }
    },
    {
      "cell_type": "code",
      "source": [
        "import pandas as pd\n",
        "\n",
        "data = {\n",
        "    '이름': ['혜슬', '혜슬', '철수', '영희', '철수', '영희'],\n",
        "    '과목': ['수학', '과학', '수학', '과학', '과학', '수학'],\n",
        "    '점수': [85, 90, 78, 88, 95, 80]\n",
        "}\n",
        "\n",
        "df = pd.DataFrame(data)"
      ],
      "metadata": {
        "id": "zwJ8Ci4jEuf4"
      },
      "execution_count": 3,
      "outputs": []
    },
    {
      "cell_type": "markdown",
      "source": [
        "<힌트>\n",
        "```\n",
        "pivot()\n",
        "pivot_table()\n",
        "crosstab()\n",
        "```"
      ],
      "metadata": {
        "id": "xMctzVuiE2MJ"
      }
    },
    {
      "cell_type": "code",
      "source": [
        "# 코드 작성\n",
        "\n"
      ],
      "metadata": {
        "id": "c3UBt0n0EzFc"
      },
      "execution_count": 4,
      "outputs": []
    },
    {
      "cell_type": "markdown",
      "source": [
        "# 문제3\n",
        "주어진 데이터프레임 df에 범주형 변수가 포함된 모든 열에 대해 더미 변수를 생성하시오."
      ],
      "metadata": {
        "id": "csRc0nWfE7nz"
      }
    },
    {
      "cell_type": "code",
      "source": [
        "import pandas as pd\n",
        "\n",
        "data = {\n",
        "    'Gender': ['Male', 'Female', 'Female', 'Male'],\n",
        "    'City': ['Seoul', 'Busan', 'Incheon', 'Seoul']\n",
        "}\n",
        "\n",
        "df = pd.DataFrame(data)"
      ],
      "metadata": {
        "id": "kZ51ZQsvE5GE"
      },
      "execution_count": 5,
      "outputs": []
    },
    {
      "cell_type": "markdown",
      "source": [
        "<힌트>\n",
        "```\n",
        "get_dummies()\n",
        "```"
      ],
      "metadata": {
        "id": "WearvGDvE_uL"
      }
    },
    {
      "cell_type": "code",
      "source": [
        "# 코드 작성\n",
        "\n"
      ],
      "metadata": {
        "id": "rWDpJNOOE-ZO"
      },
      "execution_count": 6,
      "outputs": []
    },
    {
      "cell_type": "markdown",
      "source": [
        "# 문제4\n",
        "주어진 데이터프레임 df에서 ‘Gender’ 열에 대해 더미 변수를 생성하시오."
      ],
      "metadata": {
        "id": "0fiiF8rIFLa2"
      }
    },
    {
      "cell_type": "code",
      "source": [
        "import pandas as pd\n",
        "\n",
        "data = {\n",
        "    'Gender': ['Male', 'Female', 'Female', 'Male'],\n",
        "    'City': ['Seoul', 'Busan', 'Incheon', 'Seoul']\n",
        "}\n",
        "\n",
        "df = pd.DataFrame(data)"
      ],
      "metadata": {
        "id": "k-a6v1VSFGtH"
      },
      "execution_count": 7,
      "outputs": []
    },
    {
      "cell_type": "markdown",
      "source": [
        "<힌트>\n",
        "```\n",
        "get_dummies()\n",
        "\n",
        "```"
      ],
      "metadata": {
        "id": "eVRAGrdtFPIj"
      }
    },
    {
      "cell_type": "code",
      "source": [
        "# 코드 작성\n",
        "\n"
      ],
      "metadata": {
        "id": "ZxsE4ZF2FPpu"
      },
      "execution_count": 8,
      "outputs": []
    },
    {
      "cell_type": "markdown",
      "source": [
        "#문제5\n",
        "주어진 데이터프레임 df에 범주형 변수가 포함된 모든 컬럼에 대해 더미 변수를 생성하되, 범주의 카테고리에서 하나를 생략하시오."
      ],
      "metadata": {
        "id": "0FZMA1sgFX1v"
      }
    },
    {
      "cell_type": "code",
      "source": [
        "import pandas as pd\n",
        "\n",
        "data = {\n",
        "    'Gender': ['Male', 'Female', 'Female', 'Male'],\n",
        "    'City': ['Seoul', 'Busan', 'Incheon', 'Seoul']\n",
        "}\n",
        "\n",
        "df = pd.DataFrame(data)"
      ],
      "metadata": {
        "id": "BuQq5I2VFWAs"
      },
      "execution_count": 9,
      "outputs": []
    },
    {
      "cell_type": "markdown",
      "source": [
        "<힌트>\n",
        "```\n",
        "get_dummies()\n",
        "```"
      ],
      "metadata": {
        "id": "k27m9w0UGQEq"
      }
    },
    {
      "cell_type": "code",
      "source": [
        "# 코드 작성\n",
        "\n"
      ],
      "metadata": {
        "id": "6Kg3u0b_FbCZ"
      },
      "execution_count": 10,
      "outputs": []
    },
    {
      "cell_type": "markdown",
      "source": [
        "# 문제6\n",
        "다음 데이터프레임에 대해 정규화, 표준화한 값을 갖는 데이터 프레임을 각각 생성하여 출력하시오."
      ],
      "metadata": {
        "id": "GQPUHx6tGE3A"
      }
    },
    {
      "cell_type": "code",
      "source": [
        "import pandas as pd\n",
        "\n",
        "# 샘플 데이터 생성\n",
        "data = {'나이': [25, 30, 45, 50, 60],\n",
        "        '연봉': [3500, 4000, 5000, 5500, 6500]}\n",
        "\n",
        "df = pd.DataFrame(data)"
      ],
      "metadata": {
        "id": "M1kwziSdFd2Y"
      },
      "execution_count": 11,
      "outputs": []
    },
    {
      "cell_type": "markdown",
      "source": [
        "<힌트>\n",
        "```\n",
        "MinMaxScaler()\n",
        "StandardScaler()\n",
        "```"
      ],
      "metadata": {
        "id": "m9uhs6elGRZe"
      }
    },
    {
      "cell_type": "markdown",
      "source": [
        "정규화 결과"
      ],
      "metadata": {
        "id": "CjYTv0m6I6OZ"
      }
    },
    {
      "cell_type": "code",
      "source": [
        "# 코드 작성\n",
        "\n"
      ],
      "metadata": {
        "id": "UpaE3mgUGJ8S"
      },
      "execution_count": 12,
      "outputs": []
    },
    {
      "cell_type": "markdown",
      "source": [
        "표준화 결과"
      ],
      "metadata": {
        "id": "7o9NsVpsI8pB"
      }
    },
    {
      "cell_type": "code",
      "source": [
        "# 코드 작성\n",
        "\n"
      ],
      "metadata": {
        "id": "efphvi_vGNN7"
      },
      "execution_count": 13,
      "outputs": []
    },
    {
      "cell_type": "markdown",
      "source": [
        "# 문제 7\n",
        "사이킷런 패키지는 다양한 데이터셋을 제공한다. 대표적인 데이터 셋인 붓꽃 데이터셋(iris data)은 데이터 정제가 잘 되어있고, 머신러닝 학습 진행 시 성능이 좋아 머신러닝을 이제 막 시작하는 초보자들이 학습용으로 사용하는 대표적인 데이터 셋이다.\n",
        "붓꽃 데이터셋은 꽃받침 길이와 너비, 꽃잎 길이와 너비의 4개의 특징 데이터에 따른 품종을 구분한 데이터로 총 150개의 값이 존재한다."
      ],
      "metadata": {
        "id": "tcwVCeCkJCjd"
      }
    },
    {
      "cell_type": "code",
      "source": [
        "import pandas as pd\n",
        "from sklearn.datasets import load_iris\n",
        "\n",
        "# 데이터 불러오기\n",
        "iris = load_iris()\n",
        "df = pd.DataFrame(data=iris.data, columns=iris.feature_names)\n",
        "df['species'] = iris.target"
      ],
      "metadata": {
        "id": "muh0EAs1I_pe"
      },
      "execution_count": 14,
      "outputs": []
    },
    {
      "cell_type": "markdown",
      "source": [
        "1. 붓꽃 데이터셋(df)의 원본 데이터에 대해 값의 분포를 확인하고\n",
        "2. `species` 열을 제외한 모든 열에 대해 정규화와 표준화를 각각 수행하여 데이터 분포를 확인하시오."
      ],
      "metadata": {
        "id": "yO7H2rDSJIco"
      }
    },
    {
      "cell_type": "markdown",
      "source": [
        "<힌트>\n",
        "```\n",
        "MinMaxScaler()\n",
        "StandardScaler()\n",
        "```"
      ],
      "metadata": {
        "id": "-9oS57lfJOlP"
      }
    },
    {
      "cell_type": "code",
      "source": [
        "# 코드 작성\n",
        "\n"
      ],
      "metadata": {
        "id": "Ia2j_1Q2JG39"
      },
      "execution_count": 15,
      "outputs": []
    },
    {
      "cell_type": "code",
      "source": [],
      "metadata": {
        "id": "L5PX0O5XNmvS"
      },
      "execution_count": 15,
      "outputs": []
    }
  ]
}