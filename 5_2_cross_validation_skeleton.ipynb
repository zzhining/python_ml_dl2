{
  "nbformat": 4,
  "nbformat_minor": 0,
  "metadata": {
    "colab": {
      "private_outputs": true,
      "provenance": [],
      "authorship_tag": "ABX9TyOGdNbLqko9nRN+bw+g4Cwl",
      "include_colab_link": true
    },
    "kernelspec": {
      "name": "python3",
      "display_name": "Python 3"
    },
    "language_info": {
      "name": "python"
    }
  },
  "cells": [
    {
      "cell_type": "markdown",
      "metadata": {
        "id": "view-in-github",
        "colab_type": "text"
      },
      "source": [
        "<a href=\"https://colab.research.google.com/github/zzhining/python_ml_dl2/blob/main/5_2_cross_validation_skeleton.ipynb\" target=\"_parent\"><img src=\"https://colab.research.google.com/assets/colab-badge.svg\" alt=\"Open In Colab\"/></a>"
      ]
    },
    {
      "cell_type": "markdown",
      "source": [
        "# 문제1\n",
        "붓꽃 데이터를 KFold를 사용하여 데이터를 붓꽃 데이터를 3등분하고, 각 분할에서 데이터가 어떻게 분할되었는지 확인해보시오."
      ],
      "metadata": {
        "id": "XVzM6wsyaKUF"
      }
    },
    {
      "cell_type": "code",
      "source": [
        "import numpy as np\n",
        "import pandas as pd\n",
        "from sklearn.datasets import load_iris\n",
        "\n",
        "# 데이터 불러오기\n",
        "X, y = load_iris(return_X_y=True)"
      ],
      "metadata": {
        "id": "WW0LPByNkez5"
      },
      "execution_count": null,
      "outputs": []
    },
    {
      "cell_type": "markdown",
      "source": [
        "<힌트>\n",
        "```\n",
        "KFold()의 split()\n",
        "```"
      ],
      "metadata": {
        "id": "LtODScN5aNp5"
      }
    },
    {
      "cell_type": "code",
      "execution_count": null,
      "metadata": {
        "id": "35ySvpPUkVC1"
      },
      "outputs": [],
      "source": [
        "# 코드 작성\n",
        "\n"
      ]
    },
    {
      "cell_type": "markdown",
      "source": [
        "# 문제2\n",
        "붓꽃 데이터를 StratifiedKFold를 사용하여 데이터를 붓꽃 데이터를 3등분하고, 각 분할에서 데이터가 어떻게 분할되었는지 확인해보시오.\n",
        "\n",
        "<힌트>\n",
        "```\n",
        "StratifiedKFold()의 split()\n",
        "```"
      ],
      "metadata": {
        "id": "in7fThJmaVAD"
      }
    },
    {
      "cell_type": "code",
      "source": [
        "# 코드 작성\n",
        "\n"
      ],
      "metadata": {
        "id": "fbWsnqHaki5d"
      },
      "execution_count": null,
      "outputs": []
    },
    {
      "cell_type": "markdown",
      "source": [
        "# 문제3\n",
        "문제 1에서 불러온 붓꽃 데이터를 사용하여 RandomForestClassifier()를 생성하여 교차검증을 하려고 한다. 교차검증은 데이터 셋을 3분할(3-fold)하여 수행하고, 각 교차검증의 수행 결과를 출력하시오."
      ],
      "metadata": {
        "id": "3nkjrTwoaeST"
      }
    },
    {
      "cell_type": "code",
      "source": [
        "from sklearn.ensemble import RandomForestClassifier\n",
        "\n",
        "model = RandomForestClassifier()"
      ],
      "metadata": {
        "id": "zuuxbtZNpueq"
      },
      "execution_count": null,
      "outputs": []
    },
    {
      "cell_type": "markdown",
      "source": [
        "<힌트>\n",
        "```\n",
        "cross_validate()\n",
        "```\n"
      ],
      "metadata": {
        "id": "kIWtEKLzajCD"
      }
    },
    {
      "cell_type": "code",
      "source": [
        "# 코드 작성"
      ],
      "metadata": {
        "id": "FA54BLeamYtw"
      },
      "execution_count": null,
      "outputs": []
    },
    {
      "cell_type": "code",
      "source": [],
      "metadata": {
        "id": "4jifIq6mo7Pa"
      },
      "execution_count": null,
      "outputs": []
    }
  ]
}