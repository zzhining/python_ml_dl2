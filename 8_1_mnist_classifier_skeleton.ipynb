{
  "cells": [
    {
      "cell_type": "markdown",
      "metadata": {
        "id": "view-in-github",
        "colab_type": "text"
      },
      "source": [
        "<a href=\"https://colab.research.google.com/github/zzhining/python_ml_dl2/blob/main/8_1_mnist_classifier_skeleton.ipynb\" target=\"_parent\"><img src=\"https://colab.research.google.com/assets/colab-badge.svg\" alt=\"Open In Colab\"/></a>"
      ]
    },
    {
      "cell_type": "markdown",
      "source": [
        "데이터 불러오기\n"
      ],
      "metadata": {
        "id": "ViHKDSmCCadH"
      }
    },
    {
      "cell_type": "code",
      "execution_count": null,
      "metadata": {
        "id": "4_Yp3HqFeHMn"
      },
      "outputs": [],
      "source": [
        "import random\n",
        "import numpy as np\n",
        "import pandas as pd\n",
        "import tensorflow as tf\n",
        "from tensorflow.keras.datasets import mnist\n",
        "\n",
        "# 파이썬 랜덤 시드 설정\n",
        "random.seed(42)\n",
        "\n",
        "# NumPy 랜덤 시드 설정\n",
        "np.random.seed(42)\n",
        "\n",
        "# TensorFlow 시드 설정\n",
        "tf.random.set_seed(42)\n",
        "\n",
        "\n",
        "# 데이터 불러오기\n",
        "(X_train, Y_train), (X_test, Y_test) = mnist.load_data()\n",
        "\n",
        "# 데이터 구조 확인\n",
        "print(\"X_train:{}, Y_train:{}\\nX_test:{}, Y_test:{}\"\\\n",
        "      .format(X_train.shape, Y_train.shape, X_test.shape, Y_test.shape))"
      ]
    },
    {
      "cell_type": "markdown",
      "source": [
        "# 문제1\n",
        "불러온 MNIST 데이터 셋의 가장 마지막 값을 이미지로 시각화하여 표시하시오."
      ],
      "metadata": {
        "id": "AQilwPrHqFWQ"
      }
    },
    {
      "cell_type": "code",
      "source": [
        "# 코드 작성\n",
        "\n"
      ],
      "metadata": {
        "id": "ezAxzSNKIiQ0"
      },
      "execution_count": null,
      "outputs": []
    },
    {
      "cell_type": "markdown",
      "source": [
        "# 문제2\n",
        "불러온 데이터의 특징(`X_train`, `X_test`) 변수의 전처리를 수행하시오.\n",
        "-\t스케일링: 데이터의 분포를 [0, 1] 사이로 조정\n",
        "-\t차원 변경: 4개의 차원(`num_images`, `width`, `height`, `channel`)의 값을 갖도록 변경\n"
      ],
      "metadata": {
        "id": "KtKX8_i4StBk"
      }
    },
    {
      "cell_type": "code",
      "execution_count": null,
      "metadata": {
        "id": "6YJQo8-ieHMu"
      },
      "outputs": [],
      "source": [
        "# 코드 작성\n",
        "\n"
      ]
    },
    {
      "cell_type": "markdown",
      "source": [
        "# 문제3\n",
        "불러온 데이터의 타겟 변수(`Y_train`, `Y_test`)의 전처리를 수행하시오.\n",
        "-\t`Y_train`의 유일값을 확인\n",
        "-\t원 핫 벡터 변환: `Y_train`, `Y_test`"
      ],
      "metadata": {
        "id": "_UhwDS0cqkaN"
      }
    },
    {
      "cell_type": "code",
      "source": [
        "# 코드 작성\n",
        "\n"
      ],
      "metadata": {
        "id": "FpASGJvZqrMo"
      },
      "execution_count": null,
      "outputs": []
    },
    {
      "cell_type": "markdown",
      "source": [
        "# 문제4\n",
        "다음과 같이 신경망을 구성하시오.\n",
        "-\tConv1: kernel = (3, 3), filters = 32\n",
        "-\tConv2: kernel = (3, 3), filters = 64\n",
        "-\tPool: MaxPooling, pool_size = 2, dropout: 25%\n",
        "-\tFC1: 128, dropout: 50%"
      ],
      "metadata": {
        "id": "E-EpgrMMTtrB"
      }
    },
    {
      "cell_type": "markdown",
      "source": [
        "![image.png](data:image/png;base64,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)"
      ],
      "metadata": {
        "id": "GsZb0dKia1V8"
      }
    },
    {
      "cell_type": "code",
      "execution_count": null,
      "metadata": {
        "id": "LlO8WPeBeHMu",
        "collapsed": true
      },
      "outputs": [],
      "source": [
        "# 코드 작성\n",
        "\n"
      ]
    },
    {
      "cell_type": "markdown",
      "source": [
        "# 문제5\n",
        "모델의 summary 정보를 확인하여 생성된 신경망의 구조를 확인하시오"
      ],
      "metadata": {
        "id": "DeqcaKSVrA0e"
      }
    },
    {
      "cell_type": "code",
      "source": [
        "# 코드 작성\n",
        "\n"
      ],
      "metadata": {
        "id": "EMRdwxRHbHRS"
      },
      "execution_count": null,
      "outputs": []
    },
    {
      "cell_type": "markdown",
      "source": [
        "# 문제6\n",
        "문제4에서 생성한 모델의 학습을 수행하시오.\n",
        "-\t학습 시, `val_loss` 값을 모니터링하여 5회 이상 성능이 개선되지 않을 경우 학습의 이른 종료를 수행할 것\n",
        "-\t학습 데이터의 20%는 검증용 데이터로 할당\n",
        "-\t배치 사이즈: 256, 에포크: 50\n",
        "\n",
        "\n",
        "<힌트>\n",
        "```\n",
        "from tensorflow.keras.callbacks import ModelCheckpoint, EarlyStopping\n",
        "```"
      ],
      "metadata": {
        "id": "v97CZMqbTlhG"
      }
    },
    {
      "cell_type": "code",
      "execution_count": null,
      "metadata": {
        "id": "RCyreepyeHMv"
      },
      "outputs": [],
      "source": [
        "# 코드 작성\n",
        "\n"
      ]
    }
  ],
  "metadata": {
    "accelerator": "GPU",
    "colab": {
      "provenance": [],
      "toc_visible": true,
      "include_colab_link": true
    },
    "kernelspec": {
      "display_name": "Python 3",
      "language": "python",
      "name": "python3"
    },
    "language_info": {
      "codemirror_mode": {
        "name": "ipython",
        "version": 3
      },
      "file_extension": ".py",
      "mimetype": "text/x-python",
      "name": "python",
      "nbconvert_exporter": "python",
      "pygments_lexer": "ipython3",
      "version": "3.8.5"
    },
    "toc": {
      "base_numbering": 1,
      "nav_menu": {},
      "number_sections": false,
      "sideBar": true,
      "skip_h1_title": false,
      "title_cell": "Table of Contents",
      "title_sidebar": "Contents",
      "toc_cell": false,
      "toc_position": {},
      "toc_section_display": true,
      "toc_window_display": false
    },
    "gpuClass": "standard"
  },
  "nbformat": 4,
  "nbformat_minor": 0
}