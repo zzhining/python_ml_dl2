{
  "cells": [
    {
      "cell_type": "markdown",
      "metadata": {
        "id": "view-in-github",
        "colab_type": "text"
      },
      "source": [
        "<a href=\"https://colab.research.google.com/github/zzhining/python_ml_dl2/blob/main/6_3_house_price_analysis_skeleton.ipynb\" target=\"_parent\"><img src=\"https://colab.research.google.com/assets/colab-badge.svg\" alt=\"Open In Colab\"/></a>"
      ]
    },
    {
      "cell_type": "markdown",
      "source": [
        "데이터 탐색 시, 그래프 표시를 위한 환경 설정"
      ],
      "metadata": {
        "id": "HUqUSvc1RSqq"
      }
    },
    {
      "cell_type": "code",
      "source": [
        "# 나눔폰트 설치(설치 후, 런타임 재시작 필요)\n",
        "!sudo apt-get install -y fonts-nanum\n",
        "!sudo fc-cache -fv\n",
        "!rm ~/.cache/matplotlib -rf"
      ],
      "metadata": {
        "id": "mfx1i9_PWB_M"
      },
      "execution_count": null,
      "outputs": []
    },
    {
      "cell_type": "code",
      "source": [
        "import matplotlib.pyplot as plt\n",
        "\n",
        "plt.rc('font', family='NanumBarunGothic') #한글폰트 설정\n",
        "plt.rc('axes', unicode_minus=False) #마이너스 기호 표시"
      ],
      "metadata": {
        "id": "ZXCplXt1WHvq"
      },
      "execution_count": null,
      "outputs": []
    },
    {
      "cell_type": "markdown",
      "metadata": {
        "id": "P5LjihZ7iBE7"
      },
      "source": [
        "# 문제1\n",
        "데이터 셋을 불러오고, 아래 항목을 확인하시오\n",
        "-\t상위 5개 항목 출력\n",
        "-\t데이터의 주요 통계지표 확인"
      ]
    },
    {
      "cell_type": "code",
      "execution_count": null,
      "metadata": {
        "id": "YdbHFAIQiBE9"
      },
      "outputs": [],
      "source": [
        "import numpy as np\n",
        "import pandas as pd\n",
        "import seaborn as sns\n",
        "\n",
        "df = pd.read_csv('https://raw.githubusercontent.com/zzhining/python_ml_dl/refs/heads/main/dataset/exercise4.csv', index_col=None)"
      ]
    },
    {
      "cell_type": "code",
      "source": [
        "# 코드 작성\n",
        "\n"
      ],
      "metadata": {
        "id": "T0dK6gruRrA4"
      },
      "execution_count": null,
      "outputs": []
    },
    {
      "cell_type": "markdown",
      "source": [
        "# 문제2\n",
        "각 특성의 데이터 분포 확인하기 위해 시각화하시오.\n",
        "-\t시각화 방법: 히스토그램(`kde`=True, `bins`=30)\n",
        "-\t5개의 속성을 각각 표시하도록 서브플롯(subplot)을 생성"
      ],
      "metadata": {
        "id": "cwXTY9KzRuR2"
      }
    },
    {
      "cell_type": "code",
      "execution_count": null,
      "metadata": {
        "id": "666yduHbiBFB"
      },
      "outputs": [],
      "source": [
        "# 코드 작성\n",
        "\n"
      ]
    },
    {
      "cell_type": "markdown",
      "source": [
        "# 문제3\n",
        "`평균 주택 가격`과 가장 상관관계가 높은 속성을 확인하시오."
      ],
      "metadata": {
        "id": "-qO_kjEGRzsD"
      }
    },
    {
      "cell_type": "code",
      "execution_count": null,
      "metadata": {
        "id": "Bijmky4biBFD"
      },
      "outputs": [],
      "source": [
        "# 코드 작성\n",
        "\n"
      ]
    },
    {
      "cell_type": "markdown",
      "source": [
        "# 문제4\n",
        "`평균 주택 가격`과 가장 상관관계가 높은 특성을 순서대로 출력하시오."
      ],
      "metadata": {
        "id": "GbxmMu2RR8ZY"
      }
    },
    {
      "cell_type": "code",
      "execution_count": null,
      "metadata": {
        "id": "MevadRWJiBFE"
      },
      "outputs": [],
      "source": [
        "# 코드 작성\n",
        "\n"
      ]
    },
    {
      "cell_type": "markdown",
      "source": [
        "# 문제5\n",
        "주어진 데이터프레임의 결측치와 중복값이 있는지 확인하고, 있을 경우 삭제하시오."
      ],
      "metadata": {
        "id": "9jI2CW5GSDii"
      }
    },
    {
      "cell_type": "code",
      "execution_count": null,
      "metadata": {
        "id": "m5f6_bJxiBFA"
      },
      "outputs": [],
      "source": [
        "# 코드 작성\n",
        "\n"
      ]
    },
    {
      "cell_type": "markdown",
      "metadata": {
        "id": "2_YQru0NiBFF"
      },
      "source": [
        "# 문제6\n",
        "주어진 데이터를 독립변수(X)와 종속변수(y)로 할당하시오.\n",
        "- 독립변수(X): ‘평균 주택 가격’을 제외한 모든 속성\n",
        "- 종속변수(y): ‘평균 주택 가격’\n"
      ]
    },
    {
      "cell_type": "code",
      "source": [
        "# 코드 작성\n",
        "\n"
      ],
      "metadata": {
        "id": "N2sjDr8WarHt"
      },
      "execution_count": null,
      "outputs": []
    },
    {
      "cell_type": "markdown",
      "source": [
        "#문제 7\n",
        "문제 6의 독립변수(X)의 데이터의 분포를 평균은 0, 표준편차는 1이 되도록 변환한 값을 `X_scaled`로 할당하시오."
      ],
      "metadata": {
        "id": "d7d595_kSNxV"
      }
    },
    {
      "cell_type": "code",
      "source": [
        "# 코드 작성\n",
        "\n"
      ],
      "metadata": {
        "id": "MIxR0dCCaswI"
      },
      "execution_count": null,
      "outputs": []
    },
    {
      "cell_type": "markdown",
      "source": [
        "# 문제8\n",
        "전처리가 완료된 데이터(`X_scaled`, `y`)를 학습용과 테스트용 데이터로 분할하시오.\n",
        "-\t학습용 데이터와 테스트용 데이터의 비율: 7:3\n"
      ],
      "metadata": {
        "id": "JFc60VP-SQ2Z"
      }
    },
    {
      "cell_type": "code",
      "execution_count": null,
      "metadata": {
        "id": "3L62hjddiBFF"
      },
      "outputs": [],
      "source": [
        "# 코드 작성\n",
        "\n"
      ]
    },
    {
      "cell_type": "markdown",
      "metadata": {
        "id": "sRvSzqZniBFF"
      },
      "source": [
        "#문제9\n",
        "학습용 데이터를 사용하여 선형회귀 모델을 학습하고, 가중치와 편향을 출력하시오."
      ]
    },
    {
      "cell_type": "code",
      "execution_count": null,
      "metadata": {
        "id": "p6Y1VXH6iBFG"
      },
      "outputs": [],
      "source": [
        "# 코드 작성\n",
        "\n"
      ]
    },
    {
      "cell_type": "markdown",
      "source": [
        "# 문제10\n",
        "학습된 선형회귀 모델의 가중치가 가장 높은 변수가 무엇인지 확인하시오.\n"
      ],
      "metadata": {
        "id": "XQP3a0ZVSXHm"
      }
    },
    {
      "cell_type": "code",
      "execution_count": null,
      "metadata": {
        "id": "f4WBaVnniBFG"
      },
      "outputs": [],
      "source": [
        "# 코드 작성\n",
        "\n"
      ]
    },
    {
      "cell_type": "markdown",
      "metadata": {
        "id": "EyFGO-j-iBFH"
      },
      "source": [
        "#문제11\n",
        "문제9의 선형 회귀 모델의 성능 지표(MSE, RMSE, R-sqaure)를 출력하시오.\n"
      ]
    },
    {
      "cell_type": "code",
      "execution_count": null,
      "metadata": {
        "id": "qykOpg-PiBFH"
      },
      "outputs": [],
      "source": [
        "# 코드 작성\n",
        "\n"
      ]
    },
    {
      "cell_type": "markdown",
      "metadata": {
        "id": "LmqtzV65iBFK"
      },
      "source": [
        "# 문제12\n",
        "선형 회귀 모델의 일반화 성능을 평가하기 위해 교차 검증을 수행하고, 결과를 출력하시오.\n",
        "-\t선형회귀모델: 문제8에서 생성한 모델\n",
        "-\t3등분하여 학습용과 검증용의 역할을 번갈아 가면서 수행\n",
        "-\treturn_train_score=True, return_estimator=True, scoring=\"neg_mean_squared_error\"\n"
      ]
    },
    {
      "cell_type": "code",
      "execution_count": null,
      "metadata": {
        "id": "5b1q7M-ziBFK"
      },
      "outputs": [],
      "source": [
        "# 코드 작성\n",
        "\n"
      ]
    },
    {
      "cell_type": "markdown",
      "metadata": {
        "id": "mMu6dGhbiBFK"
      },
      "source": [
        "#문제13\n",
        "테스트 셋에 대해 실제 값(y)과 예측 값(y_pred)의 차이를 확인하기 위해 아래 조건을 만족하는 데이터프레임(result)를 생성하시오.\n",
        "-\t행: 실제 값(y), 예측 값(y_pred), 실제 값과 예측 값의 차이(diff)\n",
        "-\t‘diff’ 컬럼을 기준으로 값이 큰 순서대로 정렬하여 상위 5개의 값만 출력\n"
      ]
    },
    {
      "cell_type": "code",
      "execution_count": null,
      "metadata": {
        "id": "StWThkxJiBFL"
      },
      "outputs": [],
      "source": [
        "# 코드 작성\n",
        "\n"
      ]
    },
    {
      "cell_type": "markdown",
      "source": [
        "#문제14\n",
        "선형 회귀 모델의 성능을 개선하기 위해 특성 공학을 수행한다. ‘인구 밀집도’와 ‘평균 주택 가격’에 로그 변환을 하여 한쪽으로 치우친 데이터의 분포를 정규 분포 형태에 가깝게 변환하시오. 변환된 데이터를 사용하여 선형 회귀 모델을 학습하고, 성능 지표(MSE, RMSE, R-Square)를 출력하시오.\n"
      ],
      "metadata": {
        "id": "Bz-O43AuSxYH"
      }
    },
    {
      "cell_type": "code",
      "execution_count": null,
      "metadata": {
        "id": "-IDtsGmniBFL"
      },
      "outputs": [],
      "source": [
        "# 코드 작성\n",
        "\n"
      ]
    },
    {
      "cell_type": "markdown",
      "source": [
        "#문제15\n",
        "LGBMRegressor 모델을 학습시키고, 특성 중요도를 시각화하시오.\n",
        "- 각각 100개의 추론기를 가지도록 학습(n_estimator =100)\n",
        "- 학습 데이터: 문제 7에서 분할한 학습용 데이터 (X_train, y_train)\n"
      ],
      "metadata": {
        "id": "E_6N9RGxS2Ft"
      }
    },
    {
      "cell_type": "code",
      "execution_count": null,
      "metadata": {
        "id": "lxyjVvgciBFL"
      },
      "outputs": [],
      "source": [
        "# 코드 작성\n",
        "\n"
      ]
    },
    {
      "cell_type": "code",
      "source": [],
      "metadata": {
        "id": "UsUhXG4zUnso"
      },
      "execution_count": null,
      "outputs": []
    }
  ],
  "metadata": {
    "kernelspec": {
      "display_name": "Python 3",
      "language": "python",
      "name": "python3"
    },
    "language_info": {
      "codemirror_mode": {
        "name": "ipython",
        "version": 3
      },
      "file_extension": ".py",
      "mimetype": "text/x-python",
      "name": "python",
      "nbconvert_exporter": "python",
      "pygments_lexer": "ipython3",
      "version": "3.8.5"
    },
    "toc": {
      "base_numbering": 1,
      "nav_menu": {},
      "number_sections": false,
      "sideBar": true,
      "skip_h1_title": false,
      "title_cell": "Table of Contents",
      "title_sidebar": "Contents",
      "toc_cell": false,
      "toc_position": {
        "height": "calc(100% - 180px)",
        "left": "10px",
        "top": "150px",
        "width": "303.819px"
      },
      "toc_section_display": true,
      "toc_window_display": true
    },
    "colab": {
      "provenance": [],
      "toc_visible": true,
      "include_colab_link": true
    }
  },
  "nbformat": 4,
  "nbformat_minor": 0
}