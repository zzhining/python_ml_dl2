{
  "nbformat": 4,
  "nbformat_minor": 0,
  "metadata": {
    "colab": {
      "private_outputs": true,
      "provenance": [],
      "toc_visible": true,
      "authorship_tag": "ABX9TyPdXDhoolMoLkovILgy/uYK",
      "include_colab_link": true
    },
    "kernelspec": {
      "name": "python3",
      "display_name": "Python 3"
    },
    "language_info": {
      "name": "python"
    }
  },
  "cells": [
    {
      "cell_type": "markdown",
      "metadata": {
        "id": "view-in-github",
        "colab_type": "text"
      },
      "source": [
        "<a href=\"https://colab.research.google.com/github/zzhining/python_ml_dl2/blob/main/3%EC%9E%A5/3_2_4_data_transform.ipynb\" target=\"_parent\"><img src=\"https://colab.research.google.com/assets/colab-badge.svg\" alt=\"Open In Colab\"/></a>"
      ]
    },
    {
      "cell_type": "markdown",
      "source": [
        "# 1. 기본 파생변수 생성"
      ],
      "metadata": {
        "id": "5apCstsPgKta"
      }
    },
    {
      "cell_type": "code",
      "execution_count": null,
      "metadata": {
        "id": "fKw_3BYkgJ9J"
      },
      "outputs": [],
      "source": [
        "import pandas as pd\n",
        "import numpy as np\n",
        "\n",
        "# 예시 데이터 생성\n",
        "sales_data = pd.DataFrame({\n",
        "    'product': ['노트북', '마우스', '키보드', '모니터', '스피커'],\n",
        "    'price': [1200000, 25000, 80000, 350000, 120000],\n",
        "    'quantity': [10, 50, 30, 15, 25],\n",
        "    'cost': [800000, 15000, 50000, 200000, 80000]\n",
        "})\n",
        "\n",
        "print(sales_data)"
      ]
    },
    {
      "cell_type": "markdown",
      "source": [
        "## 1) 기본 파생변수 생성"
      ],
      "metadata": {
        "id": "kBSiENgPgXjs"
      }
    },
    {
      "cell_type": "code",
      "source": [
        "# 총 매출액 계산\n",
        "sales_data['total_sales'] = sales_data['price'] * sales_data['quantity']\n",
        "\n",
        "# 총 이익 계산\n",
        "sales_data['profit'] = (sales_data['price'] - sales_data['cost']) * sales_data['quantity']\n",
        "\n",
        "# 이익률 계산\n",
        "sales_data['profit_rate'] = (sales_data['profit'] / sales_data['total_sales']) * 100\n",
        "\n",
        "print(sales_data[['product', 'total_sales', 'profit', 'profit_rate']])"
      ],
      "metadata": {
        "id": "jJOLiMGjgThG"
      },
      "execution_count": null,
      "outputs": []
    },
    {
      "cell_type": "markdown",
      "source": [
        "## 2) assgin 메서드"
      ],
      "metadata": {
        "id": "aQEInAcogakC"
      }
    },
    {
      "cell_type": "code",
      "source": [
        "# assign 메서드 사용\n",
        "sales_with_rank = sales_data.assign(\n",
        "    sales_rank=sales_data['total_sales'].rank(ascending=False)\n",
        ")\n",
        "print(sales_with_rank[['product', 'total_sales', 'sales_rank']])"
      ],
      "metadata": {
        "id": "satvHa70gVTX"
      },
      "execution_count": null,
      "outputs": []
    },
    {
      "cell_type": "markdown",
      "source": [
        "# 2. apply 함수"
      ],
      "metadata": {
        "id": "MYqvl1CIg6VK"
      }
    },
    {
      "cell_type": "code",
      "source": [
        "# 제품 등급 분류 함수 정의\n",
        "def classify_product_grade(row):\n",
        "    if row['profit_rate'] >= 40:\n",
        "        return 'A급'\n",
        "    elif row['profit_rate'] >= 35:\n",
        "        return 'B급'\n",
        "    else:\n",
        "        return 'C급'"
      ],
      "metadata": {
        "id": "DGq2LPVkgeAX"
      },
      "execution_count": null,
      "outputs": []
    },
    {
      "cell_type": "markdown",
      "source": [
        "## 1)  DataFrame에 함수 적용"
      ],
      "metadata": {
        "id": "M4c3b70XhwCd"
      }
    },
    {
      "cell_type": "code",
      "source": [
        "# apply를 사용하여 제품 등급 생성\n",
        "sales_data['grade'] = sales_data.apply(classify_product_grade, axis=1)"
      ],
      "metadata": {
        "id": "hLtsvw3jhF_2"
      },
      "execution_count": null,
      "outputs": []
    },
    {
      "cell_type": "markdown",
      "source": [
        "## 2) 람다 함수 사용"
      ],
      "metadata": {
        "id": "nJJ5rZ3yh4p4"
      }
    },
    {
      "cell_type": "code",
      "source": [
        "# 람다 함수를 사용한 가격 구간 분류\n",
        "sales_data['price_category'] = sales_data['price'].apply(\n",
        "    lambda x: '고가' if x >= 300000 else '중가' if x >= 100000 else '저가'\n",
        ")\n",
        "print(sales_data[['product', 'profit_rate', 'grade', 'price_category']])"
      ],
      "metadata": {
        "id": "wz7pFpC9hLFv"
      },
      "execution_count": null,
      "outputs": []
    },
    {
      "cell_type": "markdown",
      "source": [
        "## 3) 컬럼별 통계 계산 (axis=0)"
      ],
      "metadata": {
        "id": "Usmu9pVDiBAw"
      }
    },
    {
      "cell_type": "code",
      "source": [
        "# 컬럼별 통계 계산 (axis=0)\n",
        "column_stats = sales_data[['price', 'quantity', 'profit']].apply(np.mean)\n",
        "print(f\"평균값:\\n{column_stats}\")"
      ],
      "metadata": {
        "id": "C7o4fyvehAEg"
      },
      "execution_count": null,
      "outputs": []
    },
    {
      "cell_type": "markdown",
      "source": [
        "# 3. map과 applymap"
      ],
      "metadata": {
        "id": "FsXs_hXTiYE8"
      }
    },
    {
      "cell_type": "code",
      "source": [
        "print(sales_data)"
      ],
      "metadata": {
        "id": "gRRy3xfFhCiH"
      },
      "execution_count": null,
      "outputs": []
    },
    {
      "cell_type": "code",
      "source": [
        "# 카테고리 매핑 딕셔너리 생성\n",
        "category_mapping = {\n",
        "    '노트북': '컴퓨터',\n",
        "    '마우스': '주변기기',\n",
        "    '키보드': '주변기기',\n",
        "    '모니터': '디스플레이',\n",
        "    '스피커': '오디오'\n",
        "}\n",
        "\n",
        "# map을 사용한 카테고리 변환\n",
        "sales_data['product_category'] = sales_data['product'].map(category_mapping)\n",
        "\n",
        "print(sales_data[['product', 'product_category']])"
      ],
      "metadata": {
        "id": "0_aGNIkMiezM"
      },
      "execution_count": null,
      "outputs": []
    },
    {
      "cell_type": "code",
      "source": [
        "# 등급별 포인트 매핑\n",
        "grade_points = {'A급': 100, 'B급': 80, 'C급': 60}\n",
        "sales_data['grade_points'] = sales_data['grade'].map(grade_points)\n",
        "\n",
        "print(sales_data[['grade', 'grade_points']])"
      ],
      "metadata": {
        "id": "8muithd8ipbE"
      },
      "execution_count": null,
      "outputs": []
    },
    {
      "cell_type": "code",
      "source": [
        "# 숫자 데이터에 함수 적용 (소수점 반올림)\n",
        "numeric_columns = ['profit_rate']\n",
        "sales_data['profit_rate_rounded'] = sales_data['profit_rate'].map(lambda x: round(x, 1))\n",
        "\n",
        "print(sales_data[['product', 'profit_rate', 'profit_rate_rounded']])"
      ],
      "metadata": {
        "id": "01810UsOisEs"
      },
      "execution_count": null,
      "outputs": []
    },
    {
      "cell_type": "markdown",
      "source": [
        "# 4. 조건부 파생변수 생성 (np.where, np.select)"
      ],
      "metadata": {
        "id": "07UQGifRss1_"
      }
    },
    {
      "cell_type": "markdown",
      "source": [
        "## 1) np.where"
      ],
      "metadata": {
        "id": "8VeKO6VCtF68"
      }
    },
    {
      "cell_type": "code",
      "source": [
        "# np.where를 사용한 이진 분류\n",
        "sales_data['is_profitable'] = np.where(sales_data['profit'] > 1000000, '고수익', '일반수익')\n",
        "print(sales_data[['product', 'profit', 'is_profitable']])"
      ],
      "metadata": {
        "id": "11CvTAROi5gs"
      },
      "execution_count": null,
      "outputs": []
    },
    {
      "cell_type": "markdown",
      "source": [
        "## 2) np.select"
      ],
      "metadata": {
        "id": "1CEC-Ta5tKV6"
      }
    },
    {
      "cell_type": "code",
      "source": [
        "# np.select를 사용한 다중 조건 분류\n",
        "conditions = [\n",
        "    sales_data['total_sales'] >= 10000000,\n",
        "    sales_data['total_sales'] >= 5000000,\n",
        "    sales_data['total_sales'] >= 2000000\n",
        "]\n",
        "\n",
        "choices = ['대형거래', '중형거래', '소형거래']\n",
        "\n",
        "sales_data['transaction_size'] = np.select(conditions, choices, default='미니거래')\n",
        "print(sales_data[['product', 'total_sales', 'is_profitable']])"
      ],
      "metadata": {
        "id": "yDMtfDPZs1ee"
      },
      "execution_count": null,
      "outputs": []
    },
    {
      "cell_type": "markdown",
      "source": [
        "## 3) pd.cut"
      ],
      "metadata": {
        "id": "bcZtZwJItMRa"
      }
    },
    {
      "cell_type": "code",
      "source": [
        "# pd.cut을 사용한 구간 분할\n",
        "price_bins = [0, 50000, 200000, float('inf')]\n",
        "price_labels = ['저가', '중가', '고가']\n",
        "sales_data['price_segment'] = pd.cut(sales_data['price'], bins=price_bins, labels=price_labels)\n",
        "\n",
        "print(sales_data[['product', 'price', 'price_segment']])"
      ],
      "metadata": {
        "id": "RoiDUKoQs3Or"
      },
      "execution_count": null,
      "outputs": []
    },
    {
      "cell_type": "markdown",
      "source": [
        "# 5. 집계 함수를 활용한 파생변수 생성"
      ],
      "metadata": {
        "id": "yOx48Qict7mD"
      }
    },
    {
      "cell_type": "code",
      "source": [
        "# 제품 카테고리별 평균 수익률 계산\n",
        "sales_data['category_avg_profit_rate'] = sales_data.groupby('product_category')['profit_rate'].transform('mean')\n",
        "\n",
        "# 제품 카테고리별 총 매출 대비 비중 계산\n",
        "sales_data['category_total_sales'] = sales_data.groupby('product_category')['total_sales'].transform('sum')\n",
        "sales_data['sales_share_in_category'] = (sales_data['total_sales'] / sales_data['category_total_sales']) * 100\n",
        "\n",
        "print(sales_data[['product', 'product_category', 'profit_rate', 'category_avg_profit_rate', 'sales_share_in_category']])"
      ],
      "metadata": {
        "id": "IF5s5wp9tWok"
      },
      "execution_count": null,
      "outputs": []
    },
    {
      "cell_type": "code",
      "source": [
        "# 정렬 후 누적 합계 계산 (매출 순위별 누적 매출)\n",
        "sales_sorted = sales_data.sort_values('total_sales', ascending=False)\n",
        "sales_sorted['cumulative_sales'] = sales_sorted['total_sales'].cumsum()\n",
        "sales_sorted['cumulative_sales_ratio'] = (sales_sorted['cumulative_sales'] / sales_sorted['total_sales'].sum()) * 100\n",
        "\n",
        "print(sales_sorted[['product', 'total_sales', 'cumulative_sales', 'cumulative_sales_ratio']].round(1))"
      ],
      "metadata": {
        "id": "hcrPGEeLuDJq"
      },
      "execution_count": null,
      "outputs": []
    }
  ]
}