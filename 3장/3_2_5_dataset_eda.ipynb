{
  "nbformat": 4,
  "nbformat_minor": 0,
  "metadata": {
    "colab": {
      "private_outputs": true,
      "provenance": [],
      "authorship_tag": "ABX9TyOY2XgQy/gmHrCjhaCzF73j",
      "include_colab_link": true
    },
    "kernelspec": {
      "name": "python3",
      "display_name": "Python 3"
    },
    "language_info": {
      "name": "python"
    }
  },
  "cells": [
    {
      "cell_type": "markdown",
      "metadata": {
        "id": "view-in-github",
        "colab_type": "text"
      },
      "source": [
        "<a href=\"https://colab.research.google.com/github/zzhining/python_ml_dl2/blob/main/3%EC%9E%A5/3_2_5_dataset_eda.ipynb\" target=\"_parent\"><img src=\"https://colab.research.google.com/assets/colab-badge.svg\" alt=\"Open In Colab\"/></a>"
      ]
    },
    {
      "cell_type": "markdown",
      "source": [
        "# 1. 기본 데이터 탐색 함수"
      ],
      "metadata": {
        "id": "tEXTAfOAyJ7b"
      }
    },
    {
      "cell_type": "code",
      "source": [
        "import pandas as pd\n",
        "import numpy as np\n",
        "\n",
        "# 예시 데이터 생성 (전자상거래 주문 데이터)\n",
        "order_data = pd.DataFrame({\n",
        "    'order_id': ['ORD001', 'ORD002', 'ORD003', 'ORD004', 'ORD005', 'ORD006', 'ORD007', 'ORD008'],\n",
        "    'customer_id': ['C001', 'C002', 'C001', 'C003', 'C002', 'C004', 'C001', 'C003'],\n",
        "    'product_category': ['전자제품', '의류', '전자제품', '도서', '의류', '전자제품', '도서', '의류'],\n",
        "    'order_amount': [150000, 45000, 320000, 25000, 67000, 89000, 35000, 52000],\n",
        "    'customer_age': [28, 35, 28, 42, 35, 31, 28, 42],\n",
        "    'region': ['서울', '부산', '서울', '대구', '부산', '서울', '서울', '대구'],\n",
        "    'order_date': pd.to_datetime(['2024-01-15', '2024-01-16', '2024-01-18', '2024-01-20',\n",
        "                                  '2024-01-22', '2024-01-25', '2024-01-28', '2024-01-30'])\n",
        "})\n",
        "\n",
        "display(order_data)"
      ],
      "metadata": {
        "id": "D2uMYxmFyIT4"
      },
      "execution_count": null,
      "outputs": []
    },
    {
      "cell_type": "code",
      "source": [
        "# 기본 데이터 정보 탐색\n",
        "print(\"=== 데이터프레임 기본 정보 ===\")\n",
        "print(f\"데이터 크기: {order_data.shape}\")\n",
        "print(f\"컬럼명: {list(order_data.columns)}\")\n",
        "\n",
        "print(\"\\n=== 데이터 타입 정보 ===\")\n",
        "print(order_data.dtypes)\n",
        "\n",
        "print(\"\\n=== 기술통계량 ===\")\n",
        "print(order_data.describe())\n",
        "\n",
        "print(\"\\n=== 카테고리별 주문 빈도 ===\")\n",
        "print(order_data['product_category'].value_counts())\n",
        "\n",
        "print(\"\\n=== 지역별 분포 ===\")\n",
        "print(order_data['region'].value_counts())\n",
        "\n",
        "print(\"\\n=== 결측치 확인 ===\")\n",
        "print(order_data.isnull().sum())"
      ],
      "metadata": {
        "id": "-0CEP_ydyOF0"
      },
      "execution_count": null,
      "outputs": []
    },
    {
      "cell_type": "markdown",
      "source": [
        "# 2. 기술통계량 및 데이터 요약"
      ],
      "metadata": {
        "id": "jXBPhj-TyDh9"
      }
    },
    {
      "cell_type": "code",
      "source": [
        "# 주문금액에 대한 다양한 통계량 계산\n",
        "amount_stats = order_data['order_amount'].agg(['mean', 'median', 'std', 'min', 'max', 'count'])\n",
        "print(\"=== 주문금액 통계량 ===\")\n",
        "print(amount_stats)\n",
        "\n",
        "# 분위수 계산\n",
        "print(\"\\n=== 주문금액 분위수 ===\")\n",
        "quantiles = order_data['order_amount'].quantile([0.25, 0.5, 0.75, 0.9])\n",
        "print(quantiles)\n",
        "\n",
        "# 고객 연령과 주문금액 간 상관관계\n",
        "print(\"\\n=== 수치형 변수 간 상관관계 ===\")\n",
        "numeric_corr = order_data[['customer_age', 'order_amount']].corr()\n",
        "print(numeric_corr)\n",
        "\n",
        "# 카테고리별 고유값 개수\n",
        "print(\"\\n=== 각 컬럼별 고유값 개수 ===\")\n",
        "print(order_data.nunique())"
      ],
      "metadata": {
        "id": "n-PuTqWJyF5V"
      },
      "execution_count": null,
      "outputs": []
    },
    {
      "cell_type": "markdown",
      "source": [
        "# 3. 피봇 테이블 (pivot_table)"
      ],
      "metadata": {
        "id": "GB8faVmLx_Mh"
      }
    },
    {
      "cell_type": "code",
      "source": [
        "# 지역별, 카테고리별 평균 주문금액 피봇테이블\n",
        "region_category_pivot = pd.pivot_table(\n",
        "    order_data,\n",
        "    values='order_amount',\n",
        "    index='region',\n",
        "    columns='product_category',\n",
        "    aggfunc='mean',\n",
        "    fill_value=0\n",
        ")\n",
        "\n",
        "print(\"=== 지역별 카테고리별 평균 주문금액 ===\")\n",
        "print(region_category_pivot)"
      ],
      "metadata": {
        "id": "vpvr-pwxyBdY"
      },
      "execution_count": null,
      "outputs": []
    },
    {
      "cell_type": "code",
      "source": [
        "# 다중 집계 함수 적용\n",
        "multi_agg_pivot = pd.pivot_table(\n",
        "    order_data,\n",
        "    values='order_amount',\n",
        "    index='region',\n",
        "    columns='product_category',\n",
        "    aggfunc=['mean', 'count', 'sum'],\n",
        "    fill_value=0,\n",
        "    margins=True  # 총합 행/열 추가\n",
        ")\n",
        "\n",
        "print(\"=== 다중 집계 함수 피봇테이블 (일부) ===\")\n",
        "print(multi_agg_pivot['mean'])  # 평균값만 출력"
      ],
      "metadata": {
        "id": "YI4YxJ-hycdX"
      },
      "execution_count": null,
      "outputs": []
    },
    {
      "cell_type": "code",
      "source": [
        "# 고객 연령대별, 지역별 주문 건수\n",
        "order_data['age_group'] = pd.cut(order_data['customer_age'],\n",
        "                                bins=[0, 30, 40, 50],\n",
        "                                labels=['20대', '30대', '40대'])\n",
        "\n",
        "age_region_pivot = pd.pivot_table(\n",
        "    order_data,\n",
        "    values='order_id',\n",
        "    index='age_group',\n",
        "    columns='region',\n",
        "    aggfunc='count',\n",
        "    fill_value=0\n",
        ")\n",
        "\n",
        "print(\"=== 연령대별 지역별 주문 건수 ===\")\n",
        "print(age_region_pivot)"
      ],
      "metadata": {
        "id": "OjsBVapcy4V7"
      },
      "execution_count": null,
      "outputs": []
    },
    {
      "cell_type": "markdown",
      "source": [
        "# 4. 그룹별 집계 연산 (groupby)"
      ],
      "metadata": {
        "id": "UkoDF9iPx6ii"
      }
    },
    {
      "cell_type": "code",
      "execution_count": null,
      "metadata": {
        "id": "eqqTtEP9x0gp"
      },
      "outputs": [],
      "source": [
        "# 고객별 주문 통계\n",
        "customer_stats = order_data.groupby('customer_id').agg({\n",
        "    'order_amount': ['count', 'sum', 'mean', 'max'],\n",
        "    'order_id': 'count'\n",
        "}).round(2)\n",
        "\n",
        "display(customer_stats)"
      ]
    },
    {
      "cell_type": "code",
      "source": [
        "# 지역별 상세 분석\n",
        "region_analysis = order_data.groupby('region').agg({\n",
        "    'order_amount': ['count', 'sum', 'mean', 'std'],\n",
        "    'customer_age': 'mean',\n",
        "    'customer_id': 'nunique'  # 고유 고객 수\n",
        "}).round(2)\n",
        "\n",
        "display(region_analysis)"
      ],
      "metadata": {
        "id": "RsGW1KR8yeRq"
      },
      "execution_count": null,
      "outputs": []
    },
    {
      "cell_type": "code",
      "source": [
        "# 상품 카테고리별 월별 주문 트렌드\n",
        "order_data['order_month'] = order_data['order_date'].dt.month\n",
        "monthly_category = order_data.groupby(['order_month', 'product_category']).agg({\n",
        "    'order_amount': ['count', 'sum'],\n",
        "    'customer_id': 'nunique'\n",
        "})\n",
        "\n",
        "print(\"=== 월별 카테고리별 주문 현황 ===\")\n",
        "print(monthly_category)\n",
        "\n",
        "# 그룹별 크기와 기술통계\n",
        "print(\"=== 지역별 그룹 크기 ===\")\n",
        "print(order_data.groupby('region').size())"
      ],
      "metadata": {
        "id": "o1l4uS67ygDj"
      },
      "execution_count": null,
      "outputs": []
    },
    {
      "cell_type": "code",
      "source": [
        "print(\"=== 카테고리별 주문금액 기술통계 ===\")\n",
        "category_describe = order_data.groupby('product_category')['order_amount'].describe()\n",
        "print(category_describe.round(2))"
      ],
      "metadata": {
        "id": "MV3TEKMeygxk"
      },
      "execution_count": null,
      "outputs": []
    },
    {
      "cell_type": "markdown",
      "source": [
        "# 5. 멀티레벨 인덱스와 고급 집계"
      ],
      "metadata": {
        "id": "Z2RJTRMQx1JH"
      }
    },
    {
      "cell_type": "code",
      "source": [
        "# 지역별, 카테고리별, 연령대별 다차원 분석\n",
        "multi_group_analysis = order_data.groupby(['region', 'product_category', 'age_group']).agg({\n",
        "    'order_amount': ['count', 'sum', 'mean'],\n",
        "    'customer_id': 'nunique'\n",
        "}).round(2)\n",
        "\n",
        "print(\"=== 다차원 그룹별 분석 ===\")\n",
        "print(multi_group_analysis.head(10))\n"
      ],
      "metadata": {
        "id": "5ze1tvdRx2H3"
      },
      "execution_count": null,
      "outputs": []
    },
    {
      "cell_type": "code",
      "source": [
        "# 멀티인덱스를 컬럼으로 변환\n",
        "unstacked_data = order_data.groupby(['region', 'product_category'])['order_amount'].sum().unstack(fill_value=0)\n",
        "print(\"\\n=== 지역-카테고리 행렬 (unstack) ===\")\n",
        "print(unstacked_data)"
      ],
      "metadata": {
        "id": "pMwrCX3czLB6"
      },
      "execution_count": null,
      "outputs": []
    },
    {
      "cell_type": "code",
      "source": [
        "# 고급 집계: 사용자 정의 함수\n",
        "def coefficient_of_variation(x):\n",
        "    \"\"\"변동계수 계산 (표준편차/평균)\"\"\"\n",
        "    return x.std() / x.mean() if x.mean() != 0 else 0\n",
        "\n",
        "advanced_stats = order_data.groupby('region')['order_amount'].agg([\n",
        "    'mean',\n",
        "    'std',\n",
        "    coefficient_of_variation,\n",
        "    lambda x: x.quantile(0.75) - x.quantile(0.25)  # IQR\n",
        "]).round(3)\n",
        "\n",
        "advanced_stats.columns = ['평균', '표준편차', '변동계수', 'IQR']\n",
        "print(\"\\n=== 지역별 고급 통계량 ===\")\n",
        "print(advanced_stats)"
      ],
      "metadata": {
        "id": "YAuixQGPyk4O"
      },
      "execution_count": null,
      "outputs": []
    },
    {
      "cell_type": "code",
      "source": [
        "# 조건부 집계\n",
        "def conditional_mean(group):\n",
        "    \"\"\"고액 주문(10만원 이상)의 평균\"\"\"\n",
        "    high_value = group[group['order_amount'] >= 100000]\n",
        "    return high_value['order_amount'].mean() if len(high_value) > 0 else 0\n",
        "\n",
        "conditional_stats = order_data.groupby('region').apply(conditional_mean)\n",
        "print(\"\\n=== 지역별 고액주문 평균금액 ===\")\n",
        "print(conditional_stats.fillna(0).astype(int))"
      ],
      "metadata": {
        "id": "BZ936YNAymGE"
      },
      "execution_count": null,
      "outputs": []
    },
    {
      "cell_type": "code",
      "source": [
        "# 집계 결과의 순위 계산\n",
        "region_total = order_data.groupby('region')['order_amount'].sum().sort_values(ascending=False)\n",
        "region_rank = region_total.rank(ascending=False, method='dense')\n",
        "\n",
        "print(\"\\n=== 지역별 총 주문금액 순위 ===\")\n",
        "result_df = pd.DataFrame({\n",
        "    '총주문금액': region_total,\n",
        "    '순위': region_rank.astype(int)\n",
        "})\n",
        "print(result_df)"
      ],
      "metadata": {
        "id": "7S-CUC9RynHn"
      },
      "execution_count": null,
      "outputs": []
    }
  ]
}