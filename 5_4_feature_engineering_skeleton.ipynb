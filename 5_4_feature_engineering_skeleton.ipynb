{
  "nbformat": 4,
  "nbformat_minor": 0,
  "metadata": {
    "colab": {
      "private_outputs": true,
      "provenance": [],
      "authorship_tag": "ABX9TyN/XMUwmhPgz0xTcYE5hz4z",
      "include_colab_link": true
    },
    "kernelspec": {
      "name": "python3",
      "display_name": "Python 3"
    },
    "language_info": {
      "name": "python"
    }
  },
  "cells": [
    {
      "cell_type": "markdown",
      "metadata": {
        "id": "view-in-github",
        "colab_type": "text"
      },
      "source": [
        "<a href=\"https://colab.research.google.com/github/zzhining/python_ml_dl2/blob/main/5_4_feature_engineering_skeleton.ipynb\" target=\"_parent\"><img src=\"https://colab.research.google.com/assets/colab-badge.svg\" alt=\"Open In Colab\"/></a>"
      ]
    },
    {
      "cell_type": "markdown",
      "source": [
        "# 문제1\n",
        "주어진 데이터를 사용해서 판매량을 예측하는 선형회귀모델을 생성하고자 한다. 아래 조건에 알맞은 신규 특성(feature)을 생성하시오.\n",
        "-\t'year'(연도), 'month'(월), 'day'(일), 'weekday'(요일, 월요일: 0, 일요일:6), 'is_weekend'(주말 여부, 주말: 1, 평일:0), 'quarter’(분기, 1~4) 속성 생성"
      ],
      "metadata": {
        "id": "mCDR8HZNcdg6"
      }
    },
    {
      "cell_type": "code",
      "execution_count": null,
      "metadata": {
        "id": "C-ORf1g47651"
      },
      "outputs": [],
      "source": [
        "import pandas as pd\n",
        "import numpy as np\n",
        "\n",
        "# 날짜 데이터 생성\n",
        "np.random.seed(42)\n",
        "dates = pd.date_range('2023-01-01', periods=100, freq='D')\n",
        "\n",
        "# 가상의 판매량 데이터 생성\n",
        "sales = np.random.randint(50, 200, size=100)\n",
        "\n",
        "# 데이터프레임 생성\n",
        "df = pd.DataFrame({'date': dates, 'sales': sales})"
      ]
    },
    {
      "cell_type": "markdown",
      "source": [
        "<힌트>\n",
        "```\n",
        "dt 속성(year, month, day, weekday, quarter)\n",
        "```"
      ],
      "metadata": {
        "id": "XArQEfbJckOK"
      }
    },
    {
      "cell_type": "code",
      "source": [
        "# 코드 작성\n",
        "\n"
      ],
      "metadata": {
        "id": "jSO5C3ID78S5"
      },
      "execution_count": null,
      "outputs": []
    },
    {
      "cell_type": "markdown",
      "source": [
        "# 문제2\n",
        "문제1의 수행 결과(df)에 대해 학습용 데이터와 테스트용 데이터를 분할하고, 학습용 데이터에 대해 표준화를 사용해서 변환하시오\n",
        "-\t독립변수는 문제1에서 생성한 신규 속성 6개, 종속변수는 `sales`\n",
        "-\t데이터 분할: 학습용:테스트용 = 8:2\n",
        "-\t`random_state` = 42로 설정\n",
        "\n",
        "<힌트>\n",
        "```\n",
        "train_test_split()\n",
        "StandardScaler()\n",
        "```"
      ],
      "metadata": {
        "id": "QBJX82daco4B"
      }
    },
    {
      "cell_type": "code",
      "source": [
        "# 코드 작성\n",
        "\n"
      ],
      "metadata": {
        "id": "smGObh1H8eC1"
      },
      "execution_count": null,
      "outputs": []
    },
    {
      "cell_type": "markdown",
      "source": [
        "# 문제3\n",
        "\n",
        "문제2에서 변환한 학습 데이터를 사용하여 모델을 선형회귀 모델을 학습하고, 각 특성에 해당하는 회귀 계수를 출력하시오. 테스트 데이터를 사용하여 학습 결과의 성능을 확인하기 위한 적절한 평가 지표를 설정하여 소수점 4자리까지 출력하시오.\n",
        "\n",
        "<힌트>\n",
        "```\n",
        "LinearRegression()\n",
        "```"
      ],
      "metadata": {
        "id": "v4Gc3DzqdGHm"
      }
    },
    {
      "cell_type": "code",
      "source": [
        "# 코드 작성\n",
        "\n"
      ],
      "metadata": {
        "id": "DFmMRRG57_hm"
      },
      "execution_count": null,
      "outputs": []
    },
    {
      "cell_type": "code",
      "source": [],
      "metadata": {
        "id": "z5mLkS28Cc4P"
      },
      "execution_count": null,
      "outputs": []
    }
  ]
}