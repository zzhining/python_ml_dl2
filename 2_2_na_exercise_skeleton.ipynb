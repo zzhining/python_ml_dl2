{
  "nbformat": 4,
  "nbformat_minor": 0,
  "metadata": {
    "colab": {
      "provenance": [],
      "authorship_tag": "ABX9TyPxDBgsLzWdL6uyExWyPsKj",
      "include_colab_link": true
    },
    "kernelspec": {
      "name": "python3",
      "display_name": "Python 3"
    },
    "language_info": {
      "name": "python"
    }
  },
  "cells": [
    {
      "cell_type": "markdown",
      "metadata": {
        "id": "view-in-github",
        "colab_type": "text"
      },
      "source": [
        "<a href=\"https://colab.research.google.com/github/zzhining/python_ml_dl2/blob/main/2_2_na_exercise_skeleton.ipynb\" target=\"_parent\"><img src=\"https://colab.research.google.com/assets/colab-badge.svg\" alt=\"Open In Colab\"/></a>"
      ]
    },
    {
      "cell_type": "markdown",
      "source": [
        "# 문제1\n",
        "다음은 `age`, `salary`, `height` 컬럼이 포함된 데이터프레임이다. 다음의 조건에 따라 결측치를 처리하시오.\n",
        "- `age` 컬럼의 결측치는 선형 보간법(linear interpolation)을 사용하여 처리\n",
        "- `salary` 컬럼의 결측치는 평균값으로 대체하고, `height` 컬럼의 결측치는 중앙값으로 대체\n"
      ],
      "metadata": {
        "id": "lT4hR-p7oPtu"
      }
    },
    {
      "cell_type": "code",
      "execution_count": 1,
      "metadata": {
        "id": "QPFCj36KbcsN"
      },
      "outputs": [],
      "source": [
        "import pandas as pd\n",
        "import numpy as np\n",
        "\n",
        "# 데이터프레임 생성\n",
        "data = {\n",
        "    'age': [25, np.nan, 30, 35, np.nan, 40],\n",
        "    'salary': [50000, 55000, np.nan, 60000, 65000, np.nan],\n",
        "    'height': [160, np.nan, 170, 175, 180, np.nan]\n",
        "}\n",
        "\n",
        "df = pd.DataFrame(data)"
      ]
    },
    {
      "cell_type": "markdown",
      "source": [
        "<힌트>\n",
        "```\n",
        "fillna()\n",
        "interpolate()\n",
        "```"
      ],
      "metadata": {
        "id": "9zYWV65moiDw"
      }
    },
    {
      "cell_type": "code",
      "source": [
        "# 코드 작성\n",
        "\n"
      ],
      "metadata": {
        "id": "tuVfEjQhdu9t"
      },
      "execution_count": 2,
      "outputs": []
    },
    {
      "cell_type": "markdown",
      "source": [
        "# 문제2\n",
        "다음은 `age`, `salary`, `height` 컬럼이 포함된 데이터프레임이다. 다음의 조건에 따라 결측치를 처리하시오.\n",
        "- 모든 컬럼에 결측치가 포함된 행을 삭제"
      ],
      "metadata": {
        "id": "syooRJbWoumQ"
      }
    },
    {
      "cell_type": "code",
      "source": [
        "import pandas as pd\n",
        "import numpy as np\n",
        "\n",
        "# 데이터프레임 생성\n",
        "data = {\n",
        "    'age': [25, np.nan, 30, 35, np.nan, 40],\n",
        "    'salary': [50000, 55000, np.nan, 60000, 65000, np.nan],\n",
        "    'height': [160, np.nan, 170, 175, 180, np.nan]\n",
        "}\n",
        "\n",
        "df = pd.DataFrame(data)"
      ],
      "metadata": {
        "id": "U3_s8WM4d23D"
      },
      "execution_count": 3,
      "outputs": []
    },
    {
      "cell_type": "markdown",
      "source": [
        "<힌트>\n",
        "```\n",
        "dropna()\n",
        "```"
      ],
      "metadata": {
        "id": "WmfIEMoio37N"
      }
    },
    {
      "cell_type": "code",
      "source": [
        "# 코드 작성\n",
        "\n"
      ],
      "metadata": {
        "id": "j7FHv_E8d7_Q"
      },
      "execution_count": 5,
      "outputs": []
    },
    {
      "cell_type": "code",
      "source": [],
      "metadata": {
        "id": "mwvqsV9IpCQB"
      },
      "execution_count": null,
      "outputs": []
    }
  ]
}