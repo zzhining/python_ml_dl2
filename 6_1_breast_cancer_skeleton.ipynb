{
  "cells": [
    {
      "cell_type": "markdown",
      "metadata": {
        "id": "view-in-github",
        "colab_type": "text"
      },
      "source": [
        "<a href=\"https://colab.research.google.com/github/zzhining/python_ml_dl2/blob/main/6_1_breast_cancer_skeleton.ipynb\" target=\"_parent\"><img src=\"https://colab.research.google.com/assets/colab-badge.svg\" alt=\"Open In Colab\"/></a>"
      ]
    },
    {
      "cell_type": "markdown",
      "metadata": {
        "id": "gY6Re9u9eyUM"
      },
      "source": [
        "사이킷런의 내장 데이터 셋 중 하나인 [유방암 데이터 셋(breast_cancer)](https://scikit-learn.org/stable/modules/generated/sklearn.datasets.load_breast_cancer.html#sklearn.datasets.load_breast_cancer\n",
        ")을 사용하여 양성 여부(양성: 0/ 음성:1)를 예측하는 모델을 생성한다. 또한 양성 여부를 판단하는 데 있어서 가장 중요한 특징이 무엇인지도 확인해보자.\n",
        "* 코드 작성 시, 랜덤 씨드를 작성해야 하는 경우, 모두 42로 설정한다.\n",
        "* 특별한 조건이 없다면, 매개변수는 디폴트 값을 사용한다.\n"
      ]
    },
    {
      "cell_type": "markdown",
      "source": [
        "# 문제1\n",
        "데이터 셋을 불러오고, 아래 항목을 확인하시오.\n",
        "-\t데이터의 행과 열의 구조(shape)\n",
        "-\t`label`의 유형과 각 유형별 데이터의 개수\n",
        "-\t결측치, 중복값 존재 여부\n"
      ],
      "metadata": {
        "id": "szqfqoXszC_6"
      }
    },
    {
      "cell_type": "code",
      "source": [
        "import pandas as pd\n",
        "import seaborn as sns\n",
        "from sklearn.datasets import load_breast_cancer\n",
        "\n",
        "breast_cancer = load_breast_cancer()\n",
        "\n",
        "df = pd.DataFrame(data=breast_cancer.data, columns=breast_cancer.feature_names)\n",
        "df['label'] = breast_cancer.target"
      ],
      "metadata": {
        "id": "h499OHqizLvH"
      },
      "execution_count": null,
      "outputs": []
    },
    {
      "cell_type": "code",
      "source": [
        "# 코드 작성\n",
        "\n"
      ],
      "metadata": {
        "id": "NqnoiiHrzbl4"
      },
      "execution_count": null,
      "outputs": []
    },
    {
      "cell_type": "markdown",
      "source": [
        "# 문제2\n",
        "‘label’ 열을 제외한 나머지 컬럼을 독립변수(X)로 지정하고 ‘label’ 열은 종속변수(y)로 지정한다. 독립변수에 해당하는 열은 평균 0, 표준편차 1이 되도록 데이터를 변환하시오.\n"
      ],
      "metadata": {
        "id": "yAYzc0Tq0FDZ"
      }
    },
    {
      "cell_type": "code",
      "source": [
        "# 코드 작성\n",
        "\n"
      ],
      "metadata": {
        "id": "fehTAy4G0Jwa"
      },
      "execution_count": null,
      "outputs": []
    },
    {
      "cell_type": "markdown",
      "source": [
        "# 문제3\n",
        "학습용 데이터와 테스트용 데이터를 분할하시오.\n"
      ],
      "metadata": {
        "id": "R3h-1DbGXA3V"
      }
    },
    {
      "cell_type": "code",
      "source": [
        "# 코드 작성\n",
        "\n"
      ],
      "metadata": {
        "id": "bJMX6uHV1EI_"
      },
      "execution_count": null,
      "outputs": []
    },
    {
      "cell_type": "markdown",
      "source": [
        "# 문제4\n",
        "다음의 모델을 생성하여 학습을 수행하고, 테스트 셋을 사용하여 각 모델 별 정확도를 소수점 넷째자리까지 출력하시오.\n",
        "-\t생성 모델: DecisionTree, KNN, SVM, Random Forest, Logistic Rgressor\n",
        "-\tRandom Forest의 n_estimator= 300으로 설정\n"
      ],
      "metadata": {
        "id": "5xHbuVDO1cvz"
      }
    },
    {
      "cell_type": "code",
      "source": [
        "# 코드 작성\n",
        "\n"
      ],
      "metadata": {
        "id": "KybEU5Il2BYY"
      },
      "execution_count": null,
      "outputs": []
    },
    {
      "cell_type": "markdown",
      "source": [
        "# 문제5\n",
        "문제 4에서 생성한 LogisticRegression 모델을 사용하여 혼동 행렬을 생성하고, 오분류 데이터의 개수를 확인하시오.\n"
      ],
      "metadata": {
        "id": "AKxwqoes2Q6w"
      }
    },
    {
      "cell_type": "code",
      "source": [
        "# 코드 작성\n",
        "\n"
      ],
      "metadata": {
        "id": "MiswBKPt2VgM"
      },
      "execution_count": null,
      "outputs": []
    },
    {
      "cell_type": "markdown",
      "source": [
        "# 문제6\n",
        "문제 4에서 생성한 LogisticRegression 모델을 사용하여 분류 모델의 평가지표(정확도, 정밀도, 재현율, f1-score)를 소수점 넷째자리까지 출력하시오. 유방암 예측 모델의 경우, 위의 4가지 지표 중 가장 중요도가 높은 평가 지표가 무엇인지 설명하시오.\n"
      ],
      "metadata": {
        "id": "_CGkoiR_2h0Q"
      }
    },
    {
      "cell_type": "code",
      "source": [
        "# 코드 작성\n",
        "\n"
      ],
      "metadata": {
        "id": "2pFubCG82i9H"
      },
      "execution_count": null,
      "outputs": []
    },
    {
      "cell_type": "markdown",
      "source": [
        "# 문제7\n",
        "문제 4에서 생성한 Random Forest 모델의 GridSearchCV를 사용하여 하이퍼파라미터 튜닝을 수행하고자 한다. 주어진 조건을 사용하여 재현율이 가장 높은 최적 조건을 구하고, 그 때의 테스트 셋의 재현율을 확인하시오.\n"
      ],
      "metadata": {
        "id": "y54Va8Uc2vzn"
      }
    },
    {
      "cell_type": "code",
      "source": [
        "# 코드 작성\n",
        "\n"
      ],
      "metadata": {
        "id": "pwtcbbyC2zgG"
      },
      "execution_count": null,
      "outputs": []
    },
    {
      "cell_type": "markdown",
      "source": [
        "#문제8\n",
        "문제 7에서 확인한 최적의 Random Forest 모델을 사용하여 주어진 데이터 셋을 학습시키고, 예측 결과에 가장 중요한 변수 5개를 확인하시오.\n"
      ],
      "metadata": {
        "id": "gPOwvFwa3GWm"
      }
    },
    {
      "cell_type": "code",
      "source": [
        "# 코드 작성\n",
        "\n"
      ],
      "metadata": {
        "id": "pfPgw_y3Ynes"
      },
      "execution_count": null,
      "outputs": []
    },
    {
      "cell_type": "code",
      "source": [],
      "metadata": {
        "id": "C2tFibmPYY0j"
      },
      "execution_count": null,
      "outputs": []
    }
  ],
  "metadata": {
    "kernelspec": {
      "display_name": "Python 3",
      "language": "python",
      "name": "python3"
    },
    "language_info": {
      "codemirror_mode": {
        "name": "ipython",
        "version": 3
      },
      "file_extension": ".py",
      "mimetype": "text/x-python",
      "name": "python",
      "nbconvert_exporter": "python",
      "pygments_lexer": "ipython3",
      "version": "3.8.5"
    },
    "toc": {
      "base_numbering": 1,
      "nav_menu": {},
      "number_sections": false,
      "sideBar": true,
      "skip_h1_title": false,
      "title_cell": "Table of Contents",
      "title_sidebar": "Contents",
      "toc_cell": false,
      "toc_position": {
        "height": "calc(100% - 180px)",
        "left": "10px",
        "top": "150px",
        "width": "299px"
      },
      "toc_section_display": true,
      "toc_window_display": true
    },
    "colab": {
      "provenance": [],
      "toc_visible": true,
      "include_colab_link": true
    }
  },
  "nbformat": 4,
  "nbformat_minor": 0
}