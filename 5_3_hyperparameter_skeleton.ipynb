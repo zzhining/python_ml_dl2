{
  "nbformat": 4,
  "nbformat_minor": 0,
  "metadata": {
    "colab": {
      "private_outputs": true,
      "provenance": [],
      "authorship_tag": "ABX9TyNMgnv7nuxawrc8FQDl+QOt",
      "include_colab_link": true
    },
    "kernelspec": {
      "name": "python3",
      "display_name": "Python 3"
    },
    "language_info": {
      "name": "python"
    }
  },
  "cells": [
    {
      "cell_type": "markdown",
      "metadata": {
        "id": "view-in-github",
        "colab_type": "text"
      },
      "source": [
        "<a href=\"https://colab.research.google.com/github/zzhining/python_ml_dl2/blob/main/5_3_hyperparameter_skeleton.ipynb\" target=\"_parent\"><img src=\"https://colab.research.google.com/assets/colab-badge.svg\" alt=\"Open In Colab\"/></a>"
      ]
    },
    {
      "cell_type": "markdown",
      "source": [
        "# 문제1\n",
        "붓꽃 데이터를 사용하여 DecisionTreeClassifer를 생성하려고 한다. 아래 조건을 참고하여 DecisionTreeClassifer의 하이퍼파라미터 튜닝을 진행하시오.\n",
        "\n",
        "- `GridSearchCV` 사용\n",
        "- 설정할 파라미터: { 'max_depth': [3, 5, 10], 'min_samples_split': [2, 5, 10], 'min_samples_leaf': [1, 2, 5] }\n",
        "- `scoring`: 정확도, cv: 5\n"
      ],
      "metadata": {
        "id": "p5880Y1sbV3R"
      }
    },
    {
      "cell_type": "code",
      "execution_count": null,
      "metadata": {
        "id": "CtFeLuPCvvdx"
      },
      "outputs": [],
      "source": [
        "from sklearn.datasets import load_iris\n",
        "from sklearn.tree import DecisionTreeClassifier\n",
        "from sklearn.model_selection import train_test_split\n",
        "\n",
        "# 붓꽃 데이터셋 로드\n",
        "X, y = load_iris(return_X_y=True)\n",
        "\n",
        "# 훈련 데이터와 테스트 데이터로 분리\n",
        "X_train, X_test, y_train, y_test = train_test_split(X, y, test_size=0.3, random_state=42)\n",
        "\n",
        "# 의사결정나무 모델 정의\n",
        "dt = DecisionTreeClassifier(random_state=42)"
      ]
    },
    {
      "cell_type": "markdown",
      "source": [
        "<힌트>\n",
        "```\n",
        "GridSearchCV()\n",
        "```"
      ],
      "metadata": {
        "id": "UN76_NnabcYe"
      }
    },
    {
      "cell_type": "code",
      "source": [
        "# 코드 작성\n",
        "\n",
        "\n"
      ],
      "metadata": {
        "id": "fiqwOmuhv0XX"
      },
      "execution_count": null,
      "outputs": []
    },
    {
      "cell_type": "markdown",
      "source": [
        "# 문제2\n",
        "붓꽃 데이터를 사용하여 DecisionTreeClassifer를 생성하려고 한다. 아래 조건을 참고하여 DecisionTreeClassifer의 하이퍼파라미터 튜닝을 진행하시오.\n",
        "- `RandomizedSearchCV` 사용\n",
        "- 설정할 파라미터: {'max_depth': [3, 5, 10], 'min_samples_split': 2부터 20 사이의 임의 값 10개, 'min_samples_leaf': 1부터 20 사이의 임의 값 10개}\n",
        "- `scoring`: 정확도, `cv`: 5, `n_iter`: 100, `random_state`=42\n"
      ],
      "metadata": {
        "id": "8Vu2ZtqpbiR0"
      }
    },
    {
      "cell_type": "code",
      "source": [
        "# 코드 작성\n",
        "\n"
      ],
      "metadata": {
        "id": "Vac0dQwVv5ai"
      },
      "execution_count": null,
      "outputs": []
    },
    {
      "cell_type": "code",
      "source": [],
      "metadata": {
        "id": "zmF0ihAfzFhv"
      },
      "execution_count": null,
      "outputs": []
    }
  ]
}