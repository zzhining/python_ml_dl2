{
  "cells": [
    {
      "cell_type": "markdown",
      "metadata": {
        "id": "view-in-github",
        "colab_type": "text"
      },
      "source": [
        "<a href=\"https://colab.research.google.com/github/zzhining/python_ml_dl2/blob/main/6_4_customer_analysis_skeleton.ipynb\" target=\"_parent\"><img src=\"https://colab.research.google.com/assets/colab-badge.svg\" alt=\"Open In Colab\"/></a>"
      ]
    },
    {
      "cell_type": "markdown",
      "metadata": {
        "id": "Du8CrcJpOu7O"
      },
      "source": [
        "# 문제1\n",
        "[데이터 셋]((https://www.kaggle.com/datasets/vjchoudhary7/customer-segmentation-tutorial-in-python))을 불러오고, 아래 항목을 확인하시오.\n",
        "-\t데이터의 행과 열의 구조(shape)\n",
        "-\t상위 5개 항목 출력\n",
        "-\t`Gender`의 유형과 각 유형별 데이터의 개수"
      ]
    },
    {
      "cell_type": "code",
      "execution_count": null,
      "metadata": {
        "id": "9HmLqZwvOu7T"
      },
      "outputs": [],
      "source": [
        "import numpy as np\n",
        "import pandas as pd\n",
        "\n",
        "df = pd.read_csv('https://raw.githubusercontent.com/zzhining/ml_basic/main/dataset/Mall_Customers.csv')"
      ]
    },
    {
      "cell_type": "code",
      "execution_count": null,
      "metadata": {
        "id": "Dl7cCDVxOu7U"
      },
      "outputs": [],
      "source": [
        "# 코드 작성\n",
        "\n"
      ]
    },
    {
      "cell_type": "markdown",
      "source": [
        "#문제2\n",
        "성별(`Gender`)에 따른 연간 소득(`Annual Income`)의 평균을 비교하시오.\n",
        "- 막대 그래프를 사용하여 시각화 할 것\n",
        "- x축은 `Gender`, y축은 `Annual Income`으로 설정\n"
      ],
      "metadata": {
        "id": "fvX1Otp3Ibcc"
      }
    },
    {
      "cell_type": "code",
      "source": [
        "# 코드 작성\n",
        "\n"
      ],
      "metadata": {
        "id": "dw9rQsjidsdY"
      },
      "execution_count": null,
      "outputs": []
    },
    {
      "cell_type": "markdown",
      "source": [
        "# 문제3\n",
        "성별(`Gender`)에 따른 소비 점수(`Spending Score`)의 분포를 비교하시오.\n",
        "- 박스 그래프를 사용하여 시각화 할 것\n",
        "- x축은 `Gender`, y축은 `Spending Score (1-100)`으로 설정"
      ],
      "metadata": {
        "id": "aQs068ukJEyr"
      }
    },
    {
      "cell_type": "code",
      "source": [
        "# 코드 작성\n",
        "\n"
      ],
      "metadata": {
        "id": "IC_ZVoL0e96F"
      },
      "execution_count": null,
      "outputs": []
    },
    {
      "cell_type": "markdown",
      "source": [
        "# 문제4\n",
        "나이(`Age`)에 따른 연간 소득(`Annual Income`)의 분포를 확인하시오.\n",
        "- 산점도를 사용하여 시각화 할 것\n",
        "- x축은 `Age`, y축은 `Annual Income (k$)`으로 설정\n"
      ],
      "metadata": {
        "id": "q2KUhpdPJVuY"
      }
    },
    {
      "cell_type": "code",
      "source": [
        "# 코드 작성\n",
        "\n"
      ],
      "metadata": {
        "id": "Em-hWTivfDbt"
      },
      "execution_count": null,
      "outputs": []
    },
    {
      "cell_type": "markdown",
      "source": [
        "#문제5\n",
        "나이(`Age`)에 따른 소비 점수(`Spending Score`)의 분포를 확인하시오.\n",
        "- 산점도를 사용하여 시각화 할 것\n",
        "- x축은 `Age`, y축은 `Spending Score (1-100)`으로 설정\n"
      ],
      "metadata": {
        "id": "tGw1j6NiJZL0"
      }
    },
    {
      "cell_type": "code",
      "source": [
        "# 코드 작성\n",
        "\n"
      ],
      "metadata": {
        "id": "rBn6lkEDfKRE"
      },
      "execution_count": null,
      "outputs": []
    },
    {
      "cell_type": "markdown",
      "source": [
        "# 문제6\n",
        "연간 소득(`Annual Income`)과 소비 점수(`Spending Score`)의 분포를 확인하시오.\n",
        "- 산점도를 사용하여 시각화 할 것\n",
        "- x축은 연간 소득(`Annual Income`), y축은 소비 점수(`Spending Score`)으로 설정\n"
      ],
      "metadata": {
        "id": "c3vgMveHJcJd"
      }
    },
    {
      "cell_type": "code",
      "source": [
        "# 코드 작성\n",
        "\n"
      ],
      "metadata": {
        "id": "529xBPEjfP1O"
      },
      "execution_count": null,
      "outputs": []
    },
    {
      "cell_type": "markdown",
      "metadata": {
        "id": "L_yjcxuFOu7W"
      },
      "source": [
        "# 문제7\n",
        "데이터 분석에 불필요한 컬럼은 삭제한다. `CustomerID`는 고객을 관리하기 위한 값으로, 데이터 분석에는 사용하지 않는다. 데이터프레임(`df`)에서 `CustomerID` 컬럼을 삭제하시오."
      ]
    },
    {
      "cell_type": "code",
      "source": [
        "# 코드 작성\n",
        "\n"
      ],
      "metadata": {
        "id": "G9BqFDQqaK4i"
      },
      "execution_count": null,
      "outputs": []
    },
    {
      "cell_type": "markdown",
      "source": [
        "# 문제8\n",
        "`Gender` 컬럼은은 Male, Female 형태의 문자로 구분되어 있다. 수치형 변수로 변환하시오.\n",
        "- Male인 경우에는 0, Female인 경우에는 1\n"
      ],
      "metadata": {
        "id": "NDMJ-w3LJkIv"
      }
    },
    {
      "cell_type": "code",
      "source": [
        "# 코드 작성\n",
        "\n"
      ],
      "metadata": {
        "id": "-KYsobLpat9k"
      },
      "execution_count": null,
      "outputs": []
    },
    {
      "cell_type": "markdown",
      "source": [
        "# 문제9\n",
        "나이, 연간 소득, 소비 점수의 속성에 대해 `StandardScaler`를 사용하여 데이터의 스케일을 변환하시오"
      ],
      "metadata": {
        "id": "1fgpZmiNJqW5"
      }
    },
    {
      "cell_type": "code",
      "execution_count": null,
      "metadata": {
        "id": "qL39awSKOu7W"
      },
      "outputs": [],
      "source": [
        "# 코드 작성\n",
        "\n"
      ]
    },
    {
      "cell_type": "markdown",
      "source": [
        "# 문제10\n",
        "문제9에서 전처리한 데이터를 사용하여 `KMeans` 클러스터링을 수행하고, 군집 생성 결과에 대해 실루엣 점수를 소수점 넷째자리까지 출력하시오.\n",
        "-\t`KMeans`의 `n_clusters`의 값을 2로 설정\n",
        "\n"
      ],
      "metadata": {
        "id": "1jgocyt4ZFkP"
      }
    },
    {
      "cell_type": "code",
      "source": [
        "# 코드 작성\n",
        "\n"
      ],
      "metadata": {
        "id": "LhHCKO_EZA3o"
      },
      "execution_count": null,
      "outputs": []
    },
    {
      "cell_type": "markdown",
      "metadata": {
        "id": "u4lFSECIOu7X"
      },
      "source": [
        "#문제11\n",
        "군집 모델의 성능을 개선하기 위해 `KMeans`의 주요 하이퍼파라미터인 `n_clusters` 를 조절하고, 군집개수에 따른 실루엣 점수를 출력하시오.\n",
        "-\t군집개수를 2개부터 11개까지 순차적으로 증가\n",
        "\n"
      ]
    },
    {
      "cell_type": "code",
      "source": [
        "# 코드 작성\n",
        "\n"
      ],
      "metadata": {
        "id": "c-UvafpDRNFg"
      },
      "execution_count": null,
      "outputs": []
    },
    {
      "cell_type": "markdown",
      "source": [
        "#문제12\n",
        "문제11에서 실루엣 점수가 가장 높은 클러스터의 수로 군집 모델을 생성하고, 생성된 군집에 따라 색상을 달리하여 시각화하시오. 시각화 결과를 해석하고, 각 군집에 적합한 네이밍을 하시오.\n",
        "-\t시각화 방법: 산점도\n",
        "-\tX축: 'Annual Income (k$)'\n",
        "-\tY축: 'Spending Score (1-100)'\n"
      ],
      "metadata": {
        "id": "ZY6tR1fLJ434"
      }
    },
    {
      "cell_type": "code",
      "execution_count": null,
      "metadata": {
        "id": "eaPUedfzOu7b"
      },
      "outputs": [],
      "source": [
        "# 코드 작성\n",
        "\n"
      ]
    },
    {
      "cell_type": "markdown",
      "source": [
        "#문제13\n",
        "문제12에서 생성한 클러스터의 수가 실무에서 관리하기에 많은 수라고 판단되어 클러스터의 수를 조정하려고 한다. 생성한 클러스터의 수보다 1개 적을 때, 2개 적을 때 각각의 실루엣 점수를 확인하고, 각 군집별 실루엣 점수를 시각화 하시오.\n",
        "-\t군집별 실루엣 점수 시각화 방법: `plotSihouette(k, y_preds)`함수 사용\n",
        "-\t`k`: 클러스터의 수\n",
        "-\t`y_preds`: 할당된 클러스터 값\n"
      ],
      "metadata": {
        "id": "xedUHyQoKJmF"
      }
    },
    {
      "cell_type": "code",
      "source": [
        "from sklearn.metrics import silhouette_samples, silhouette_score\n",
        "\n",
        "def plotSilhouette(n_clusters, y_preds):\n",
        "    fig, ax1 = plt.subplots(1, 1)\n",
        "    fig.set_size_inches(8, 6)\n",
        "    y_lower = 10\n",
        "    silhouette_avg = silhouette_score(X, y_preds)\n",
        "    sample_silhouette_values = silhouette_samples(X, y_preds)\n",
        "    print(\"군집개수: {0}개, 평균 실루엣 점수: {1:.4f}\".format(k, silhouette_avg))\n",
        "\n",
        "    for i in range(n_clusters):\n",
        "        ith_cluster_silhouette_values = sample_silhouette_values[y_preds == i]\n",
        "\n",
        "        ith_cluster_silhouette_values.sort()\n",
        "\n",
        "        size_cluster_i = ith_cluster_silhouette_values.shape[0]\n",
        "        y_upper = y_lower + size_cluster_i\n",
        "\n",
        "        color = cm.nipy_spectral(float(i) / n_clusters)\n",
        "        ax1.fill_betweenx(np.arange(y_lower, y_upper), 0, ith_cluster_silhouette_values,\n",
        "                          facecolor=color, edgecolor=color, alpha=0.7)\n",
        "        ax1.text(-0.05, y_lower + 0.5 * size_cluster_i, str(i))\n",
        "        y_lower = y_upper + 10\n",
        "\n",
        "    ax1.set_title(\"The silhouette plot for the {0} clusters.\".format(n_clusters))\n",
        "    ax1.set_xlabel(\"The silhouette coefficient values\")\n",
        "    ax1.set_ylabel(\"Cluster label\")\n",
        "    ax1.axvline(x=silhouette_avg, color=\"red\", linestyle=\"--\")\n",
        "\n",
        "    ax1.set_yticks([])\n",
        "    ax1.set_xticks([-0.1, 0, 0.2, 0.4, 0.6, 0.8, 1])\n",
        "\n",
        "    plt.show()"
      ],
      "metadata": {
        "id": "QL-S9kXNKOIR"
      },
      "execution_count": null,
      "outputs": []
    },
    {
      "cell_type": "code",
      "source": [
        "# 코드 작성\n",
        "\n"
      ],
      "metadata": {
        "id": "Vt2AS9gtKTfj"
      },
      "execution_count": null,
      "outputs": []
    }
  ],
  "metadata": {
    "kernelspec": {
      "display_name": "Python 3",
      "language": "python",
      "name": "python3"
    },
    "language_info": {
      "codemirror_mode": {
        "name": "ipython",
        "version": 3
      },
      "file_extension": ".py",
      "mimetype": "text/x-python",
      "name": "python",
      "nbconvert_exporter": "python",
      "pygments_lexer": "ipython3",
      "version": "3.8.5"
    },
    "toc": {
      "base_numbering": 1,
      "nav_menu": {},
      "number_sections": false,
      "sideBar": true,
      "skip_h1_title": false,
      "title_cell": "Table of Contents",
      "title_sidebar": "Contents",
      "toc_cell": false,
      "toc_position": {},
      "toc_section_display": true,
      "toc_window_display": false
    },
    "colab": {
      "provenance": [],
      "include_colab_link": true
    }
  },
  "nbformat": 4,
  "nbformat_minor": 0
}