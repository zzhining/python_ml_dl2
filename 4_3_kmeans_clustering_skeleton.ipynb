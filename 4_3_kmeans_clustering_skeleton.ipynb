{
  "nbformat": 4,
  "nbformat_minor": 0,
  "metadata": {
    "colab": {
      "private_outputs": true,
      "provenance": [],
      "authorship_tag": "ABX9TyOsr5WPmcpcfnIKuX9AYi1D",
      "include_colab_link": true
    },
    "kernelspec": {
      "name": "python3",
      "display_name": "Python 3"
    },
    "language_info": {
      "name": "python"
    }
  },
  "cells": [
    {
      "cell_type": "markdown",
      "metadata": {
        "id": "view-in-github",
        "colab_type": "text"
      },
      "source": [
        "<a href=\"https://colab.research.google.com/github/zzhining/python_ml_dl2/blob/main/4_3_kmeans_clustering_skeleton.ipynb\" target=\"_parent\"><img src=\"https://colab.research.google.com/assets/colab-badge.svg\" alt=\"Open In Colab\"/></a>"
      ]
    },
    {
      "cell_type": "markdown",
      "source": [
        "# 문제1\n",
        "다음은 붓꽃 데이터 셋에 대해 표준화를 수행한 결과(X_scaled)이다. X_scaled에 대해 KMeans 군집 방식으로 클러스터링을 수행하고, 예측값을 확인하시오.\n",
        "-\t클러스터링 수: 3개"
      ],
      "metadata": {
        "id": "glCOvGrqXYAE"
      }
    },
    {
      "cell_type": "code",
      "source": [
        "import numpy as np\n",
        "import pandas as pd\n",
        "from sklearn.datasets import load_iris\n",
        "from sklearn.preprocessing import StandardScaler\n",
        "\n",
        "# 붓꽃 데이터셋 로드\n",
        "data = load_iris()\n",
        "X = data.data\n",
        "y = data.target\n",
        "\n",
        "# 데이터 표준화 (스케일 조정)\n",
        "scaler = StandardScaler()\n",
        "X_scaled = scaler.fit_transform(X)"
      ],
      "metadata": {
        "id": "Q54vL8zqKRIB"
      },
      "execution_count": null,
      "outputs": []
    },
    {
      "cell_type": "markdown",
      "source": [
        "\n",
        "<힌트>\n",
        "```\n",
        "KMeans()\n",
        "```"
      ],
      "metadata": {
        "id": "Dob4K-zcXjf2"
      }
    },
    {
      "cell_type": "code",
      "source": [
        "# 코드 작성\n",
        "\n",
        "\n"
      ],
      "metadata": {
        "id": "TmUKqvnpKX2r"
      },
      "execution_count": null,
      "outputs": []
    },
    {
      "cell_type": "markdown",
      "source": [
        "# 문제2\n",
        "문제 1에서 예측한 군집 결과와 원본 데이터에 대해서 시각화 하시오.\n",
        "-\t시각화 방법: 산점도(scatter plot)\n",
        "-\tx축: X_scaled 4개의 특성 중 [0] 값, y축: X_scaled 4개의 특성 중 [1] 값\n",
        "-\t각 군집에 따라 다른 색상으로 표시\n",
        "\n",
        "<힌트>\n",
        "```\n",
        "sns.scatterplot()\n",
        "```\n"
      ],
      "metadata": {
        "id": "8x8wwVtjXqbS"
      }
    },
    {
      "cell_type": "code",
      "source": [
        "# 코드 작성\n",
        "\n",
        "\n"
      ],
      "metadata": {
        "id": "Abx65c_zKdrd"
      },
      "execution_count": null,
      "outputs": []
    },
    {
      "cell_type": "markdown",
      "source": [
        "# 문제3\n",
        "KMeans 클러스터링 결과 군집 중심을 출력하고, 문제 2의 KMeans 시각화에 군집 중심을 더하여 표시하시오.\n",
        "\n",
        "<힌트>\n",
        "```\n",
        "cluster_centers_\n",
        "```\n"
      ],
      "metadata": {
        "id": "eyV7Wp-SX1l1"
      }
    },
    {
      "cell_type": "code",
      "source": [
        "# 코드 작성\n",
        "\n",
        "\n"
      ],
      "metadata": {
        "id": "AoSp84ETbnuN"
      },
      "execution_count": null,
      "outputs": []
    },
    {
      "cell_type": "code",
      "source": [],
      "metadata": {
        "id": "qGvSMToBceli"
      },
      "execution_count": null,
      "outputs": []
    }
  ]
}