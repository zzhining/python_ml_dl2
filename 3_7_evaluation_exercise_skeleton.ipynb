{
  "cells": [
    {
      "cell_type": "markdown",
      "metadata": {
        "id": "view-in-github",
        "colab_type": "text"
      },
      "source": [
        "<a href=\"https://colab.research.google.com/github/zzhining/python_ml_dl2/blob/main/3_7_evaluation_exercise_skeleton.ipynb\" target=\"_parent\"><img src=\"https://colab.research.google.com/assets/colab-badge.svg\" alt=\"Open In Colab\"/></a>"
      ]
    },
    {
      "cell_type": "markdown",
      "metadata": {
        "id": "9m9HneEAjagJ"
      },
      "source": [
        "# 문제1\n",
        "다음 데이터를 사용하여 정확도, 정밀도, 재현율, f1 스코어, 혼동행렬을 출력하는 코드를 작성하시오.\n"
      ]
    },
    {
      "cell_type": "code",
      "execution_count": null,
      "metadata": {
        "id": "cs928YsCjagO"
      },
      "outputs": [],
      "source": [
        "# 예시 데이터\n",
        "y_true = [0, 1, 0, 1, 0, 1, 1, 0, 1, 0]\n",
        "y_pred = [0, 1, 0, 0, 0, 1, 1, 0, 1, 1]\n",
        "y_score = [0.1, 0.9, 0.2, 0.4, 0.3, 0.8, 0.7, 0.2, 0.9, 0.85]"
      ]
    },
    {
      "cell_type": "code",
      "execution_count": null,
      "metadata": {
        "id": "N9hTKSeojagQ"
      },
      "outputs": [],
      "source": [
        "# 코드 작성\n",
        "\n"
      ]
    },
    {
      "cell_type": "markdown",
      "source": [
        "#문제2\n",
        "다음의 로지스틱 회귀 모델의 훈련 결과를 ROC 커브로 시각화하여 표시하시오."
      ],
      "metadata": {
        "id": "0D94XXdxcuoZ"
      }
    },
    {
      "cell_type": "code",
      "execution_count": null,
      "metadata": {
        "id": "XyNiFJFnjagR"
      },
      "outputs": [],
      "source": [
        "import matplotlib.pyplot as plt\n",
        "from sklearn.model_selection import train_test_split\n",
        "from sklearn.datasets import make_classification\n",
        "from sklearn.linear_model import LogisticRegression\n",
        "\n",
        "# 예시 데이터 생성\n",
        "X, y = make_classification(n_samples=1000, n_features=20, n_classes=2, random_state=42)\n",
        "X_train, X_test, y_train, y_test = train_test_split(X, y, test_size=0.3, random_state=42)\n",
        "\n",
        "# 로지스틱 회귀 모델 훈련\n",
        "model = LogisticRegression()\n",
        "model.fit(X_train, y_train)\n",
        "\n",
        "# 예측 확률 계산\n",
        "y_score = model.predict_proba(X_test)[:, 1]  # 양성 클래스의 확률"
      ]
    },
    {
      "cell_type": "code",
      "execution_count": null,
      "metadata": {
        "id": "0zGUwgyxjagR"
      },
      "outputs": [],
      "source": [
        "# 코드 작성\n"
      ]
    },
    {
      "cell_type": "markdown",
      "source": [
        "# 문제3\n",
        "주어진 데이터에 대해 MSE, RMSE, 결정계수 값을 계산하여 출력하시오.\n"
      ],
      "metadata": {
        "id": "aCOwaipHc4UH"
      }
    },
    {
      "cell_type": "code",
      "execution_count": null,
      "metadata": {
        "id": "QyY84VHCjagS"
      },
      "outputs": [],
      "source": [
        "y_true = [0, 1, 2, 3, 4, 5]\n",
        "y_pred = [0, 1.2, 3.3, 3.9, 3.8, 5.2]"
      ]
    },
    {
      "cell_type": "code",
      "execution_count": null,
      "metadata": {
        "id": "8Qt-hVFMjagT"
      },
      "outputs": [],
      "source": [
        "# 코드 작성\n"
      ]
    },
    {
      "cell_type": "code",
      "source": [],
      "metadata": {
        "id": "PVKcR-ZpdnT6"
      },
      "execution_count": null,
      "outputs": []
    }
  ],
  "metadata": {
    "kernelspec": {
      "display_name": "Python 3",
      "language": "python",
      "name": "python3"
    },
    "language_info": {
      "codemirror_mode": {
        "name": "ipython",
        "version": 3
      },
      "file_extension": ".py",
      "mimetype": "text/x-python",
      "name": "python",
      "nbconvert_exporter": "python",
      "pygments_lexer": "ipython3",
      "version": "3.8.5"
    },
    "toc": {
      "base_numbering": 1,
      "nav_menu": {},
      "number_sections": false,
      "sideBar": true,
      "skip_h1_title": false,
      "title_cell": "Table of Contents",
      "title_sidebar": "Contents",
      "toc_cell": false,
      "toc_position": {},
      "toc_section_display": true,
      "toc_window_display": false
    },
    "colab": {
      "provenance": [],
      "toc_visible": true,
      "include_colab_link": true
    }
  },
  "nbformat": 4,
  "nbformat_minor": 0
}