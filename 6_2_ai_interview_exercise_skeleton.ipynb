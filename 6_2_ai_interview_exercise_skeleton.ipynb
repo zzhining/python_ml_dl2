{
  "nbformat": 4,
  "nbformat_minor": 0,
  "metadata": {
    "colab": {
      "private_outputs": true,
      "provenance": [],
      "authorship_tag": "ABX9TyMokm3ywEBGcqHAZC2rUMil",
      "include_colab_link": true
    },
    "kernelspec": {
      "name": "python3",
      "display_name": "Python 3"
    },
    "language_info": {
      "name": "python"
    }
  },
  "cells": [
    {
      "cell_type": "markdown",
      "metadata": {
        "id": "view-in-github",
        "colab_type": "text"
      },
      "source": [
        "<a href=\"https://colab.research.google.com/github/zzhining/python_ml_dl2/blob/main/6_2_ai_interview_exercise_skeleton.ipynb\" target=\"_parent\"><img src=\"https://colab.research.google.com/assets/colab-badge.svg\" alt=\"Open In Colab\"/></a>"
      ]
    },
    {
      "cell_type": "markdown",
      "source": [
        "# 문제1\n",
        "회사를 운영하는 입장에서 새로운 직원을 뽑을 때, 단순히 \"느낌이 좋다\"는 이유만으로 채용할 수는 없다. 대부분 지원자의 학점, 코딩 테스트 점수, 면접 태도 등 여러 요소를 종합적으로 고려하여 최종 결정을 내린다. 그렇다면, 만약 AI가 면접관 역할을 맡는다면 어떻게 평가할까? 머신러닝을 이용해 지원자의 정보를 분석하고, \"합격\" 또는 \"불합격\"으로 분류하는 AI 면접관을 만들어보자.\n",
        "임의로 가상의 지원자 데이터셋을 생성하였다. 주어진 데이터셋을 사용해 AI가 자동으로 지원자의 합격 여부를 예측하도록 학습시켜보자.\n",
        "- 문제유형: 이진 분류(합격/불합격)\n",
        "- 데이터를 80%는 학습용, 20%는 테스트용으로 나눌 것\n",
        "- 로지스틱 회귀(Logistic Regression) 모델 사용하여 학습을 시킬 것\n",
        "- 테스트 용 데이터를 사용하여 합격 여부를 예측\n",
        "- 테스트 용 데이터를 사용하여 모델의 예측 정확도를 확인\n"
      ],
      "metadata": {
        "id": "2GVTSxaf7Vrp"
      }
    },
    {
      "cell_type": "code",
      "source": [
        "import pandas as pd\n",
        "import numpy as np\n",
        "\n",
        "df = pd.read_csv('https://raw.githubusercontent.com/zzhining/python_ml_dl/refs/heads/main/dataset/interview_data.csv')\n",
        "\n",
        "X = df[['GPA', 'Coding_Score', 'Interview_Attitude']]  # 특성 데이터\n",
        "y = df['Outcome']  # 타겟 변수 데이터"
      ],
      "metadata": {
        "id": "2bIGTiGb3XSI"
      },
      "execution_count": null,
      "outputs": []
    },
    {
      "cell_type": "code",
      "source": [
        "# 코드 작성\n",
        "\n"
      ],
      "metadata": {
        "id": "PkKqePSAdU6h"
      },
      "execution_count": null,
      "outputs": []
    },
    {
      "cell_type": "markdown",
      "source": [
        "# 문제2\n",
        "AI 면접관의 성능을 개선하기 위한 방법을 제시하고, 코드를 작성하시오."
      ],
      "metadata": {
        "id": "MLTS08L179um"
      }
    },
    {
      "cell_type": "code",
      "source": [
        "# 코드 작성\n",
        "\n"
      ],
      "metadata": {
        "id": "qrsVVm324iP_"
      },
      "execution_count": null,
      "outputs": []
    },
    {
      "cell_type": "code",
      "source": [],
      "metadata": {
        "id": "dt-AkeYc8aah"
      },
      "execution_count": null,
      "outputs": []
    }
  ]
}