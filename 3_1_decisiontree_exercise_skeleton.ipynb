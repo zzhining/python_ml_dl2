{
  "cells": [
    {
      "cell_type": "markdown",
      "metadata": {
        "id": "view-in-github",
        "colab_type": "text"
      },
      "source": [
        "<a href=\"https://colab.research.google.com/github/zzhining/python_ml_dl2/blob/main/3_1_decisiontree_exercise_skeleton.ipynb\" target=\"_parent\"><img src=\"https://colab.research.google.com/assets/colab-badge.svg\" alt=\"Open In Colab\"/></a>"
      ]
    },
    {
      "cell_type": "markdown",
      "metadata": {
        "id": "03ZCwN-Cm-_7"
      },
      "source": [
        "# 문제1\n",
        "사이킷런에서 제공하는 [붓꽃(iris) 데이터 셋](https://scikit-learn.org/stable/modules/generated/sklearn.datasets.load_iris.html#sklearn.datasets.load_iris)을 사용하여 3개의 품종(`Versicolor`, `Setosa`, `Virginica`)을 분류하는 `Decision Tree`를 생성하시오.\n",
        "- 주어진 데이터프레임(`iris_df`)을 사용할 것\n",
        "- 데이터 전처리\n",
        "①\t결측치, 중복값을 확인하고, 결측치와 중복값이 존재할 경우 삭제할 것\n",
        "②\t종속변수는 `label` 컬럼을, 독립변수는 나머지 컬럼을 모두 `사용할 것\n",
        "③\t`train_test_split()`을 사용하여 데이터를 분할하고, 종속변수의 범주를 고려하여 분할할 것\n",
        "④\t데이터 분할과 모델 생성 시, `random_state`는 42로 설정할 것"
      ]
    },
    {
      "cell_type": "code",
      "execution_count": null,
      "metadata": {
        "id": "QcB0pbuom-__"
      },
      "outputs": [],
      "source": [
        "# 패키지 로딩\n",
        "import numpy as np\n",
        "import pandas as pd\n",
        "from sklearn.datasets import load_iris\n",
        "\n",
        "# 데이터 로딩\n",
        "iris = load_iris()\n",
        "\n",
        "# 로딩한 데이터를 데이터 프레임으로 생성\n",
        "iris_df = pd.DataFrame(data=iris.data, columns=iris.feature_names)\n",
        "iris_df['label'] = iris.target"
      ]
    },
    {
      "cell_type": "code",
      "execution_count": null,
      "metadata": {
        "id": "SmsAvGBTm_AB"
      },
      "outputs": [],
      "source": [
        "# 코드 작성\n",
        "\n"
      ]
    },
    {
      "cell_type": "markdown",
      "source": [
        "# 문제 2\n",
        "학습이 완료된 모델을 시각화하여 표시하였다. 최상위 노드는 어떤 기준으로 가지를 분할하였는지 설명하시오.\n",
        "\n"
      ],
      "metadata": {
        "id": "S-d-dMWENHtM"
      }
    },
    {
      "cell_type": "code",
      "execution_count": null,
      "metadata": {
        "id": "TYBR1jZCoGkg"
      },
      "outputs": [],
      "source": [
        "from sklearn.tree import export_graphviz\n",
        "from subprocess import call\n",
        "from IPython.display import Image\n",
        "\n",
        "# 의사결정나무 모델을 dot 파일로 추출\n",
        "export_graphviz(model, out_file='tree.dot')\n",
        "\n",
        "# dot 파일을 .png로 변환\n",
        "call(['dot', '-Tpng', 'tree.dot', '-o', 'tree.png', '-Gdpi=600'])\n",
        "\n",
        "# png 출력\n",
        "Image(filename = 'tree.png', width = 600, height = 800)"
      ]
    },
    {
      "cell_type": "markdown",
      "metadata": {
        "id": "93EZ2a7Otgq8"
      },
      "source": [
        "# 문제3\n",
        "테스트 셋을 사용하여 위에서 생성한 Decision Tree 모델의 정확도를 출력하시오.\n"
      ]
    },
    {
      "cell_type": "code",
      "execution_count": null,
      "metadata": {
        "id": "FLX0X4Afm_AI"
      },
      "outputs": [],
      "source": [
        "# 코드 작성\n",
        "\n"
      ]
    },
    {
      "cell_type": "markdown",
      "metadata": {
        "id": "tPl5J6dAtgq9"
      },
      "source": [
        "# 문제4\n",
        "위에서 생성한 Decision Tree 모델을 활용하여 다음의 값을 포함하고 있는 꽃(new)은 어떤 품종으로 예측되는지 출력하시오.\n"
      ]
    },
    {
      "cell_type": "code",
      "source": [
        "new = np.array([[5.4, 4, 1.5, 0.2]])"
      ],
      "metadata": {
        "id": "3a5DU2gRNq8c"
      },
      "execution_count": null,
      "outputs": []
    },
    {
      "cell_type": "code",
      "execution_count": null,
      "metadata": {
        "id": "EznjuvD_m_AI"
      },
      "outputs": [],
      "source": [
        "# 코드 작성\n",
        "\n"
      ]
    }
  ],
  "metadata": {
    "colab": {
      "provenance": [],
      "toc_visible": true,
      "include_colab_link": true
    },
    "kernelspec": {
      "display_name": "Python 3",
      "language": "python",
      "name": "python3"
    },
    "language_info": {
      "codemirror_mode": {
        "name": "ipython",
        "version": 3
      },
      "file_extension": ".py",
      "mimetype": "text/x-python",
      "name": "python",
      "nbconvert_exporter": "python",
      "pygments_lexer": "ipython3",
      "version": "3.8.5"
    },
    "toc": {
      "base_numbering": 1,
      "nav_menu": {},
      "number_sections": false,
      "sideBar": true,
      "skip_h1_title": false,
      "title_cell": "Table of Contents",
      "title_sidebar": "Contents",
      "toc_cell": false,
      "toc_position": {
        "height": "calc(100% - 180px)",
        "left": "10px",
        "top": "150px",
        "width": "228px"
      },
      "toc_section_display": true,
      "toc_window_display": true
    }
  },
  "nbformat": 4,
  "nbformat_minor": 0
}